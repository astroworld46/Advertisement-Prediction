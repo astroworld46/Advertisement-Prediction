{
 "cells": [
  {
   "cell_type": "markdown",
   "metadata": {},
   "source": [
    "### Business Objective :\n",
    "The companies have approached the advertising agency to plan and execute ad campaigns that will help them increase the footfall in their stores.The objective is to predict the revenue generated will cover costs to produce and air the ad(Whether there will be a net gain from an ad or not).Thus, this would help the companies to decide wheterht o pusue with such ad compaigns or not.\n",
    "\n",
    "Data Science Objective : This clearly indicates that it is a binary classification problem where we can use different algorithm such as logistic regression to predict whether there will be net gain or not.\n"
   ]
  },
  {
   "cell_type": "markdown",
   "metadata": {},
   "source": [
    "### Step1 : Read and Inspect the data"
   ]
  },
  {
   "cell_type": "code",
   "execution_count": 173,
   "metadata": {},
   "outputs": [],
   "source": [
    "# import the necessary libraries and then read the train and the test data\n",
    "import pandas as pd\n",
    "import numpy as np\n",
    "\n",
    "df_train = pd.read_csv(\"train.csv\")\n",
    "df_test = pd.read_csv(\"test.csv\")"
   ]
  },
  {
   "cell_type": "code",
   "execution_count": 174,
   "metadata": {},
   "outputs": [
    {
     "data": {
      "text/html": [
       "<div>\n",
       "<style scoped>\n",
       "    .dataframe tbody tr th:only-of-type {\n",
       "        vertical-align: middle;\n",
       "    }\n",
       "\n",
       "    .dataframe tbody tr th {\n",
       "        vertical-align: top;\n",
       "    }\n",
       "\n",
       "    .dataframe thead th {\n",
       "        text-align: right;\n",
       "    }\n",
       "</style>\n",
       "<table border=\"1\" class=\"dataframe\">\n",
       "  <thead>\n",
       "    <tr style=\"text-align: right;\">\n",
       "      <th></th>\n",
       "      <th>UserID</th>\n",
       "      <th>realtionship_status</th>\n",
       "      <th>industry</th>\n",
       "      <th>genre</th>\n",
       "      <th>targeted_sex</th>\n",
       "      <th>average_runtime(minutes_per_week)</th>\n",
       "      <th>airtime</th>\n",
       "      <th>airlocation</th>\n",
       "      <th>ratings</th>\n",
       "      <th>expensive</th>\n",
       "      <th>money_back_guarantee</th>\n",
       "      <th>netgain</th>\n",
       "    </tr>\n",
       "  </thead>\n",
       "  <tbody>\n",
       "    <tr>\n",
       "      <th>0</th>\n",
       "      <td>UI_9185</td>\n",
       "      <td>Married-civ-spouse</td>\n",
       "      <td>Pharma</td>\n",
       "      <td>Comedy</td>\n",
       "      <td>Male</td>\n",
       "      <td>40</td>\n",
       "      <td>Daytime</td>\n",
       "      <td>United-States</td>\n",
       "      <td>0.027465</td>\n",
       "      <td>Medium</td>\n",
       "      <td>No</td>\n",
       "      <td>0</td>\n",
       "    </tr>\n",
       "    <tr>\n",
       "      <th>1</th>\n",
       "      <td>UI_449</td>\n",
       "      <td>Never-married</td>\n",
       "      <td>Political</td>\n",
       "      <td>Comedy</td>\n",
       "      <td>Male</td>\n",
       "      <td>35</td>\n",
       "      <td>Morning</td>\n",
       "      <td>International</td>\n",
       "      <td>0.027465</td>\n",
       "      <td>Low</td>\n",
       "      <td>No</td>\n",
       "      <td>0</td>\n",
       "    </tr>\n",
       "    <tr>\n",
       "      <th>2</th>\n",
       "      <td>UI_9014</td>\n",
       "      <td>Never-married</td>\n",
       "      <td>Auto</td>\n",
       "      <td>Comedy</td>\n",
       "      <td>Male</td>\n",
       "      <td>40</td>\n",
       "      <td>Morning</td>\n",
       "      <td>United-States</td>\n",
       "      <td>0.027465</td>\n",
       "      <td>Low</td>\n",
       "      <td>No</td>\n",
       "      <td>0</td>\n",
       "    </tr>\n",
       "    <tr>\n",
       "      <th>3</th>\n",
       "      <td>UI_14987</td>\n",
       "      <td>Married-civ-spouse</td>\n",
       "      <td>Pharma</td>\n",
       "      <td>Infomercial</td>\n",
       "      <td>Male</td>\n",
       "      <td>40</td>\n",
       "      <td>Primetime</td>\n",
       "      <td>United-States</td>\n",
       "      <td>0.027465</td>\n",
       "      <td>Low</td>\n",
       "      <td>Yes</td>\n",
       "      <td>0</td>\n",
       "    </tr>\n",
       "    <tr>\n",
       "      <th>4</th>\n",
       "      <td>UI_25532</td>\n",
       "      <td>Married-civ-spouse</td>\n",
       "      <td>Other</td>\n",
       "      <td>Comedy</td>\n",
       "      <td>Female</td>\n",
       "      <td>50</td>\n",
       "      <td>Primetime</td>\n",
       "      <td>United-States</td>\n",
       "      <td>0.027465</td>\n",
       "      <td>Low</td>\n",
       "      <td>Yes</td>\n",
       "      <td>1</td>\n",
       "    </tr>\n",
       "  </tbody>\n",
       "</table>\n",
       "</div>"
      ],
      "text/plain": [
       "     UserID realtionship_status   industry        genre targeted_sex  \\\n",
       "0   UI_9185  Married-civ-spouse     Pharma       Comedy         Male   \n",
       "1    UI_449       Never-married  Political       Comedy         Male   \n",
       "2   UI_9014       Never-married       Auto       Comedy         Male   \n",
       "3  UI_14987  Married-civ-spouse     Pharma  Infomercial         Male   \n",
       "4  UI_25532  Married-civ-spouse      Other       Comedy       Female   \n",
       "\n",
       "   average_runtime(minutes_per_week)    airtime    airlocation   ratings  \\\n",
       "0                                 40    Daytime  United-States  0.027465   \n",
       "1                                 35    Morning  International  0.027465   \n",
       "2                                 40    Morning  United-States  0.027465   \n",
       "3                                 40  Primetime  United-States  0.027465   \n",
       "4                                 50  Primetime  United-States  0.027465   \n",
       "\n",
       "  expensive money_back_guarantee  netgain  \n",
       "0    Medium                   No        0  \n",
       "1       Low                   No        0  \n",
       "2       Low                   No        0  \n",
       "3       Low                  Yes        0  \n",
       "4       Low                  Yes        1  "
      ]
     },
     "execution_count": 174,
     "metadata": {},
     "output_type": "execute_result"
    }
   ],
   "source": [
    "df_train.head()"
   ]
  },
  {
   "cell_type": "code",
   "execution_count": 175,
   "metadata": {},
   "outputs": [
    {
     "data": {
      "text/plain": [
       "(19536, 12)"
      ]
     },
     "execution_count": 175,
     "metadata": {},
     "output_type": "execute_result"
    }
   ],
   "source": [
    "df_train.shape"
   ]
  },
  {
   "cell_type": "code",
   "execution_count": 176,
   "metadata": {},
   "outputs": [
    {
     "name": "stdout",
     "output_type": "stream",
     "text": [
      "<class 'pandas.core.frame.DataFrame'>\n",
      "RangeIndex: 19536 entries, 0 to 19535\n",
      "Data columns (total 12 columns):\n",
      " #   Column                             Non-Null Count  Dtype  \n",
      "---  ------                             --------------  -----  \n",
      " 0   UserID                             19536 non-null  object \n",
      " 1   realtionship_status                19536 non-null  object \n",
      " 2   industry                           19536 non-null  object \n",
      " 3   genre                              19536 non-null  object \n",
      " 4   targeted_sex                       19536 non-null  object \n",
      " 5   average_runtime(minutes_per_week)  19536 non-null  int64  \n",
      " 6   airtime                            19536 non-null  object \n",
      " 7   airlocation                        19536 non-null  object \n",
      " 8   ratings                            19536 non-null  float64\n",
      " 9   expensive                          19536 non-null  object \n",
      " 10  money_back_guarantee               19536 non-null  object \n",
      " 11  netgain                            19536 non-null  int64  \n",
      "dtypes: float64(1), int64(2), object(9)\n",
      "memory usage: 1.8+ MB\n"
     ]
    }
   ],
   "source": [
    "df_train.info(verbose=True)"
   ]
  },
  {
   "cell_type": "code",
   "execution_count": 177,
   "metadata": {},
   "outputs": [
    {
     "data": {
      "text/plain": [
       "Index(['UserID', 'realtionship_status', 'industry', 'genre', 'targeted_sex',\n",
       "       'average_runtime(minutes_per_week)', 'airtime', 'airlocation',\n",
       "       'ratings', 'expensive', 'money_back_guarantee', 'netgain'],\n",
       "      dtype='object')"
      ]
     },
     "execution_count": 177,
     "metadata": {},
     "output_type": "execute_result"
    }
   ],
   "source": [
    "df_train.columns"
   ]
  },
  {
   "cell_type": "code",
   "execution_count": 178,
   "metadata": {},
   "outputs": [
    {
     "data": {
      "text/html": [
       "<div>\n",
       "<style scoped>\n",
       "    .dataframe tbody tr th:only-of-type {\n",
       "        vertical-align: middle;\n",
       "    }\n",
       "\n",
       "    .dataframe tbody tr th {\n",
       "        vertical-align: top;\n",
       "    }\n",
       "\n",
       "    .dataframe thead th {\n",
       "        text-align: right;\n",
       "    }\n",
       "</style>\n",
       "<table border=\"1\" class=\"dataframe\">\n",
       "  <thead>\n",
       "    <tr style=\"text-align: right;\">\n",
       "      <th></th>\n",
       "      <th>average_runtime(minutes_per_week)</th>\n",
       "      <th>ratings</th>\n",
       "      <th>netgain</th>\n",
       "    </tr>\n",
       "  </thead>\n",
       "  <tbody>\n",
       "    <tr>\n",
       "      <th>count</th>\n",
       "      <td>19536.000000</td>\n",
       "      <td>19536.000000</td>\n",
       "      <td>19536.000000</td>\n",
       "    </tr>\n",
       "    <tr>\n",
       "      <th>mean</th>\n",
       "      <td>40.375665</td>\n",
       "      <td>0.038826</td>\n",
       "      <td>0.238022</td>\n",
       "    </tr>\n",
       "    <tr>\n",
       "      <th>std</th>\n",
       "      <td>12.483166</td>\n",
       "      <td>0.075971</td>\n",
       "      <td>0.425884</td>\n",
       "    </tr>\n",
       "    <tr>\n",
       "      <th>min</th>\n",
       "      <td>1.000000</td>\n",
       "      <td>0.000000</td>\n",
       "      <td>0.000000</td>\n",
       "    </tr>\n",
       "    <tr>\n",
       "      <th>25%</th>\n",
       "      <td>40.000000</td>\n",
       "      <td>0.027465</td>\n",
       "      <td>0.000000</td>\n",
       "    </tr>\n",
       "    <tr>\n",
       "      <th>50%</th>\n",
       "      <td>40.000000</td>\n",
       "      <td>0.027465</td>\n",
       "      <td>0.000000</td>\n",
       "    </tr>\n",
       "    <tr>\n",
       "      <th>75%</th>\n",
       "      <td>45.000000</td>\n",
       "      <td>0.027465</td>\n",
       "      <td>0.000000</td>\n",
       "    </tr>\n",
       "    <tr>\n",
       "      <th>max</th>\n",
       "      <td>99.000000</td>\n",
       "      <td>1.000000</td>\n",
       "      <td>1.000000</td>\n",
       "    </tr>\n",
       "  </tbody>\n",
       "</table>\n",
       "</div>"
      ],
      "text/plain": [
       "       average_runtime(minutes_per_week)       ratings       netgain\n",
       "count                       19536.000000  19536.000000  19536.000000\n",
       "mean                           40.375665      0.038826      0.238022\n",
       "std                            12.483166      0.075971      0.425884\n",
       "min                             1.000000      0.000000      0.000000\n",
       "25%                            40.000000      0.027465      0.000000\n",
       "50%                            40.000000      0.027465      0.000000\n",
       "75%                            45.000000      0.027465      0.000000\n",
       "max                            99.000000      1.000000      1.000000"
      ]
     },
     "execution_count": 178,
     "metadata": {},
     "output_type": "execute_result"
    }
   ],
   "source": [
    "df_train.describe()"
   ]
  },
  {
   "cell_type": "code",
   "execution_count": 179,
   "metadata": {},
   "outputs": [
    {
     "data": {
      "text/html": [
       "<div>\n",
       "<style scoped>\n",
       "    .dataframe tbody tr th:only-of-type {\n",
       "        vertical-align: middle;\n",
       "    }\n",
       "\n",
       "    .dataframe tbody tr th {\n",
       "        vertical-align: top;\n",
       "    }\n",
       "\n",
       "    .dataframe thead th {\n",
       "        text-align: right;\n",
       "    }\n",
       "</style>\n",
       "<table border=\"1\" class=\"dataframe\">\n",
       "  <thead>\n",
       "    <tr style=\"text-align: right;\">\n",
       "      <th></th>\n",
       "      <th>UserID</th>\n",
       "      <th>realtionship_status</th>\n",
       "      <th>industry</th>\n",
       "      <th>genre</th>\n",
       "      <th>targeted_sex</th>\n",
       "      <th>average_runtime(minutes_per_week)</th>\n",
       "      <th>airtime</th>\n",
       "      <th>airlocation</th>\n",
       "      <th>ratings</th>\n",
       "      <th>expensive</th>\n",
       "      <th>money_back_guarantee</th>\n",
       "    </tr>\n",
       "  </thead>\n",
       "  <tbody>\n",
       "    <tr>\n",
       "      <th>0</th>\n",
       "      <td>UI_8772</td>\n",
       "      <td>Never-married</td>\n",
       "      <td>Entertainment</td>\n",
       "      <td>Infomercial</td>\n",
       "      <td>Female</td>\n",
       "      <td>40</td>\n",
       "      <td>Primetime</td>\n",
       "      <td>United-States</td>\n",
       "      <td>0.027465</td>\n",
       "      <td>High</td>\n",
       "      <td>Yes</td>\n",
       "    </tr>\n",
       "    <tr>\n",
       "      <th>1</th>\n",
       "      <td>UI_13139</td>\n",
       "      <td>Divorced</td>\n",
       "      <td>Auto</td>\n",
       "      <td>Comedy</td>\n",
       "      <td>Female</td>\n",
       "      <td>40</td>\n",
       "      <td>Primetime</td>\n",
       "      <td>United-States</td>\n",
       "      <td>0.027465</td>\n",
       "      <td>Low</td>\n",
       "      <td>No</td>\n",
       "    </tr>\n",
       "    <tr>\n",
       "      <th>2</th>\n",
       "      <td>UI_15381</td>\n",
       "      <td>Married-civ-spouse</td>\n",
       "      <td>Pharma</td>\n",
       "      <td>Infomercial</td>\n",
       "      <td>Male</td>\n",
       "      <td>40</td>\n",
       "      <td>Primetime</td>\n",
       "      <td>United-States</td>\n",
       "      <td>0.027465</td>\n",
       "      <td>High</td>\n",
       "      <td>No</td>\n",
       "    </tr>\n",
       "    <tr>\n",
       "      <th>3</th>\n",
       "      <td>UI_15503</td>\n",
       "      <td>Never-married</td>\n",
       "      <td>Auto</td>\n",
       "      <td>Comedy</td>\n",
       "      <td>Male</td>\n",
       "      <td>30</td>\n",
       "      <td>Primetime</td>\n",
       "      <td>United-States</td>\n",
       "      <td>0.027465</td>\n",
       "      <td>High</td>\n",
       "      <td>Yes</td>\n",
       "    </tr>\n",
       "    <tr>\n",
       "      <th>4</th>\n",
       "      <td>UI_16556</td>\n",
       "      <td>Never-married</td>\n",
       "      <td>Political</td>\n",
       "      <td>Comedy</td>\n",
       "      <td>Male</td>\n",
       "      <td>70</td>\n",
       "      <td>Morning</td>\n",
       "      <td>United-States</td>\n",
       "      <td>0.027465</td>\n",
       "      <td>Low</td>\n",
       "      <td>No</td>\n",
       "    </tr>\n",
       "  </tbody>\n",
       "</table>\n",
       "</div>"
      ],
      "text/plain": [
       "     UserID realtionship_status       industry        genre targeted_sex  \\\n",
       "0   UI_8772       Never-married  Entertainment  Infomercial       Female   \n",
       "1  UI_13139            Divorced           Auto       Comedy       Female   \n",
       "2  UI_15381  Married-civ-spouse         Pharma  Infomercial         Male   \n",
       "3  UI_15503       Never-married           Auto       Comedy         Male   \n",
       "4  UI_16556       Never-married      Political       Comedy         Male   \n",
       "\n",
       "   average_runtime(minutes_per_week)    airtime    airlocation   ratings  \\\n",
       "0                                 40  Primetime  United-States  0.027465   \n",
       "1                                 40  Primetime  United-States  0.027465   \n",
       "2                                 40  Primetime  United-States  0.027465   \n",
       "3                                 30  Primetime  United-States  0.027465   \n",
       "4                                 70    Morning  United-States  0.027465   \n",
       "\n",
       "  expensive money_back_guarantee  \n",
       "0      High                  Yes  \n",
       "1       Low                   No  \n",
       "2      High                   No  \n",
       "3      High                  Yes  \n",
       "4       Low                   No  "
      ]
     },
     "execution_count": 179,
     "metadata": {},
     "output_type": "execute_result"
    }
   ],
   "source": [
    "## Lets inspect the test data\n",
    "df_test.head()"
   ]
  },
  {
   "cell_type": "code",
   "execution_count": 180,
   "metadata": {},
   "outputs": [
    {
     "name": "stdout",
     "output_type": "stream",
     "text": [
      "<class 'pandas.core.frame.DataFrame'>\n",
      "RangeIndex: 6512 entries, 0 to 6511\n",
      "Data columns (total 11 columns):\n",
      " #   Column                             Non-Null Count  Dtype  \n",
      "---  ------                             --------------  -----  \n",
      " 0   UserID                             6512 non-null   object \n",
      " 1   realtionship_status                6512 non-null   object \n",
      " 2   industry                           6512 non-null   object \n",
      " 3   genre                              6512 non-null   object \n",
      " 4   targeted_sex                       6512 non-null   object \n",
      " 5   average_runtime(minutes_per_week)  6512 non-null   int64  \n",
      " 6   airtime                            6512 non-null   object \n",
      " 7   airlocation                        6512 non-null   object \n",
      " 8   ratings                            6512 non-null   float64\n",
      " 9   expensive                          6512 non-null   object \n",
      " 10  money_back_guarantee               6512 non-null   object \n",
      "dtypes: float64(1), int64(1), object(9)\n",
      "memory usage: 559.8+ KB\n"
     ]
    }
   ],
   "source": [
    "df_test.info(verbose=True)"
   ]
  },
  {
   "cell_type": "code",
   "execution_count": 181,
   "metadata": {},
   "outputs": [
    {
     "data": {
      "text/plain": [
       "(6512, 11)"
      ]
     },
     "execution_count": 181,
     "metadata": {},
     "output_type": "execute_result"
    }
   ],
   "source": [
    "df_test.shape"
   ]
  },
  {
   "cell_type": "markdown",
   "metadata": {},
   "source": [
    "### Step 2 : Identifying and Handling the missing values"
   ]
  },
  {
   "cell_type": "code",
   "execution_count": 182,
   "metadata": {},
   "outputs": [
    {
     "data": {
      "text/plain": [
       "UserID                               0\n",
       "realtionship_status                  0\n",
       "industry                             0\n",
       "genre                                0\n",
       "targeted_sex                         0\n",
       "average_runtime(minutes_per_week)    0\n",
       "airtime                              0\n",
       "airlocation                          0\n",
       "ratings                              0\n",
       "expensive                            0\n",
       "money_back_guarantee                 0\n",
       "netgain                              0\n",
       "dtype: int64"
      ]
     },
     "execution_count": 182,
     "metadata": {},
     "output_type": "execute_result"
    }
   ],
   "source": [
    "df_train.isnull().sum()"
   ]
  },
  {
   "cell_type": "markdown",
   "metadata": {},
   "source": [
    "The above table clearly reflects that there are no missing values. Thus, we can proceed with the further analysis."
   ]
  },
  {
   "cell_type": "markdown",
   "metadata": {},
   "source": [
    "### Step 3 : Univariate and Bivariate Analysis"
   ]
  },
  {
   "cell_type": "code",
   "execution_count": 183,
   "metadata": {},
   "outputs": [
    {
     "data": {
      "text/plain": [
       "<matplotlib.axes._subplots.AxesSubplot at 0x1de3869c788>"
      ]
     },
     "execution_count": 183,
     "metadata": {},
     "output_type": "execute_result"
    },
    {
     "data": {
      "image/png": "[encoded data removed]",
      "text/plain": [
       "<Figure size 432x288 with 1 Axes>"
      ]
     },
     "metadata": {
      "needs_background": "light"
     },
     "output_type": "display_data"
    }
   ],
   "source": [
    "import matplotlib.pyplot as plt\n",
    "import seaborn as sns\n",
    "sns.distplot(df_train['average_runtime(minutes_per_week)'], hist = True , color = 'r')"
   ]
  },
  {
   "cell_type": "markdown",
   "metadata": {},
   "source": [
    "The above graph indicates that the average run time of advertisement is 40 mins per week."
   ]
  },
  {
   "cell_type": "code",
   "execution_count": 184,
   "metadata": {},
   "outputs": [
    {
     "data": {
      "text/plain": [
       "Index(['UserID', 'realtionship_status', 'industry', 'genre', 'targeted_sex',\n",
       "       'average_runtime(minutes_per_week)', 'airtime', 'airlocation',\n",
       "       'ratings', 'expensive', 'money_back_guarantee', 'netgain'],\n",
       "      dtype='object')"
      ]
     },
     "execution_count": 184,
     "metadata": {},
     "output_type": "execute_result"
    }
   ],
   "source": [
    "df_train.columns"
   ]
  },
  {
   "cell_type": "code",
   "execution_count": 185,
   "metadata": {},
   "outputs": [
    {
     "data": {
      "text/plain": [
       "[(0, 'realtionship_status'),\n",
       " (1, 'industry'),\n",
       " (2, 'genre'),\n",
       " (3, 'targeted_sex'),\n",
       " (4, 'airlocation'),\n",
       " (5, 'expensive'),\n",
       " (6, 'money_back_guarantee')]"
      ]
     },
     "execution_count": 185,
     "metadata": {},
     "output_type": "execute_result"
    }
   ],
   "source": [
    "# categorical variables\n",
    "\n",
    "categorical = df_train[['realtionship_status', 'industry', 'genre', 'targeted_sex',\n",
    "       'airlocation', 'expensive', 'money_back_guarantee']]\n",
    "list(enumerate(categorical))"
   ]
  },
  {
   "cell_type": "code",
   "execution_count": 186,
   "metadata": {},
   "outputs": [
    {
     "data": {
      "image/png": "[encoded data removed]",
      "text/plain": [
       "<Figure size 1080x2520 with 7 Axes>"
      ]
     },
     "metadata": {
      "needs_background": "light"
     },
     "output_type": "display_data"
    }
   ],
   "source": [
    "plt.figure(figsize = (15,35))\n",
    "for i in enumerate(categorical):\n",
    "    plt.subplot(4,2,i[0]+1)\n",
    "    plt.tight_layout(pad=4.0)\n",
    "    sns.countplot(x=i[1],hue='netgain',data=df_train)\n",
    "    plt.xticks(rotation=90)\n",
    "plt.show()\n",
    "    "
   ]
  },
  {
   "cell_type": "markdown",
   "metadata": {},
   "source": [
    "### Step 4 : Data Preparation"
   ]
  },
  {
   "cell_type": "code",
   "execution_count": 187,
   "metadata": {},
   "outputs": [
    {
     "data": {
      "text/plain": [
       "Married-civ-spouse       8899\n",
       "Never-married            6433\n",
       "Divorced                 2700\n",
       "Widowed                   616\n",
       "Separated                 598\n",
       "Married-spouse-absent     274\n",
       "Married-AF-spouse          16\n",
       "Name: realtionship_status, dtype: int64"
      ]
     },
     "execution_count": 187,
     "metadata": {},
     "output_type": "execute_result"
    }
   ],
   "source": [
    "## lets use the value counts to inspect the various columns\n",
    "df_train.realtionship_status.value_counts()"
   ]
  },
  {
   "cell_type": "code",
   "execution_count": 188,
   "metadata": {},
   "outputs": [
    {
     "data": {
      "text/plain": [
       "Pharma           7735\n",
       "Auto             5058\n",
       "Political        3039\n",
       "Entertainment    2064\n",
       "Other            1031\n",
       "ClassAction       609\n",
       "Name: industry, dtype: int64"
      ]
     },
     "execution_count": 188,
     "metadata": {},
     "output_type": "execute_result"
    }
   ],
   "source": [
    "df_train.industry.value_counts()"
   ]
  },
  {
   "cell_type": "code",
   "execution_count": 189,
   "metadata": {},
   "outputs": [
    {
     "data": {
      "text/plain": [
       "Comedy         16699\n",
       "Infomercial     1871\n",
       "Drama            612\n",
       "Direct           186\n",
       "Other            168\n",
       "Name: genre, dtype: int64"
      ]
     },
     "execution_count": 189,
     "metadata": {},
     "output_type": "execute_result"
    }
   ],
   "source": [
    "df_train.genre.value_counts()"
   ]
  },
  {
   "cell_type": "code",
   "execution_count": 190,
   "metadata": {},
   "outputs": [
    {
     "data": {
      "text/plain": [
       "Male      12869\n",
       "Female     6667\n",
       "Name: targeted_sex, dtype: int64"
      ]
     },
     "execution_count": 190,
     "metadata": {},
     "output_type": "execute_result"
    }
   ],
   "source": [
    "df_train.targeted_sex.value_counts()"
   ]
  },
  {
   "cell_type": "code",
   "execution_count": 191,
   "metadata": {},
   "outputs": [
    {
     "data": {
      "text/plain": [
       "Primetime    11755\n",
       "Morning       6397\n",
       "Daytime       1384\n",
       "Name: airtime, dtype: int64"
      ]
     },
     "execution_count": 191,
     "metadata": {},
     "output_type": "execute_result"
    }
   ],
   "source": [
    "df_train.airtime.value_counts()"
   ]
  },
  {
   "cell_type": "code",
   "execution_count": 192,
   "metadata": {},
   "outputs": [
    {
     "data": {
      "text/plain": [
       "United-States                 0.892404\n",
       "Mexico                        0.020168\n",
       "International                 0.018172\n",
       "Philippines                   0.005733\n",
       "Germany                       0.003839\n",
       "Cuba                          0.003481\n",
       "Puerto-Rico                   0.003327\n",
       "Canada                        0.003327\n",
       "El-Salvador                   0.003276\n",
       "India                         0.003174\n",
       "England                       0.002867\n",
       "Italy                         0.002662\n",
       "Guatemala                     0.002559\n",
       "South                         0.002457\n",
       "Dominican-Republic            0.002406\n",
       "Poland                        0.002406\n",
       "Jamaica                       0.002355\n",
       "Vietnam                       0.002303\n",
       "Columbia                      0.002150\n",
       "Japan                         0.001945\n",
       "China                         0.001843\n",
       "Iran                          0.001587\n",
       "Taiwan                        0.001484\n",
       "Haiti                         0.001331\n",
       "Ecuador                       0.001280\n",
       "Nicaragua                     0.001177\n",
       "Portugal                      0.001126\n",
       "Peru                          0.001075\n",
       "France                        0.001024\n",
       "Yugoslavia                    0.000973\n",
       "Trinadad&Tobago               0.000870\n",
       "Ireland                       0.000717\n",
       "Laos                          0.000665\n",
       "Hong                          0.000665\n",
       "Greece                        0.000614\n",
       "Cambodia                      0.000614\n",
       "Thailand                      0.000461\n",
       "Honduras                      0.000461\n",
       "Hungary                       0.000358\n",
       "Scotland                      0.000307\n",
       "Outlying-US(Guam-USVI-etc)    0.000307\n",
       "Holand-Netherlands            0.000051\n",
       "Name: airlocation, dtype: float64"
      ]
     },
     "execution_count": 192,
     "metadata": {},
     "output_type": "execute_result"
    }
   ],
   "source": [
    "df_train.airlocation.value_counts(normalize=True)"
   ]
  },
  {
   "cell_type": "markdown",
   "metadata": {},
   "source": [
    "We can infer  from above that the most of the advertisement have airlocation from USA  (almost 90%). Thus in such case we can have other group comprising of all other countries. "
   ]
  },
  {
   "cell_type": "code",
   "execution_count": 193,
   "metadata": {},
   "outputs": [],
   "source": [
    "#for lead source\n",
    "impute_list = ['International','Philippines','Germany','Cuba','Canada','Puerto-Rico','El-Salvador','India','England','Italy','Guatemala','South','Dominican-Republic','Poland','Jamaica','Vietnam','Columbia','Japan','China','Iran','Taiwan','Haiti','Ecuador','Nicaragua','Portugal','Peru','France','Yugoslavia','Trinadad&Tobago','Ireland','Hong','Laos','Cambodia',\n",
    "'Greece','Honduras','Mexico',\n",
    "'Thailand','Hungary','Outlying-US(Guam-USVI-etc)','Scotland','Holand-Netherlands']\n",
    "\n",
    "for i in impute_list:\n",
    "    df_train['airlocation'].replace(to_replace=i,value='other',inplace=True)"
   ]
  },
  {
   "cell_type": "code",
   "execution_count": 194,
   "metadata": {},
   "outputs": [
    {
     "data": {
      "text/plain": [
       "United-States    17434\n",
       "other             2102\n",
       "Name: airlocation, dtype: int64"
      ]
     },
     "execution_count": 194,
     "metadata": {},
     "output_type": "execute_result"
    }
   ],
   "source": [
    "df_train.airlocation.value_counts()"
   ]
  },
  {
   "cell_type": "code",
   "execution_count": 195,
   "metadata": {},
   "outputs": [
    {
     "data": {
      "text/plain": [
       "Low       11756\n",
       "High       5453\n",
       "Medium     2327\n",
       "Name: expensive, dtype: int64"
      ]
     },
     "execution_count": 195,
     "metadata": {},
     "output_type": "execute_result"
    }
   ],
   "source": [
    "df_train.expensive.value_counts()"
   ]
  },
  {
   "cell_type": "code",
   "execution_count": 196,
   "metadata": {},
   "outputs": [
    {
     "data": {
      "text/plain": [
       "Yes    9788\n",
       "No     9748\n",
       "Name: money_back_guarantee, dtype: int64"
      ]
     },
     "execution_count": 196,
     "metadata": {},
     "output_type": "execute_result"
    }
   ],
   "source": [
    "df_train.money_back_guarantee.value_counts()"
   ]
  },
  {
   "cell_type": "code",
   "execution_count": 197,
   "metadata": {},
   "outputs": [],
   "source": [
    "# There are two binary variables. Lets map them with 0 and 1\n",
    "\n",
    "# List of variables to map\n",
    "# targeted_sex and money_back_guarante\n",
    "\n",
    "df_train['money_back_guarantee'] = df_train['money_back_guarantee'].map({'Yes' :1 ,'No':0})\n",
    "df_train['targeted_sex'] = df_train['targeted_sex'].map({'Female' :1 ,'Male':0})\n",
    "df_train['airlocation'] = df_train['airlocation'].map({'United-States' :1 ,'other':0})\n"
   ]
  },
  {
   "cell_type": "code",
   "execution_count": 198,
   "metadata": {},
   "outputs": [
    {
     "data": {
      "text/html": [
       "<div>\n",
       "<style scoped>\n",
       "    .dataframe tbody tr th:only-of-type {\n",
       "        vertical-align: middle;\n",
       "    }\n",
       "\n",
       "    .dataframe tbody tr th {\n",
       "        vertical-align: top;\n",
       "    }\n",
       "\n",
       "    .dataframe thead th {\n",
       "        text-align: right;\n",
       "    }\n",
       "</style>\n",
       "<table border=\"1\" class=\"dataframe\">\n",
       "  <thead>\n",
       "    <tr style=\"text-align: right;\">\n",
       "      <th></th>\n",
       "      <th>UserID</th>\n",
       "      <th>realtionship_status</th>\n",
       "      <th>industry</th>\n",
       "      <th>genre</th>\n",
       "      <th>targeted_sex</th>\n",
       "      <th>average_runtime(minutes_per_week)</th>\n",
       "      <th>airtime</th>\n",
       "      <th>airlocation</th>\n",
       "      <th>ratings</th>\n",
       "      <th>expensive</th>\n",
       "      <th>money_back_guarantee</th>\n",
       "      <th>netgain</th>\n",
       "    </tr>\n",
       "  </thead>\n",
       "  <tbody>\n",
       "    <tr>\n",
       "      <th>0</th>\n",
       "      <td>UI_9185</td>\n",
       "      <td>Married-civ-spouse</td>\n",
       "      <td>Pharma</td>\n",
       "      <td>Comedy</td>\n",
       "      <td>0</td>\n",
       "      <td>40</td>\n",
       "      <td>Daytime</td>\n",
       "      <td>1</td>\n",
       "      <td>0.027465</td>\n",
       "      <td>Medium</td>\n",
       "      <td>0</td>\n",
       "      <td>0</td>\n",
       "    </tr>\n",
       "    <tr>\n",
       "      <th>1</th>\n",
       "      <td>UI_449</td>\n",
       "      <td>Never-married</td>\n",
       "      <td>Political</td>\n",
       "      <td>Comedy</td>\n",
       "      <td>0</td>\n",
       "      <td>35</td>\n",
       "      <td>Morning</td>\n",
       "      <td>0</td>\n",
       "      <td>0.027465</td>\n",
       "      <td>Low</td>\n",
       "      <td>0</td>\n",
       "      <td>0</td>\n",
       "    </tr>\n",
       "    <tr>\n",
       "      <th>2</th>\n",
       "      <td>UI_9014</td>\n",
       "      <td>Never-married</td>\n",
       "      <td>Auto</td>\n",
       "      <td>Comedy</td>\n",
       "      <td>0</td>\n",
       "      <td>40</td>\n",
       "      <td>Morning</td>\n",
       "      <td>1</td>\n",
       "      <td>0.027465</td>\n",
       "      <td>Low</td>\n",
       "      <td>0</td>\n",
       "      <td>0</td>\n",
       "    </tr>\n",
       "    <tr>\n",
       "      <th>3</th>\n",
       "      <td>UI_14987</td>\n",
       "      <td>Married-civ-spouse</td>\n",
       "      <td>Pharma</td>\n",
       "      <td>Infomercial</td>\n",
       "      <td>0</td>\n",
       "      <td>40</td>\n",
       "      <td>Primetime</td>\n",
       "      <td>1</td>\n",
       "      <td>0.027465</td>\n",
       "      <td>Low</td>\n",
       "      <td>1</td>\n",
       "      <td>0</td>\n",
       "    </tr>\n",
       "    <tr>\n",
       "      <th>4</th>\n",
       "      <td>UI_25532</td>\n",
       "      <td>Married-civ-spouse</td>\n",
       "      <td>Other</td>\n",
       "      <td>Comedy</td>\n",
       "      <td>1</td>\n",
       "      <td>50</td>\n",
       "      <td>Primetime</td>\n",
       "      <td>1</td>\n",
       "      <td>0.027465</td>\n",
       "      <td>Low</td>\n",
       "      <td>1</td>\n",
       "      <td>1</td>\n",
       "    </tr>\n",
       "  </tbody>\n",
       "</table>\n",
       "</div>"
      ],
      "text/plain": [
       "     UserID realtionship_status   industry        genre  targeted_sex  \\\n",
       "0   UI_9185  Married-civ-spouse     Pharma       Comedy             0   \n",
       "1    UI_449       Never-married  Political       Comedy             0   \n",
       "2   UI_9014       Never-married       Auto       Comedy             0   \n",
       "3  UI_14987  Married-civ-spouse     Pharma  Infomercial             0   \n",
       "4  UI_25532  Married-civ-spouse      Other       Comedy             1   \n",
       "\n",
       "   average_runtime(minutes_per_week)    airtime  airlocation   ratings  \\\n",
       "0                                 40    Daytime            1  0.027465   \n",
       "1                                 35    Morning            0  0.027465   \n",
       "2                                 40    Morning            1  0.027465   \n",
       "3                                 40  Primetime            1  0.027465   \n",
       "4                                 50  Primetime            1  0.027465   \n",
       "\n",
       "  expensive  money_back_guarantee  netgain  \n",
       "0    Medium                     0        0  \n",
       "1       Low                     0        0  \n",
       "2       Low                     0        0  \n",
       "3       Low                     1        0  \n",
       "4       Low                     1        1  "
      ]
     },
     "execution_count": 198,
     "metadata": {},
     "output_type": "execute_result"
    }
   ],
   "source": [
    "df_train.head()"
   ]
  },
  {
   "cell_type": "markdown",
   "metadata": {},
   "source": [
    "For categorical variables with multiple levels, create dummy features (one-hot encoded)"
   ]
  },
  {
   "cell_type": "code",
   "execution_count": 199,
   "metadata": {},
   "outputs": [],
   "source": [
    "# Creating a dummy variable for some of the categorical variables and dropping the first one.\n",
    "dummy1 = pd.get_dummies(df_train[['realtionship_status', 'industry', 'genre', 'expensive','airtime']], drop_first=True)\n",
    "\n",
    "# Adding the results to the master dataframe\n",
    "df_train = pd.concat([df_train, dummy1], axis=1)"
   ]
  },
  {
   "cell_type": "code",
   "execution_count": 200,
   "metadata": {},
   "outputs": [
    {
     "data": {
      "text/html": [
       "<div>\n",
       "<style scoped>\n",
       "    .dataframe tbody tr th:only-of-type {\n",
       "        vertical-align: middle;\n",
       "    }\n",
       "\n",
       "    .dataframe tbody tr th {\n",
       "        vertical-align: top;\n",
       "    }\n",
       "\n",
       "    .dataframe thead th {\n",
       "        text-align: right;\n",
       "    }\n",
       "</style>\n",
       "<table border=\"1\" class=\"dataframe\">\n",
       "  <thead>\n",
       "    <tr style=\"text-align: right;\">\n",
       "      <th></th>\n",
       "      <th>UserID</th>\n",
       "      <th>realtionship_status</th>\n",
       "      <th>industry</th>\n",
       "      <th>genre</th>\n",
       "      <th>targeted_sex</th>\n",
       "      <th>average_runtime(minutes_per_week)</th>\n",
       "      <th>airtime</th>\n",
       "      <th>airlocation</th>\n",
       "      <th>ratings</th>\n",
       "      <th>expensive</th>\n",
       "      <th>...</th>\n",
       "      <th>industry_Pharma</th>\n",
       "      <th>industry_Political</th>\n",
       "      <th>genre_Direct</th>\n",
       "      <th>genre_Drama</th>\n",
       "      <th>genre_Infomercial</th>\n",
       "      <th>genre_Other</th>\n",
       "      <th>expensive_Low</th>\n",
       "      <th>expensive_Medium</th>\n",
       "      <th>airtime_Morning</th>\n",
       "      <th>airtime_Primetime</th>\n",
       "    </tr>\n",
       "  </thead>\n",
       "  <tbody>\n",
       "    <tr>\n",
       "      <th>0</th>\n",
       "      <td>UI_9185</td>\n",
       "      <td>Married-civ-spouse</td>\n",
       "      <td>Pharma</td>\n",
       "      <td>Comedy</td>\n",
       "      <td>0</td>\n",
       "      <td>40</td>\n",
       "      <td>Daytime</td>\n",
       "      <td>1</td>\n",
       "      <td>0.027465</td>\n",
       "      <td>Medium</td>\n",
       "      <td>...</td>\n",
       "      <td>1</td>\n",
       "      <td>0</td>\n",
       "      <td>0</td>\n",
       "      <td>0</td>\n",
       "      <td>0</td>\n",
       "      <td>0</td>\n",
       "      <td>0</td>\n",
       "      <td>1</td>\n",
       "      <td>0</td>\n",
       "      <td>0</td>\n",
       "    </tr>\n",
       "    <tr>\n",
       "      <th>1</th>\n",
       "      <td>UI_449</td>\n",
       "      <td>Never-married</td>\n",
       "      <td>Political</td>\n",
       "      <td>Comedy</td>\n",
       "      <td>0</td>\n",
       "      <td>35</td>\n",
       "      <td>Morning</td>\n",
       "      <td>0</td>\n",
       "      <td>0.027465</td>\n",
       "      <td>Low</td>\n",
       "      <td>...</td>\n",
       "      <td>0</td>\n",
       "      <td>1</td>\n",
       "      <td>0</td>\n",
       "      <td>0</td>\n",
       "      <td>0</td>\n",
       "      <td>0</td>\n",
       "      <td>1</td>\n",
       "      <td>0</td>\n",
       "      <td>1</td>\n",
       "      <td>0</td>\n",
       "    </tr>\n",
       "    <tr>\n",
       "      <th>2</th>\n",
       "      <td>UI_9014</td>\n",
       "      <td>Never-married</td>\n",
       "      <td>Auto</td>\n",
       "      <td>Comedy</td>\n",
       "      <td>0</td>\n",
       "      <td>40</td>\n",
       "      <td>Morning</td>\n",
       "      <td>1</td>\n",
       "      <td>0.027465</td>\n",
       "      <td>Low</td>\n",
       "      <td>...</td>\n",
       "      <td>0</td>\n",
       "      <td>0</td>\n",
       "      <td>0</td>\n",
       "      <td>0</td>\n",
       "      <td>0</td>\n",
       "      <td>0</td>\n",
       "      <td>1</td>\n",
       "      <td>0</td>\n",
       "      <td>1</td>\n",
       "      <td>0</td>\n",
       "    </tr>\n",
       "    <tr>\n",
       "      <th>3</th>\n",
       "      <td>UI_14987</td>\n",
       "      <td>Married-civ-spouse</td>\n",
       "      <td>Pharma</td>\n",
       "      <td>Infomercial</td>\n",
       "      <td>0</td>\n",
       "      <td>40</td>\n",
       "      <td>Primetime</td>\n",
       "      <td>1</td>\n",
       "      <td>0.027465</td>\n",
       "      <td>Low</td>\n",
       "      <td>...</td>\n",
       "      <td>1</td>\n",
       "      <td>0</td>\n",
       "      <td>0</td>\n",
       "      <td>0</td>\n",
       "      <td>1</td>\n",
       "      <td>0</td>\n",
       "      <td>1</td>\n",
       "      <td>0</td>\n",
       "      <td>0</td>\n",
       "      <td>1</td>\n",
       "    </tr>\n",
       "    <tr>\n",
       "      <th>4</th>\n",
       "      <td>UI_25532</td>\n",
       "      <td>Married-civ-spouse</td>\n",
       "      <td>Other</td>\n",
       "      <td>Comedy</td>\n",
       "      <td>1</td>\n",
       "      <td>50</td>\n",
       "      <td>Primetime</td>\n",
       "      <td>1</td>\n",
       "      <td>0.027465</td>\n",
       "      <td>Low</td>\n",
       "      <td>...</td>\n",
       "      <td>0</td>\n",
       "      <td>0</td>\n",
       "      <td>0</td>\n",
       "      <td>0</td>\n",
       "      <td>0</td>\n",
       "      <td>0</td>\n",
       "      <td>1</td>\n",
       "      <td>0</td>\n",
       "      <td>0</td>\n",
       "      <td>1</td>\n",
       "    </tr>\n",
       "  </tbody>\n",
       "</table>\n",
       "<p>5 rows × 31 columns</p>\n",
       "</div>"
      ],
      "text/plain": [
       "     UserID realtionship_status   industry        genre  targeted_sex  \\\n",
       "0   UI_9185  Married-civ-spouse     Pharma       Comedy             0   \n",
       "1    UI_449       Never-married  Political       Comedy             0   \n",
       "2   UI_9014       Never-married       Auto       Comedy             0   \n",
       "3  UI_14987  Married-civ-spouse     Pharma  Infomercial             0   \n",
       "4  UI_25532  Married-civ-spouse      Other       Comedy             1   \n",
       "\n",
       "   average_runtime(minutes_per_week)    airtime  airlocation   ratings  \\\n",
       "0                                 40    Daytime            1  0.027465   \n",
       "1                                 35    Morning            0  0.027465   \n",
       "2                                 40    Morning            1  0.027465   \n",
       "3                                 40  Primetime            1  0.027465   \n",
       "4                                 50  Primetime            1  0.027465   \n",
       "\n",
       "  expensive  ...  industry_Pharma  industry_Political  genre_Direct  \\\n",
       "0    Medium  ...                1                   0             0   \n",
       "1       Low  ...                0                   1             0   \n",
       "2       Low  ...                0                   0             0   \n",
       "3       Low  ...                1                   0             0   \n",
       "4       Low  ...                0                   0             0   \n",
       "\n",
       "   genre_Drama  genre_Infomercial  genre_Other  expensive_Low  \\\n",
       "0            0                  0            0              0   \n",
       "1            0                  0            0              1   \n",
       "2            0                  0            0              1   \n",
       "3            0                  1            0              1   \n",
       "4            0                  0            0              1   \n",
       "\n",
       "   expensive_Medium  airtime_Morning  airtime_Primetime  \n",
       "0                 1                0                  0  \n",
       "1                 0                1                  0  \n",
       "2                 0                1                  0  \n",
       "3                 0                0                  1  \n",
       "4                 0                0                  1  \n",
       "\n",
       "[5 rows x 31 columns]"
      ]
     },
     "execution_count": 200,
     "metadata": {},
     "output_type": "execute_result"
    }
   ],
   "source": [
    "df_train.head()"
   ]
  },
  {
   "cell_type": "code",
   "execution_count": 201,
   "metadata": {},
   "outputs": [],
   "source": [
    "# We have created dummies for the below variables, so we can drop them\n",
    "df_train = df_train.drop(['realtionship_status', 'industry', 'genre', 'expensive','airtime'], 1)"
   ]
  },
  {
   "cell_type": "code",
   "execution_count": 202,
   "metadata": {},
   "outputs": [
    {
     "data": {
      "text/html": [
       "<div>\n",
       "<style scoped>\n",
       "    .dataframe tbody tr th:only-of-type {\n",
       "        vertical-align: middle;\n",
       "    }\n",
       "\n",
       "    .dataframe tbody tr th {\n",
       "        vertical-align: top;\n",
       "    }\n",
       "\n",
       "    .dataframe thead th {\n",
       "        text-align: right;\n",
       "    }\n",
       "</style>\n",
       "<table border=\"1\" class=\"dataframe\">\n",
       "  <thead>\n",
       "    <tr style=\"text-align: right;\">\n",
       "      <th></th>\n",
       "      <th>UserID</th>\n",
       "      <th>targeted_sex</th>\n",
       "      <th>average_runtime(minutes_per_week)</th>\n",
       "      <th>airlocation</th>\n",
       "      <th>ratings</th>\n",
       "      <th>money_back_guarantee</th>\n",
       "      <th>netgain</th>\n",
       "      <th>realtionship_status_Married-AF-spouse</th>\n",
       "      <th>realtionship_status_Married-civ-spouse</th>\n",
       "      <th>realtionship_status_Married-spouse-absent</th>\n",
       "      <th>...</th>\n",
       "      <th>industry_Pharma</th>\n",
       "      <th>industry_Political</th>\n",
       "      <th>genre_Direct</th>\n",
       "      <th>genre_Drama</th>\n",
       "      <th>genre_Infomercial</th>\n",
       "      <th>genre_Other</th>\n",
       "      <th>expensive_Low</th>\n",
       "      <th>expensive_Medium</th>\n",
       "      <th>airtime_Morning</th>\n",
       "      <th>airtime_Primetime</th>\n",
       "    </tr>\n",
       "  </thead>\n",
       "  <tbody>\n",
       "    <tr>\n",
       "      <th>0</th>\n",
       "      <td>UI_9185</td>\n",
       "      <td>0</td>\n",
       "      <td>40</td>\n",
       "      <td>1</td>\n",
       "      <td>0.027465</td>\n",
       "      <td>0</td>\n",
       "      <td>0</td>\n",
       "      <td>0</td>\n",
       "      <td>1</td>\n",
       "      <td>0</td>\n",
       "      <td>...</td>\n",
       "      <td>1</td>\n",
       "      <td>0</td>\n",
       "      <td>0</td>\n",
       "      <td>0</td>\n",
       "      <td>0</td>\n",
       "      <td>0</td>\n",
       "      <td>0</td>\n",
       "      <td>1</td>\n",
       "      <td>0</td>\n",
       "      <td>0</td>\n",
       "    </tr>\n",
       "    <tr>\n",
       "      <th>1</th>\n",
       "      <td>UI_449</td>\n",
       "      <td>0</td>\n",
       "      <td>35</td>\n",
       "      <td>0</td>\n",
       "      <td>0.027465</td>\n",
       "      <td>0</td>\n",
       "      <td>0</td>\n",
       "      <td>0</td>\n",
       "      <td>0</td>\n",
       "      <td>0</td>\n",
       "      <td>...</td>\n",
       "      <td>0</td>\n",
       "      <td>1</td>\n",
       "      <td>0</td>\n",
       "      <td>0</td>\n",
       "      <td>0</td>\n",
       "      <td>0</td>\n",
       "      <td>1</td>\n",
       "      <td>0</td>\n",
       "      <td>1</td>\n",
       "      <td>0</td>\n",
       "    </tr>\n",
       "    <tr>\n",
       "      <th>2</th>\n",
       "      <td>UI_9014</td>\n",
       "      <td>0</td>\n",
       "      <td>40</td>\n",
       "      <td>1</td>\n",
       "      <td>0.027465</td>\n",
       "      <td>0</td>\n",
       "      <td>0</td>\n",
       "      <td>0</td>\n",
       "      <td>0</td>\n",
       "      <td>0</td>\n",
       "      <td>...</td>\n",
       "      <td>0</td>\n",
       "      <td>0</td>\n",
       "      <td>0</td>\n",
       "      <td>0</td>\n",
       "      <td>0</td>\n",
       "      <td>0</td>\n",
       "      <td>1</td>\n",
       "      <td>0</td>\n",
       "      <td>1</td>\n",
       "      <td>0</td>\n",
       "    </tr>\n",
       "    <tr>\n",
       "      <th>3</th>\n",
       "      <td>UI_14987</td>\n",
       "      <td>0</td>\n",
       "      <td>40</td>\n",
       "      <td>1</td>\n",
       "      <td>0.027465</td>\n",
       "      <td>1</td>\n",
       "      <td>0</td>\n",
       "      <td>0</td>\n",
       "      <td>1</td>\n",
       "      <td>0</td>\n",
       "      <td>...</td>\n",
       "      <td>1</td>\n",
       "      <td>0</td>\n",
       "      <td>0</td>\n",
       "      <td>0</td>\n",
       "      <td>1</td>\n",
       "      <td>0</td>\n",
       "      <td>1</td>\n",
       "      <td>0</td>\n",
       "      <td>0</td>\n",
       "      <td>1</td>\n",
       "    </tr>\n",
       "    <tr>\n",
       "      <th>4</th>\n",
       "      <td>UI_25532</td>\n",
       "      <td>1</td>\n",
       "      <td>50</td>\n",
       "      <td>1</td>\n",
       "      <td>0.027465</td>\n",
       "      <td>1</td>\n",
       "      <td>1</td>\n",
       "      <td>0</td>\n",
       "      <td>1</td>\n",
       "      <td>0</td>\n",
       "      <td>...</td>\n",
       "      <td>0</td>\n",
       "      <td>0</td>\n",
       "      <td>0</td>\n",
       "      <td>0</td>\n",
       "      <td>0</td>\n",
       "      <td>0</td>\n",
       "      <td>1</td>\n",
       "      <td>0</td>\n",
       "      <td>0</td>\n",
       "      <td>1</td>\n",
       "    </tr>\n",
       "  </tbody>\n",
       "</table>\n",
       "<p>5 rows × 26 columns</p>\n",
       "</div>"
      ],
      "text/plain": [
       "     UserID  targeted_sex  average_runtime(minutes_per_week)  airlocation  \\\n",
       "0   UI_9185             0                                 40            1   \n",
       "1    UI_449             0                                 35            0   \n",
       "2   UI_9014             0                                 40            1   \n",
       "3  UI_14987             0                                 40            1   \n",
       "4  UI_25532             1                                 50            1   \n",
       "\n",
       "    ratings  money_back_guarantee  netgain  \\\n",
       "0  0.027465                     0        0   \n",
       "1  0.027465                     0        0   \n",
       "2  0.027465                     0        0   \n",
       "3  0.027465                     1        0   \n",
       "4  0.027465                     1        1   \n",
       "\n",
       "   realtionship_status_Married-AF-spouse  \\\n",
       "0                                      0   \n",
       "1                                      0   \n",
       "2                                      0   \n",
       "3                                      0   \n",
       "4                                      0   \n",
       "\n",
       "   realtionship_status_Married-civ-spouse  \\\n",
       "0                                       1   \n",
       "1                                       0   \n",
       "2                                       0   \n",
       "3                                       1   \n",
       "4                                       1   \n",
       "\n",
       "   realtionship_status_Married-spouse-absent  ...  industry_Pharma  \\\n",
       "0                                          0  ...                1   \n",
       "1                                          0  ...                0   \n",
       "2                                          0  ...                0   \n",
       "3                                          0  ...                1   \n",
       "4                                          0  ...                0   \n",
       "\n",
       "   industry_Political  genre_Direct  genre_Drama  genre_Infomercial  \\\n",
       "0                   0             0            0                  0   \n",
       "1                   1             0            0                  0   \n",
       "2                   0             0            0                  0   \n",
       "3                   0             0            0                  1   \n",
       "4                   0             0            0                  0   \n",
       "\n",
       "   genre_Other  expensive_Low  expensive_Medium  airtime_Morning  \\\n",
       "0            0              0                 1                0   \n",
       "1            0              1                 0                1   \n",
       "2            0              1                 0                1   \n",
       "3            0              1                 0                0   \n",
       "4            0              1                 0                0   \n",
       "\n",
       "   airtime_Primetime  \n",
       "0                  0  \n",
       "1                  0  \n",
       "2                  0  \n",
       "3                  1  \n",
       "4                  1  \n",
       "\n",
       "[5 rows x 26 columns]"
      ]
     },
     "execution_count": 202,
     "metadata": {},
     "output_type": "execute_result"
    }
   ],
   "source": [
    "df_train.head()"
   ]
  },
  {
   "cell_type": "markdown",
   "metadata": {},
   "source": [
    "### Checking outliers"
   ]
  },
  {
   "cell_type": "code",
   "execution_count": 203,
   "metadata": {},
   "outputs": [
    {
     "data": {
      "text/html": [
       "<div>\n",
       "<style scoped>\n",
       "    .dataframe tbody tr th:only-of-type {\n",
       "        vertical-align: middle;\n",
       "    }\n",
       "\n",
       "    .dataframe tbody tr th {\n",
       "        vertical-align: top;\n",
       "    }\n",
       "\n",
       "    .dataframe thead th {\n",
       "        text-align: right;\n",
       "    }\n",
       "</style>\n",
       "<table border=\"1\" class=\"dataframe\">\n",
       "  <thead>\n",
       "    <tr style=\"text-align: right;\">\n",
       "      <th></th>\n",
       "      <th>average_runtime(minutes_per_week)</th>\n",
       "      <th>ratings</th>\n",
       "    </tr>\n",
       "  </thead>\n",
       "  <tbody>\n",
       "    <tr>\n",
       "      <th>count</th>\n",
       "      <td>19536.000000</td>\n",
       "      <td>19536.000000</td>\n",
       "    </tr>\n",
       "    <tr>\n",
       "      <th>mean</th>\n",
       "      <td>40.375665</td>\n",
       "      <td>0.038826</td>\n",
       "    </tr>\n",
       "    <tr>\n",
       "      <th>std</th>\n",
       "      <td>12.483166</td>\n",
       "      <td>0.075971</td>\n",
       "    </tr>\n",
       "    <tr>\n",
       "      <th>min</th>\n",
       "      <td>1.000000</td>\n",
       "      <td>0.000000</td>\n",
       "    </tr>\n",
       "    <tr>\n",
       "      <th>25%</th>\n",
       "      <td>40.000000</td>\n",
       "      <td>0.027465</td>\n",
       "    </tr>\n",
       "    <tr>\n",
       "      <th>50%</th>\n",
       "      <td>40.000000</td>\n",
       "      <td>0.027465</td>\n",
       "    </tr>\n",
       "    <tr>\n",
       "      <th>75%</th>\n",
       "      <td>45.000000</td>\n",
       "      <td>0.027465</td>\n",
       "    </tr>\n",
       "    <tr>\n",
       "      <th>90%</th>\n",
       "      <td>55.000000</td>\n",
       "      <td>0.027465</td>\n",
       "    </tr>\n",
       "    <tr>\n",
       "      <th>95%</th>\n",
       "      <td>60.000000</td>\n",
       "      <td>0.077823</td>\n",
       "    </tr>\n",
       "    <tr>\n",
       "      <th>99%</th>\n",
       "      <td>80.000000</td>\n",
       "      <td>0.173580</td>\n",
       "    </tr>\n",
       "    <tr>\n",
       "      <th>max</th>\n",
       "      <td>99.000000</td>\n",
       "      <td>1.000000</td>\n",
       "    </tr>\n",
       "  </tbody>\n",
       "</table>\n",
       "</div>"
      ],
      "text/plain": [
       "       average_runtime(minutes_per_week)       ratings\n",
       "count                       19536.000000  19536.000000\n",
       "mean                           40.375665      0.038826\n",
       "std                            12.483166      0.075971\n",
       "min                             1.000000      0.000000\n",
       "25%                            40.000000      0.027465\n",
       "50%                            40.000000      0.027465\n",
       "75%                            45.000000      0.027465\n",
       "90%                            55.000000      0.027465\n",
       "95%                            60.000000      0.077823\n",
       "99%                            80.000000      0.173580\n",
       "max                            99.000000      1.000000"
      ]
     },
     "execution_count": 203,
     "metadata": {},
     "output_type": "execute_result"
    }
   ],
   "source": [
    "# Checking outliers at 25%, 50%, 75%, 90%, 95% and 99%\n",
    "df_train[['average_runtime(minutes_per_week)','ratings']].describe(percentiles=[.25, .5, .75, .90, .95, .99])"
   ]
  },
  {
   "cell_type": "markdown",
   "metadata": {},
   "source": [
    "From the distribution shown above, you can see that there no outliers in your data. The numbers are gradually increasing."
   ]
  },
  {
   "cell_type": "markdown",
   "metadata": {},
   "source": [
    "### Step 5 : Feature scaling and correlations"
   ]
  },
  {
   "cell_type": "code",
   "execution_count": 204,
   "metadata": {},
   "outputs": [
    {
     "data": {
      "text/html": [
       "<div>\n",
       "<style scoped>\n",
       "    .dataframe tbody tr th:only-of-type {\n",
       "        vertical-align: middle;\n",
       "    }\n",
       "\n",
       "    .dataframe tbody tr th {\n",
       "        vertical-align: top;\n",
       "    }\n",
       "\n",
       "    .dataframe thead th {\n",
       "        text-align: right;\n",
       "    }\n",
       "</style>\n",
       "<table border=\"1\" class=\"dataframe\">\n",
       "  <thead>\n",
       "    <tr style=\"text-align: right;\">\n",
       "      <th></th>\n",
       "      <th>targeted_sex</th>\n",
       "      <th>average_runtime(minutes_per_week)</th>\n",
       "      <th>airlocation</th>\n",
       "      <th>ratings</th>\n",
       "      <th>money_back_guarantee</th>\n",
       "      <th>realtionship_status_Married-AF-spouse</th>\n",
       "      <th>realtionship_status_Married-civ-spouse</th>\n",
       "      <th>realtionship_status_Married-spouse-absent</th>\n",
       "      <th>realtionship_status_Never-married</th>\n",
       "      <th>realtionship_status_Separated</th>\n",
       "      <th>...</th>\n",
       "      <th>industry_Pharma</th>\n",
       "      <th>industry_Political</th>\n",
       "      <th>genre_Direct</th>\n",
       "      <th>genre_Drama</th>\n",
       "      <th>genre_Infomercial</th>\n",
       "      <th>genre_Other</th>\n",
       "      <th>expensive_Low</th>\n",
       "      <th>expensive_Medium</th>\n",
       "      <th>airtime_Morning</th>\n",
       "      <th>airtime_Primetime</th>\n",
       "    </tr>\n",
       "  </thead>\n",
       "  <tbody>\n",
       "    <tr>\n",
       "      <th>0</th>\n",
       "      <td>0</td>\n",
       "      <td>40</td>\n",
       "      <td>1</td>\n",
       "      <td>0.027465</td>\n",
       "      <td>0</td>\n",
       "      <td>0</td>\n",
       "      <td>1</td>\n",
       "      <td>0</td>\n",
       "      <td>0</td>\n",
       "      <td>0</td>\n",
       "      <td>...</td>\n",
       "      <td>1</td>\n",
       "      <td>0</td>\n",
       "      <td>0</td>\n",
       "      <td>0</td>\n",
       "      <td>0</td>\n",
       "      <td>0</td>\n",
       "      <td>0</td>\n",
       "      <td>1</td>\n",
       "      <td>0</td>\n",
       "      <td>0</td>\n",
       "    </tr>\n",
       "    <tr>\n",
       "      <th>1</th>\n",
       "      <td>0</td>\n",
       "      <td>35</td>\n",
       "      <td>0</td>\n",
       "      <td>0.027465</td>\n",
       "      <td>0</td>\n",
       "      <td>0</td>\n",
       "      <td>0</td>\n",
       "      <td>0</td>\n",
       "      <td>1</td>\n",
       "      <td>0</td>\n",
       "      <td>...</td>\n",
       "      <td>0</td>\n",
       "      <td>1</td>\n",
       "      <td>0</td>\n",
       "      <td>0</td>\n",
       "      <td>0</td>\n",
       "      <td>0</td>\n",
       "      <td>1</td>\n",
       "      <td>0</td>\n",
       "      <td>1</td>\n",
       "      <td>0</td>\n",
       "    </tr>\n",
       "    <tr>\n",
       "      <th>2</th>\n",
       "      <td>0</td>\n",
       "      <td>40</td>\n",
       "      <td>1</td>\n",
       "      <td>0.027465</td>\n",
       "      <td>0</td>\n",
       "      <td>0</td>\n",
       "      <td>0</td>\n",
       "      <td>0</td>\n",
       "      <td>1</td>\n",
       "      <td>0</td>\n",
       "      <td>...</td>\n",
       "      <td>0</td>\n",
       "      <td>0</td>\n",
       "      <td>0</td>\n",
       "      <td>0</td>\n",
       "      <td>0</td>\n",
       "      <td>0</td>\n",
       "      <td>1</td>\n",
       "      <td>0</td>\n",
       "      <td>1</td>\n",
       "      <td>0</td>\n",
       "    </tr>\n",
       "    <tr>\n",
       "      <th>3</th>\n",
       "      <td>0</td>\n",
       "      <td>40</td>\n",
       "      <td>1</td>\n",
       "      <td>0.027465</td>\n",
       "      <td>1</td>\n",
       "      <td>0</td>\n",
       "      <td>1</td>\n",
       "      <td>0</td>\n",
       "      <td>0</td>\n",
       "      <td>0</td>\n",
       "      <td>...</td>\n",
       "      <td>1</td>\n",
       "      <td>0</td>\n",
       "      <td>0</td>\n",
       "      <td>0</td>\n",
       "      <td>1</td>\n",
       "      <td>0</td>\n",
       "      <td>1</td>\n",
       "      <td>0</td>\n",
       "      <td>0</td>\n",
       "      <td>1</td>\n",
       "    </tr>\n",
       "    <tr>\n",
       "      <th>4</th>\n",
       "      <td>1</td>\n",
       "      <td>50</td>\n",
       "      <td>1</td>\n",
       "      <td>0.027465</td>\n",
       "      <td>1</td>\n",
       "      <td>0</td>\n",
       "      <td>1</td>\n",
       "      <td>0</td>\n",
       "      <td>0</td>\n",
       "      <td>0</td>\n",
       "      <td>...</td>\n",
       "      <td>0</td>\n",
       "      <td>0</td>\n",
       "      <td>0</td>\n",
       "      <td>0</td>\n",
       "      <td>0</td>\n",
       "      <td>0</td>\n",
       "      <td>1</td>\n",
       "      <td>0</td>\n",
       "      <td>0</td>\n",
       "      <td>1</td>\n",
       "    </tr>\n",
       "  </tbody>\n",
       "</table>\n",
       "<p>5 rows × 24 columns</p>\n",
       "</div>"
      ],
      "text/plain": [
       "   targeted_sex  average_runtime(minutes_per_week)  airlocation   ratings  \\\n",
       "0             0                                 40            1  0.027465   \n",
       "1             0                                 35            0  0.027465   \n",
       "2             0                                 40            1  0.027465   \n",
       "3             0                                 40            1  0.027465   \n",
       "4             1                                 50            1  0.027465   \n",
       "\n",
       "   money_back_guarantee  realtionship_status_Married-AF-spouse  \\\n",
       "0                     0                                      0   \n",
       "1                     0                                      0   \n",
       "2                     0                                      0   \n",
       "3                     1                                      0   \n",
       "4                     1                                      0   \n",
       "\n",
       "   realtionship_status_Married-civ-spouse  \\\n",
       "0                                       1   \n",
       "1                                       0   \n",
       "2                                       0   \n",
       "3                                       1   \n",
       "4                                       1   \n",
       "\n",
       "   realtionship_status_Married-spouse-absent  \\\n",
       "0                                          0   \n",
       "1                                          0   \n",
       "2                                          0   \n",
       "3                                          0   \n",
       "4                                          0   \n",
       "\n",
       "   realtionship_status_Never-married  realtionship_status_Separated  ...  \\\n",
       "0                                  0                              0  ...   \n",
       "1                                  1                              0  ...   \n",
       "2                                  1                              0  ...   \n",
       "3                                  0                              0  ...   \n",
       "4                                  0                              0  ...   \n",
       "\n",
       "   industry_Pharma  industry_Political  genre_Direct  genre_Drama  \\\n",
       "0                1                   0             0            0   \n",
       "1                0                   1             0            0   \n",
       "2                0                   0             0            0   \n",
       "3                1                   0             0            0   \n",
       "4                0                   0             0            0   \n",
       "\n",
       "   genre_Infomercial  genre_Other  expensive_Low  expensive_Medium  \\\n",
       "0                  0            0              0                 1   \n",
       "1                  0            0              1                 0   \n",
       "2                  0            0              1                 0   \n",
       "3                  1            0              1                 0   \n",
       "4                  0            0              1                 0   \n",
       "\n",
       "   airtime_Morning  airtime_Primetime  \n",
       "0                0                  0  \n",
       "1                1                  0  \n",
       "2                1                  0  \n",
       "3                0                  1  \n",
       "4                0                  1  \n",
       "\n",
       "[5 rows x 24 columns]"
      ]
     },
     "execution_count": 204,
     "metadata": {},
     "output_type": "execute_result"
    }
   ],
   "source": [
    "# Putting feature variable to X\n",
    "from sklearn.model_selection import train_test_split\n",
    "X = df_train.drop(['netgain','UserID'], axis=1)\n",
    "\n",
    "X.head()"
   ]
  },
  {
   "cell_type": "code",
   "execution_count": 205,
   "metadata": {},
   "outputs": [
    {
     "data": {
      "text/plain": [
       "0    0\n",
       "1    0\n",
       "2    0\n",
       "3    0\n",
       "4    1\n",
       "Name: netgain, dtype: int64"
      ]
     },
     "execution_count": 205,
     "metadata": {},
     "output_type": "execute_result"
    }
   ],
   "source": [
    "# Putting response variable to y\n",
    "y = df_train['netgain']\n",
    "\n",
    "y.head()"
   ]
  },
  {
   "cell_type": "code",
   "execution_count": 206,
   "metadata": {},
   "outputs": [],
   "source": [
    "# Splitting the data into train and test\n",
    "X_train, X_test, y_train, y_test = train_test_split(X, y, train_size=0.7, test_size=0.3, random_state=100)"
   ]
  },
  {
   "cell_type": "code",
   "execution_count": 207,
   "metadata": {},
   "outputs": [
    {
     "name": "stderr",
     "output_type": "stream",
     "text": [
      "C:\\Users\\deepti\\anaconda3\\lib\\site-packages\\ipykernel_launcher.py:4: SettingWithCopyWarning: \n",
      "A value is trying to be set on a copy of a slice from a DataFrame.\n",
      "Try using .loc[row_indexer,col_indexer] = value instead\n",
      "\n",
      "See the caveats in the documentation: https://pandas.pydata.org/pandas-docs/stable/user_guide/indexing.html#returning-a-view-versus-a-copy\n",
      "  after removing the cwd from sys.path.\n",
      "C:\\Users\\deepti\\anaconda3\\lib\\site-packages\\pandas\\core\\indexing.py:965: SettingWithCopyWarning: \n",
      "A value is trying to be set on a copy of a slice from a DataFrame.\n",
      "Try using .loc[row_indexer,col_indexer] = value instead\n",
      "\n",
      "See the caveats in the documentation: https://pandas.pydata.org/pandas-docs/stable/user_guide/indexing.html#returning-a-view-versus-a-copy\n",
      "  self.obj[item] = s\n"
     ]
    },
    {
     "data": {
      "text/html": [
       "<div>\n",
       "<style scoped>\n",
       "    .dataframe tbody tr th:only-of-type {\n",
       "        vertical-align: middle;\n",
       "    }\n",
       "\n",
       "    .dataframe tbody tr th {\n",
       "        vertical-align: top;\n",
       "    }\n",
       "\n",
       "    .dataframe thead th {\n",
       "        text-align: right;\n",
       "    }\n",
       "</style>\n",
       "<table border=\"1\" class=\"dataframe\">\n",
       "  <thead>\n",
       "    <tr style=\"text-align: right;\">\n",
       "      <th></th>\n",
       "      <th>targeted_sex</th>\n",
       "      <th>average_runtime(minutes_per_week)</th>\n",
       "      <th>airlocation</th>\n",
       "      <th>ratings</th>\n",
       "      <th>money_back_guarantee</th>\n",
       "      <th>realtionship_status_Married-AF-spouse</th>\n",
       "      <th>realtionship_status_Married-civ-spouse</th>\n",
       "      <th>realtionship_status_Married-spouse-absent</th>\n",
       "      <th>realtionship_status_Never-married</th>\n",
       "      <th>realtionship_status_Separated</th>\n",
       "      <th>...</th>\n",
       "      <th>industry_Pharma</th>\n",
       "      <th>industry_Political</th>\n",
       "      <th>genre_Direct</th>\n",
       "      <th>genre_Drama</th>\n",
       "      <th>genre_Infomercial</th>\n",
       "      <th>genre_Other</th>\n",
       "      <th>expensive_Low</th>\n",
       "      <th>expensive_Medium</th>\n",
       "      <th>airtime_Morning</th>\n",
       "      <th>airtime_Primetime</th>\n",
       "    </tr>\n",
       "  </thead>\n",
       "  <tbody>\n",
       "    <tr>\n",
       "      <th>10930</th>\n",
       "      <td>1</td>\n",
       "      <td>1.575201</td>\n",
       "      <td>1</td>\n",
       "      <td>1.033728</td>\n",
       "      <td>1</td>\n",
       "      <td>0</td>\n",
       "      <td>0</td>\n",
       "      <td>0</td>\n",
       "      <td>1</td>\n",
       "      <td>0</td>\n",
       "      <td>...</td>\n",
       "      <td>0</td>\n",
       "      <td>0</td>\n",
       "      <td>0</td>\n",
       "      <td>0</td>\n",
       "      <td>0</td>\n",
       "      <td>0</td>\n",
       "      <td>1</td>\n",
       "      <td>0</td>\n",
       "      <td>0</td>\n",
       "      <td>1</td>\n",
       "    </tr>\n",
       "    <tr>\n",
       "      <th>2880</th>\n",
       "      <td>1</td>\n",
       "      <td>-0.035639</td>\n",
       "      <td>1</td>\n",
       "      <td>-0.151078</td>\n",
       "      <td>0</td>\n",
       "      <td>0</td>\n",
       "      <td>0</td>\n",
       "      <td>0</td>\n",
       "      <td>1</td>\n",
       "      <td>0</td>\n",
       "      <td>...</td>\n",
       "      <td>0</td>\n",
       "      <td>0</td>\n",
       "      <td>0</td>\n",
       "      <td>0</td>\n",
       "      <td>0</td>\n",
       "      <td>0</td>\n",
       "      <td>0</td>\n",
       "      <td>1</td>\n",
       "      <td>0</td>\n",
       "      <td>1</td>\n",
       "    </tr>\n",
       "    <tr>\n",
       "      <th>10567</th>\n",
       "      <td>1</td>\n",
       "      <td>1.172491</td>\n",
       "      <td>1</td>\n",
       "      <td>-0.151078</td>\n",
       "      <td>0</td>\n",
       "      <td>0</td>\n",
       "      <td>0</td>\n",
       "      <td>0</td>\n",
       "      <td>1</td>\n",
       "      <td>0</td>\n",
       "      <td>...</td>\n",
       "      <td>0</td>\n",
       "      <td>0</td>\n",
       "      <td>0</td>\n",
       "      <td>0</td>\n",
       "      <td>0</td>\n",
       "      <td>0</td>\n",
       "      <td>0</td>\n",
       "      <td>0</td>\n",
       "      <td>1</td>\n",
       "      <td>0</td>\n",
       "    </tr>\n",
       "    <tr>\n",
       "      <th>2359</th>\n",
       "      <td>0</td>\n",
       "      <td>-0.035639</td>\n",
       "      <td>1</td>\n",
       "      <td>-0.151078</td>\n",
       "      <td>1</td>\n",
       "      <td>0</td>\n",
       "      <td>0</td>\n",
       "      <td>0</td>\n",
       "      <td>1</td>\n",
       "      <td>0</td>\n",
       "      <td>...</td>\n",
       "      <td>0</td>\n",
       "      <td>0</td>\n",
       "      <td>0</td>\n",
       "      <td>0</td>\n",
       "      <td>0</td>\n",
       "      <td>0</td>\n",
       "      <td>0</td>\n",
       "      <td>0</td>\n",
       "      <td>1</td>\n",
       "      <td>0</td>\n",
       "    </tr>\n",
       "    <tr>\n",
       "      <th>13850</th>\n",
       "      <td>0</td>\n",
       "      <td>-1.968647</td>\n",
       "      <td>1</td>\n",
       "      <td>-0.151078</td>\n",
       "      <td>1</td>\n",
       "      <td>0</td>\n",
       "      <td>0</td>\n",
       "      <td>0</td>\n",
       "      <td>1</td>\n",
       "      <td>0</td>\n",
       "      <td>...</td>\n",
       "      <td>0</td>\n",
       "      <td>1</td>\n",
       "      <td>0</td>\n",
       "      <td>0</td>\n",
       "      <td>0</td>\n",
       "      <td>0</td>\n",
       "      <td>1</td>\n",
       "      <td>0</td>\n",
       "      <td>0</td>\n",
       "      <td>1</td>\n",
       "    </tr>\n",
       "  </tbody>\n",
       "</table>\n",
       "<p>5 rows × 24 columns</p>\n",
       "</div>"
      ],
      "text/plain": [
       "       targeted_sex  average_runtime(minutes_per_week)  airlocation   ratings  \\\n",
       "10930             1                           1.575201            1  1.033728   \n",
       "2880              1                          -0.035639            1 -0.151078   \n",
       "10567             1                           1.172491            1 -0.151078   \n",
       "2359              0                          -0.035639            1 -0.151078   \n",
       "13850             0                          -1.968647            1 -0.151078   \n",
       "\n",
       "       money_back_guarantee  realtionship_status_Married-AF-spouse  \\\n",
       "10930                     1                                      0   \n",
       "2880                      0                                      0   \n",
       "10567                     0                                      0   \n",
       "2359                      1                                      0   \n",
       "13850                     1                                      0   \n",
       "\n",
       "       realtionship_status_Married-civ-spouse  \\\n",
       "10930                                       0   \n",
       "2880                                        0   \n",
       "10567                                       0   \n",
       "2359                                        0   \n",
       "13850                                       0   \n",
       "\n",
       "       realtionship_status_Married-spouse-absent  \\\n",
       "10930                                          0   \n",
       "2880                                           0   \n",
       "10567                                          0   \n",
       "2359                                           0   \n",
       "13850                                          0   \n",
       "\n",
       "       realtionship_status_Never-married  realtionship_status_Separated  ...  \\\n",
       "10930                                  1                              0  ...   \n",
       "2880                                   1                              0  ...   \n",
       "10567                                  1                              0  ...   \n",
       "2359                                   1                              0  ...   \n",
       "13850                                  1                              0  ...   \n",
       "\n",
       "       industry_Pharma  industry_Political  genre_Direct  genre_Drama  \\\n",
       "10930                0                   0             0            0   \n",
       "2880                 0                   0             0            0   \n",
       "10567                0                   0             0            0   \n",
       "2359                 0                   0             0            0   \n",
       "13850                0                   1             0            0   \n",
       "\n",
       "       genre_Infomercial  genre_Other  expensive_Low  expensive_Medium  \\\n",
       "10930                  0            0              1                 0   \n",
       "2880                   0            0              0                 1   \n",
       "10567                  0            0              0                 0   \n",
       "2359                   0            0              0                 0   \n",
       "13850                  0            0              1                 0   \n",
       "\n",
       "       airtime_Morning  airtime_Primetime  \n",
       "10930                0                  1  \n",
       "2880                 0                  1  \n",
       "10567                1                  0  \n",
       "2359                 1                  0  \n",
       "13850                0                  1  \n",
       "\n",
       "[5 rows x 24 columns]"
      ]
     },
     "execution_count": 207,
     "metadata": {},
     "output_type": "execute_result"
    }
   ],
   "source": [
    "from sklearn.preprocessing import StandardScaler\n",
    "scaler = StandardScaler()\n",
    "\n",
    "X_train[['average_runtime(minutes_per_week)','ratings']] = scaler.fit_transform(X_train[['average_runtime(minutes_per_week)','ratings']])\n",
    "\n",
    "X_train.head()"
   ]
  },
  {
   "cell_type": "code",
   "execution_count": 208,
   "metadata": {},
   "outputs": [
    {
     "data": {
      "text/plain": [
       "23.8022113022113"
      ]
     },
     "execution_count": 208,
     "metadata": {},
     "output_type": "execute_result"
    }
   ],
   "source": [
    "### Checking the Churn Rate\n",
    "net_gain = (sum(df_train['netgain'])/len(df_train['netgain'].index))*100\n",
    "net_gain"
   ]
  },
  {
   "cell_type": "code",
   "execution_count": 209,
   "metadata": {},
   "outputs": [
    {
     "data": {
      "image/png": "[encoded data removed]",
      "text/plain": [
       "<Figure size 1440x720 with 2 Axes>"
      ]
     },
     "metadata": {
      "needs_background": "light"
     },
     "output_type": "display_data"
    }
   ],
   "source": [
    "# Let's see the correlation matrix \n",
    "plt.figure(figsize = (20,10))        # Size of the figure\n",
    "sns.heatmap(df_train.corr(),annot = True)\n",
    "plt.show()"
   ]
  },
  {
   "cell_type": "markdown",
   "metadata": {},
   "source": [
    "### Step 6 : Model Building "
   ]
  },
  {
   "cell_type": "markdown",
   "metadata": {},
   "source": [
    "## LOGISTIC REGRESSION"
   ]
  },
  {
   "cell_type": "markdown",
   "metadata": {},
   "source": [
    "Feature Selection Using RFE"
   ]
  },
  {
   "cell_type": "code",
   "execution_count": 52,
   "metadata": {},
   "outputs": [],
   "source": [
    "from sklearn.linear_model import LogisticRegression\n",
    "logreg = LogisticRegression()"
   ]
  },
  {
   "cell_type": "code",
   "execution_count": 53,
   "metadata": {},
   "outputs": [
    {
     "name": "stderr",
     "output_type": "stream",
     "text": [
      "/opt/anaconda3/lib/python3.8/site-packages/sklearn/utils/validation.py:67: FutureWarning: Pass n_features_to_select=15 as keyword args. From version 0.25 passing these as positional arguments will result in an error\n",
      "  warnings.warn(\"Pass {} as keyword args. From version 0.25 \"\n"
     ]
    }
   ],
   "source": [
    "from sklearn.feature_selection import RFE\n",
    "rfe = RFE(logreg, 15)             # running RFE with 13 variables as output\n",
    "rfe = rfe.fit(X_train, y_train)"
   ]
  },
  {
   "cell_type": "code",
   "execution_count": 54,
   "metadata": {},
   "outputs": [
    {
     "data": {
      "text/plain": [
       "array([ True,  True, False,  True, False,  True,  True, False, False,\n",
       "       False, False,  True,  True,  True,  True,  True,  True, False,\n",
       "        True,  True, False, False,  True,  True])"
      ]
     },
     "execution_count": 54,
     "metadata": {},
     "output_type": "execute_result"
    }
   ],
   "source": [
    "rfe.support_\n"
   ]
  },
  {
   "cell_type": "code",
   "execution_count": 55,
   "metadata": {},
   "outputs": [
    {
     "data": {
      "text/plain": [
       "[('targeted_sex', True, 1),\n",
       " ('average_runtime(minutes_per_week)', True, 1),\n",
       " ('airlocation', False, 3),\n",
       " ('ratings', True, 1),\n",
       " ('money_back_guarantee', False, 8),\n",
       " ('realtionship_status_Married-AF-spouse', True, 1),\n",
       " ('realtionship_status_Married-civ-spouse', True, 1),\n",
       " ('realtionship_status_Married-spouse-absent', False, 10),\n",
       " ('realtionship_status_Never-married', False, 5),\n",
       " ('realtionship_status_Separated', False, 4),\n",
       " ('realtionship_status_Widowed', False, 7),\n",
       " ('industry_ClassAction', True, 1),\n",
       " ('industry_Entertainment', True, 1),\n",
       " ('industry_Other', True, 1),\n",
       " ('industry_Pharma', True, 1),\n",
       " ('industry_Political', True, 1),\n",
       " ('genre_Direct', True, 1),\n",
       " ('genre_Drama', False, 2),\n",
       " ('genre_Infomercial', True, 1),\n",
       " ('genre_Other', True, 1),\n",
       " ('expensive_Low', False, 6),\n",
       " ('expensive_Medium', False, 9),\n",
       " ('airtime_Morning', True, 1),\n",
       " ('airtime_Primetime', True, 1)]"
      ]
     },
     "execution_count": 55,
     "metadata": {},
     "output_type": "execute_result"
    }
   ],
   "source": [
    "list(zip(X_train.columns, rfe.support_, rfe.ranking_))"
   ]
  },
  {
   "cell_type": "code",
   "execution_count": 214,
   "metadata": {},
   "outputs": [],
   "source": [
    "col = X_train.columns[rfe.support_]"
   ]
  },
  {
   "cell_type": "code",
   "execution_count": 215,
   "metadata": {},
   "outputs": [
    {
     "data": {
      "text/plain": [
       "Index(['airlocation', 'money_back_guarantee',\n",
       "       'realtionship_status_Married-spouse-absent',\n",
       "       'realtionship_status_Never-married', 'realtionship_status_Separated',\n",
       "       'realtionship_status_Widowed', 'genre_Drama', 'expensive_Low',\n",
       "       'expensive_Medium'],\n",
       "      dtype='object')"
      ]
     },
     "execution_count": 215,
     "metadata": {},
     "output_type": "execute_result"
    }
   ],
   "source": [
    "X_train.columns[~rfe.support_]"
   ]
  },
  {
   "cell_type": "code",
   "execution_count": 216,
   "metadata": {},
   "outputs": [],
   "source": [
    "## Assessing the model with stats\n",
    "import statsmodels.api as sm"
   ]
  },
  {
   "cell_type": "code",
   "execution_count": 217,
   "metadata": {},
   "outputs": [
    {
     "data": {
      "text/html": [
       "<table class=\"simpletable\">\n",
       "<caption>Generalized Linear Model Regression Results</caption>\n",
       "<tr>\n",
       "  <th>Dep. Variable:</th>        <td>netgain</td>     <th>  No. Observations:  </th>  <td> 13675</td> \n",
       "</tr>\n",
       "<tr>\n",
       "  <th>Model:</th>                  <td>GLM</td>       <th>  Df Residuals:      </th>  <td> 13659</td> \n",
       "</tr>\n",
       "<tr>\n",
       "  <th>Model Family:</th>        <td>Binomial</td>     <th>  Df Model:          </th>  <td>    15</td> \n",
       "</tr>\n",
       "<tr>\n",
       "  <th>Link Function:</th>         <td>logit</td>      <th>  Scale:             </th> <td>  1.0000</td>\n",
       "</tr>\n",
       "<tr>\n",
       "  <th>Method:</th>                <td>IRLS</td>       <th>  Log-Likelihood:    </th> <td> -5251.7</td>\n",
       "</tr>\n",
       "<tr>\n",
       "  <th>Date:</th>            <td>Tue, 08 Dec 2020</td> <th>  Deviance:          </th> <td>  10503.</td>\n",
       "</tr>\n",
       "<tr>\n",
       "  <th>Time:</th>                <td>03:35:38</td>     <th>  Pearson chi2:      </th> <td>7.27e+09</td>\n",
       "</tr>\n",
       "<tr>\n",
       "  <th>No. Iterations:</th>          <td>8</td>        <th>                     </th>     <td> </td>   \n",
       "</tr>\n",
       "<tr>\n",
       "  <th>Covariance Type:</th>     <td>nonrobust</td>    <th>                     </th>     <td> </td>   \n",
       "</tr>\n",
       "</table>\n",
       "<table class=\"simpletable\">\n",
       "<tr>\n",
       "                     <td></td>                       <th>coef</th>     <th>std err</th>      <th>z</th>      <th>P>|z|</th>  <th>[0.025</th>    <th>0.975]</th>  \n",
       "</tr>\n",
       "<tr>\n",
       "  <th>const</th>                                  <td>   -2.0638</td> <td>    0.113</td> <td>  -18.191</td> <td> 0.000</td> <td>   -2.286</td> <td>   -1.841</td>\n",
       "</tr>\n",
       "<tr>\n",
       "  <th>targeted_sex</th>                           <td>   -0.2653</td> <td>    0.104</td> <td>   -2.543</td> <td> 0.011</td> <td>   -0.470</td> <td>   -0.061</td>\n",
       "</tr>\n",
       "<tr>\n",
       "  <th>average_runtime(minutes_per_week)</th>      <td>    0.3593</td> <td>    0.027</td> <td>   13.296</td> <td> 0.000</td> <td>    0.306</td> <td>    0.412</td>\n",
       "</tr>\n",
       "<tr>\n",
       "  <th>ratings</th>                                <td>    2.0354</td> <td>    0.093</td> <td>   21.929</td> <td> 0.000</td> <td>    1.853</td> <td>    2.217</td>\n",
       "</tr>\n",
       "<tr>\n",
       "  <th>realtionship_status_Married-AF-spouse</th>  <td>    2.1995</td> <td>    0.732</td> <td>    3.003</td> <td> 0.003</td> <td>    0.764</td> <td>    3.635</td>\n",
       "</tr>\n",
       "<tr>\n",
       "  <th>realtionship_status_Married-civ-spouse</th> <td>    1.0554</td> <td>    0.348</td> <td>    3.033</td> <td> 0.002</td> <td>    0.373</td> <td>    1.737</td>\n",
       "</tr>\n",
       "<tr>\n",
       "  <th>industry_ClassAction</th>                   <td>   -0.6565</td> <td>    0.270</td> <td>   -2.433</td> <td> 0.015</td> <td>   -1.185</td> <td>   -0.128</td>\n",
       "</tr>\n",
       "<tr>\n",
       "  <th>industry_Entertainment</th>                 <td>   -0.2423</td> <td>    0.130</td> <td>   -1.868</td> <td> 0.062</td> <td>   -0.496</td> <td>    0.012</td>\n",
       "</tr>\n",
       "<tr>\n",
       "  <th>industry_Other</th>                         <td>    1.2470</td> <td>    0.368</td> <td>    3.385</td> <td> 0.001</td> <td>    0.525</td> <td>    1.969</td>\n",
       "</tr>\n",
       "<tr>\n",
       "  <th>industry_Pharma</th>                        <td>    0.6654</td> <td>    0.356</td> <td>    1.870</td> <td> 0.061</td> <td>   -0.032</td> <td>    1.363</td>\n",
       "</tr>\n",
       "<tr>\n",
       "  <th>industry_Political</th>                     <td>   -0.9883</td> <td>    0.182</td> <td>   -5.418</td> <td> 0.000</td> <td>   -1.346</td> <td>   -0.631</td>\n",
       "</tr>\n",
       "<tr>\n",
       "  <th>genre_Direct</th>                           <td>   -0.5279</td> <td>    0.290</td> <td>   -1.822</td> <td> 0.068</td> <td>   -1.096</td> <td>    0.040</td>\n",
       "</tr>\n",
       "<tr>\n",
       "  <th>genre_Infomercial</th>                      <td>   -0.4680</td> <td>    0.104</td> <td>   -4.513</td> <td> 0.000</td> <td>   -0.671</td> <td>   -0.265</td>\n",
       "</tr>\n",
       "<tr>\n",
       "  <th>genre_Other</th>                            <td>   -0.3726</td> <td>    0.304</td> <td>   -1.227</td> <td> 0.220</td> <td>   -0.968</td> <td>    0.223</td>\n",
       "</tr>\n",
       "<tr>\n",
       "  <th>airtime_Morning</th>                        <td>   -0.8248</td> <td>    0.112</td> <td>   -7.357</td> <td> 0.000</td> <td>   -1.045</td> <td>   -0.605</td>\n",
       "</tr>\n",
       "<tr>\n",
       "  <th>airtime_Primetime</th>                      <td>    0.3015</td> <td>    0.092</td> <td>    3.295</td> <td> 0.001</td> <td>    0.122</td> <td>    0.481</td>\n",
       "</tr>\n",
       "</table>"
      ],
      "text/plain": [
       "<class 'statsmodels.iolib.summary.Summary'>\n",
       "\"\"\"\n",
       "                 Generalized Linear Model Regression Results                  \n",
       "==============================================================================\n",
       "Dep. Variable:                netgain   No. Observations:                13675\n",
       "Model:                            GLM   Df Residuals:                    13659\n",
       "Model Family:                Binomial   Df Model:                           15\n",
       "Link Function:                  logit   Scale:                          1.0000\n",
       "Method:                          IRLS   Log-Likelihood:                -5251.7\n",
       "Date:                Tue, 08 Dec 2020   Deviance:                       10503.\n",
       "Time:                        03:35:38   Pearson chi2:                 7.27e+09\n",
       "No. Iterations:                     8                                         \n",
       "Covariance Type:            nonrobust                                         \n",
       "==========================================================================================================\n",
       "                                             coef    std err          z      P>|z|      [0.025      0.975]\n",
       "----------------------------------------------------------------------------------------------------------\n",
       "const                                     -2.0638      0.113    -18.191      0.000      -2.286      -1.841\n",
       "targeted_sex                              -0.2653      0.104     -2.543      0.011      -0.470      -0.061\n",
       "average_runtime(minutes_per_week)          0.3593      0.027     13.296      0.000       0.306       0.412\n",
       "ratings                                    2.0354      0.093     21.929      0.000       1.853       2.217\n",
       "realtionship_status_Married-AF-spouse      2.1995      0.732      3.003      0.003       0.764       3.635\n",
       "realtionship_status_Married-civ-spouse     1.0554      0.348      3.033      0.002       0.373       1.737\n",
       "industry_ClassAction                      -0.6565      0.270     -2.433      0.015      -1.185      -0.128\n",
       "industry_Entertainment                    -0.2423      0.130     -1.868      0.062      -0.496       0.012\n",
       "industry_Other                             1.2470      0.368      3.385      0.001       0.525       1.969\n",
       "industry_Pharma                            0.6654      0.356      1.870      0.061      -0.032       1.363\n",
       "industry_Political                        -0.9883      0.182     -5.418      0.000      -1.346      -0.631\n",
       "genre_Direct                              -0.5279      0.290     -1.822      0.068      -1.096       0.040\n",
       "genre_Infomercial                         -0.4680      0.104     -4.513      0.000      -0.671      -0.265\n",
       "genre_Other                               -0.3726      0.304     -1.227      0.220      -0.968       0.223\n",
       "airtime_Morning                           -0.8248      0.112     -7.357      0.000      -1.045      -0.605\n",
       "airtime_Primetime                          0.3015      0.092      3.295      0.001       0.122       0.481\n",
       "==========================================================================================================\n",
       "\"\"\""
      ]
     },
     "execution_count": 217,
     "metadata": {},
     "output_type": "execute_result"
    }
   ],
   "source": [
    "X_train_sm = sm.add_constant(X_train[col])\n",
    "logm2 = sm.GLM(y_train,X_train_sm, family = sm.families.Binomial())\n",
    "res = logm2.fit()\n",
    "res.summary()"
   ]
  },
  {
   "cell_type": "code",
   "execution_count": 218,
   "metadata": {},
   "outputs": [
    {
     "data": {
      "text/plain": [
       "array([0.65531124, 0.08723139, 0.04564751, 0.03883275, 0.02263133,\n",
       "       0.28076787, 0.41051455, 0.110799  , 0.04912954, 0.07469443])"
      ]
     },
     "execution_count": 218,
     "metadata": {},
     "output_type": "execute_result"
    }
   ],
   "source": [
    "y_train_pred = res.predict(X_train_sm).values.reshape(-1)\n",
    "y_train_pred[:10]\n"
   ]
  },
  {
   "cell_type": "code",
   "execution_count": 219,
   "metadata": {},
   "outputs": [
    {
     "data": {
      "text/html": [
       "<div>\n",
       "<style scoped>\n",
       "    .dataframe tbody tr th:only-of-type {\n",
       "        vertical-align: middle;\n",
       "    }\n",
       "\n",
       "    .dataframe tbody tr th {\n",
       "        vertical-align: top;\n",
       "    }\n",
       "\n",
       "    .dataframe thead th {\n",
       "        text-align: right;\n",
       "    }\n",
       "</style>\n",
       "<table border=\"1\" class=\"dataframe\">\n",
       "  <thead>\n",
       "    <tr style=\"text-align: right;\">\n",
       "      <th></th>\n",
       "      <th>Netgain</th>\n",
       "      <th>Netgain_Prob</th>\n",
       "      <th>UserID</th>\n",
       "    </tr>\n",
       "  </thead>\n",
       "  <tbody>\n",
       "    <tr>\n",
       "      <th>0</th>\n",
       "      <td>1</td>\n",
       "      <td>0.655311</td>\n",
       "      <td>10930</td>\n",
       "    </tr>\n",
       "    <tr>\n",
       "      <th>1</th>\n",
       "      <td>0</td>\n",
       "      <td>0.087231</td>\n",
       "      <td>2880</td>\n",
       "    </tr>\n",
       "    <tr>\n",
       "      <th>2</th>\n",
       "      <td>0</td>\n",
       "      <td>0.045648</td>\n",
       "      <td>10567</td>\n",
       "    </tr>\n",
       "    <tr>\n",
       "      <th>3</th>\n",
       "      <td>0</td>\n",
       "      <td>0.038833</td>\n",
       "      <td>2359</td>\n",
       "    </tr>\n",
       "    <tr>\n",
       "      <th>4</th>\n",
       "      <td>0</td>\n",
       "      <td>0.022631</td>\n",
       "      <td>13850</td>\n",
       "    </tr>\n",
       "  </tbody>\n",
       "</table>\n",
       "</div>"
      ],
      "text/plain": [
       "   Netgain  Netgain_Prob  UserID\n",
       "0        1      0.655311   10930\n",
       "1        0      0.087231    2880\n",
       "2        0      0.045648   10567\n",
       "3        0      0.038833    2359\n",
       "4        0      0.022631   13850"
      ]
     },
     "execution_count": 219,
     "metadata": {},
     "output_type": "execute_result"
    }
   ],
   "source": [
    "y_train_pred_final = pd.DataFrame({'Netgain':y_train.values, 'Netgain_Prob':y_train_pred})\n",
    "y_train_pred_final['UserID'] = y_train.index\n",
    "y_train_pred_final.head()\n"
   ]
  },
  {
   "cell_type": "code",
   "execution_count": 220,
   "metadata": {},
   "outputs": [
    {
     "data": {
      "text/html": [
       "<div>\n",
       "<style scoped>\n",
       "    .dataframe tbody tr th:only-of-type {\n",
       "        vertical-align: middle;\n",
       "    }\n",
       "\n",
       "    .dataframe tbody tr th {\n",
       "        vertical-align: top;\n",
       "    }\n",
       "\n",
       "    .dataframe thead th {\n",
       "        text-align: right;\n",
       "    }\n",
       "</style>\n",
       "<table border=\"1\" class=\"dataframe\">\n",
       "  <thead>\n",
       "    <tr style=\"text-align: right;\">\n",
       "      <th></th>\n",
       "      <th>Netgain</th>\n",
       "      <th>Netgain_Prob</th>\n",
       "      <th>UserID</th>\n",
       "      <th>predicted</th>\n",
       "    </tr>\n",
       "  </thead>\n",
       "  <tbody>\n",
       "    <tr>\n",
       "      <th>0</th>\n",
       "      <td>1</td>\n",
       "      <td>0.655311</td>\n",
       "      <td>10930</td>\n",
       "      <td>1</td>\n",
       "    </tr>\n",
       "    <tr>\n",
       "      <th>1</th>\n",
       "      <td>0</td>\n",
       "      <td>0.087231</td>\n",
       "      <td>2880</td>\n",
       "      <td>0</td>\n",
       "    </tr>\n",
       "    <tr>\n",
       "      <th>2</th>\n",
       "      <td>0</td>\n",
       "      <td>0.045648</td>\n",
       "      <td>10567</td>\n",
       "      <td>0</td>\n",
       "    </tr>\n",
       "    <tr>\n",
       "      <th>3</th>\n",
       "      <td>0</td>\n",
       "      <td>0.038833</td>\n",
       "      <td>2359</td>\n",
       "      <td>0</td>\n",
       "    </tr>\n",
       "    <tr>\n",
       "      <th>4</th>\n",
       "      <td>0</td>\n",
       "      <td>0.022631</td>\n",
       "      <td>13850</td>\n",
       "      <td>0</td>\n",
       "    </tr>\n",
       "  </tbody>\n",
       "</table>\n",
       "</div>"
      ],
      "text/plain": [
       "   Netgain  Netgain_Prob  UserID  predicted\n",
       "0        1      0.655311   10930          1\n",
       "1        0      0.087231    2880          0\n",
       "2        0      0.045648   10567          0\n",
       "3        0      0.038833    2359          0\n",
       "4        0      0.022631   13850          0"
      ]
     },
     "execution_count": 220,
     "metadata": {},
     "output_type": "execute_result"
    }
   ],
   "source": [
    "\n",
    "y_train_pred_final['Netgain_Prob'] = y_train_pred\n",
    "# Creating new column 'predicted' with 1 if Churn_Prob > 0.5 else 0\n",
    "y_train_pred_final['predicted'] = y_train_pred_final.Netgain_Prob.map(lambda x: 1 if x > 0.5 else 0)\n",
    "y_train_pred_final.head()"
   ]
  },
  {
   "cell_type": "code",
   "execution_count": 221,
   "metadata": {},
   "outputs": [],
   "source": [
    "from sklearn import metrics"
   ]
  },
  {
   "cell_type": "code",
   "execution_count": 222,
   "metadata": {},
   "outputs": [
    {
     "name": "stdout",
     "output_type": "stream",
     "text": [
      "[[9965  442]\n",
      " [2243 1025]]\n"
     ]
    }
   ],
   "source": [
    " #Confusion matrix \n",
    "confusion = metrics.confusion_matrix(y_train_pred_final.Netgain, y_train_pred_final.predicted )\n",
    "print(confusion)"
   ]
  },
  {
   "cell_type": "code",
   "execution_count": 223,
   "metadata": {},
   "outputs": [
    {
     "name": "stdout",
     "output_type": "stream",
     "text": [
      "0.8036563071297989\n"
     ]
    }
   ],
   "source": [
    "# Let's check the overall accuracy.\n",
    "print(metrics.accuracy_score(y_train_pred_final.Netgain, y_train_pred_final.predicted))"
   ]
  },
  {
   "cell_type": "markdown",
   "metadata": {},
   "source": [
    " However while looking at the model we have one variable has p value gretaer than 15, therefore we need to drop that variable and run the model again. The variable  genre_Drama has the highest p value. So let's start by dropping that."
   ]
  },
  {
   "cell_type": "code",
   "execution_count": 224,
   "metadata": {},
   "outputs": [
    {
     "data": {
      "text/plain": [
       "Index(['targeted_sex', 'average_runtime(minutes_per_week)', 'ratings',\n",
       "       'realtionship_status_Married-AF-spouse',\n",
       "       'realtionship_status_Married-civ-spouse', 'industry_ClassAction',\n",
       "       'industry_Entertainment', 'industry_Other', 'industry_Pharma',\n",
       "       'industry_Political', 'genre_Direct', 'genre_Infomercial',\n",
       "       'airtime_Morning', 'airtime_Primetime'],\n",
       "      dtype='object')"
      ]
     },
     "execution_count": 224,
     "metadata": {},
     "output_type": "execute_result"
    }
   ],
   "source": [
    "col = col.drop('genre_Other', 1)\n",
    "col"
   ]
  },
  {
   "cell_type": "code",
   "execution_count": 225,
   "metadata": {},
   "outputs": [
    {
     "data": {
      "text/html": [
       "<table class=\"simpletable\">\n",
       "<caption>Generalized Linear Model Regression Results</caption>\n",
       "<tr>\n",
       "  <th>Dep. Variable:</th>        <td>netgain</td>     <th>  No. Observations:  </th>  <td> 13675</td> \n",
       "</tr>\n",
       "<tr>\n",
       "  <th>Model:</th>                  <td>GLM</td>       <th>  Df Residuals:      </th>  <td> 13660</td> \n",
       "</tr>\n",
       "<tr>\n",
       "  <th>Model Family:</th>        <td>Binomial</td>     <th>  Df Model:          </th>  <td>    14</td> \n",
       "</tr>\n",
       "<tr>\n",
       "  <th>Link Function:</th>         <td>logit</td>      <th>  Scale:             </th> <td>  1.0000</td>\n",
       "</tr>\n",
       "<tr>\n",
       "  <th>Method:</th>                <td>IRLS</td>       <th>  Log-Likelihood:    </th> <td> -5252.5</td>\n",
       "</tr>\n",
       "<tr>\n",
       "  <th>Date:</th>            <td>Tue, 08 Dec 2020</td> <th>  Deviance:          </th> <td>  10505.</td>\n",
       "</tr>\n",
       "<tr>\n",
       "  <th>Time:</th>                <td>03:35:38</td>     <th>  Pearson chi2:      </th> <td>7.14e+09</td>\n",
       "</tr>\n",
       "<tr>\n",
       "  <th>No. Iterations:</th>          <td>8</td>        <th>                     </th>     <td> </td>   \n",
       "</tr>\n",
       "<tr>\n",
       "  <th>Covariance Type:</th>     <td>nonrobust</td>    <th>                     </th>     <td> </td>   \n",
       "</tr>\n",
       "</table>\n",
       "<table class=\"simpletable\">\n",
       "<tr>\n",
       "                     <td></td>                       <th>coef</th>     <th>std err</th>      <th>z</th>      <th>P>|z|</th>  <th>[0.025</th>    <th>0.975]</th>  \n",
       "</tr>\n",
       "<tr>\n",
       "  <th>const</th>                                  <td>   -2.0684</td> <td>    0.113</td> <td>  -18.244</td> <td> 0.000</td> <td>   -2.291</td> <td>   -1.846</td>\n",
       "</tr>\n",
       "<tr>\n",
       "  <th>targeted_sex</th>                           <td>   -0.2643</td> <td>    0.104</td> <td>   -2.533</td> <td> 0.011</td> <td>   -0.469</td> <td>   -0.060</td>\n",
       "</tr>\n",
       "<tr>\n",
       "  <th>average_runtime(minutes_per_week)</th>      <td>    0.3590</td> <td>    0.027</td> <td>   13.288</td> <td> 0.000</td> <td>    0.306</td> <td>    0.412</td>\n",
       "</tr>\n",
       "<tr>\n",
       "  <th>ratings</th>                                <td>    2.0343</td> <td>    0.093</td> <td>   21.921</td> <td> 0.000</td> <td>    1.852</td> <td>    2.216</td>\n",
       "</tr>\n",
       "<tr>\n",
       "  <th>realtionship_status_Married-AF-spouse</th>  <td>    2.1903</td> <td>    0.732</td> <td>    2.990</td> <td> 0.003</td> <td>    0.755</td> <td>    3.626</td>\n",
       "</tr>\n",
       "<tr>\n",
       "  <th>realtionship_status_Married-civ-spouse</th> <td>    1.0436</td> <td>    0.348</td> <td>    3.001</td> <td> 0.003</td> <td>    0.362</td> <td>    1.725</td>\n",
       "</tr>\n",
       "<tr>\n",
       "  <th>industry_ClassAction</th>                   <td>   -0.6594</td> <td>    0.270</td> <td>   -2.443</td> <td> 0.015</td> <td>   -1.188</td> <td>   -0.130</td>\n",
       "</tr>\n",
       "<tr>\n",
       "  <th>industry_Entertainment</th>                 <td>   -0.2423</td> <td>    0.130</td> <td>   -1.868</td> <td> 0.062</td> <td>   -0.496</td> <td>    0.012</td>\n",
       "</tr>\n",
       "<tr>\n",
       "  <th>industry_Other</th>                         <td>    1.2552</td> <td>    0.368</td> <td>    3.409</td> <td> 0.001</td> <td>    0.534</td> <td>    1.977</td>\n",
       "</tr>\n",
       "<tr>\n",
       "  <th>industry_Pharma</th>                        <td>    0.6792</td> <td>    0.356</td> <td>    1.910</td> <td> 0.056</td> <td>   -0.018</td> <td>    1.376</td>\n",
       "</tr>\n",
       "<tr>\n",
       "  <th>industry_Political</th>                     <td>   -0.9893</td> <td>    0.183</td> <td>   -5.419</td> <td> 0.000</td> <td>   -1.347</td> <td>   -0.632</td>\n",
       "</tr>\n",
       "<tr>\n",
       "  <th>genre_Direct</th>                           <td>   -0.5250</td> <td>    0.290</td> <td>   -1.812</td> <td> 0.070</td> <td>   -1.093</td> <td>    0.043</td>\n",
       "</tr>\n",
       "<tr>\n",
       "  <th>genre_Infomercial</th>                      <td>   -0.4647</td> <td>    0.104</td> <td>   -4.483</td> <td> 0.000</td> <td>   -0.668</td> <td>   -0.262</td>\n",
       "</tr>\n",
       "<tr>\n",
       "  <th>airtime_Morning</th>                        <td>   -0.8244</td> <td>    0.112</td> <td>   -7.354</td> <td> 0.000</td> <td>   -1.044</td> <td>   -0.605</td>\n",
       "</tr>\n",
       "<tr>\n",
       "  <th>airtime_Primetime</th>                      <td>    0.3023</td> <td>    0.091</td> <td>    3.304</td> <td> 0.001</td> <td>    0.123</td> <td>    0.482</td>\n",
       "</tr>\n",
       "</table>"
      ],
      "text/plain": [
       "<class 'statsmodels.iolib.summary.Summary'>\n",
       "\"\"\"\n",
       "                 Generalized Linear Model Regression Results                  \n",
       "==============================================================================\n",
       "Dep. Variable:                netgain   No. Observations:                13675\n",
       "Model:                            GLM   Df Residuals:                    13660\n",
       "Model Family:                Binomial   Df Model:                           14\n",
       "Link Function:                  logit   Scale:                          1.0000\n",
       "Method:                          IRLS   Log-Likelihood:                -5252.5\n",
       "Date:                Tue, 08 Dec 2020   Deviance:                       10505.\n",
       "Time:                        03:35:38   Pearson chi2:                 7.14e+09\n",
       "No. Iterations:                     8                                         \n",
       "Covariance Type:            nonrobust                                         \n",
       "==========================================================================================================\n",
       "                                             coef    std err          z      P>|z|      [0.025      0.975]\n",
       "----------------------------------------------------------------------------------------------------------\n",
       "const                                     -2.0684      0.113    -18.244      0.000      -2.291      -1.846\n",
       "targeted_sex                              -0.2643      0.104     -2.533      0.011      -0.469      -0.060\n",
       "average_runtime(minutes_per_week)          0.3590      0.027     13.288      0.000       0.306       0.412\n",
       "ratings                                    2.0343      0.093     21.921      0.000       1.852       2.216\n",
       "realtionship_status_Married-AF-spouse      2.1903      0.732      2.990      0.003       0.755       3.626\n",
       "realtionship_status_Married-civ-spouse     1.0436      0.348      3.001      0.003       0.362       1.725\n",
       "industry_ClassAction                      -0.6594      0.270     -2.443      0.015      -1.188      -0.130\n",
       "industry_Entertainment                    -0.2423      0.130     -1.868      0.062      -0.496       0.012\n",
       "industry_Other                             1.2552      0.368      3.409      0.001       0.534       1.977\n",
       "industry_Pharma                            0.6792      0.356      1.910      0.056      -0.018       1.376\n",
       "industry_Political                        -0.9893      0.183     -5.419      0.000      -1.347      -0.632\n",
       "genre_Direct                              -0.5250      0.290     -1.812      0.070      -1.093       0.043\n",
       "genre_Infomercial                         -0.4647      0.104     -4.483      0.000      -0.668      -0.262\n",
       "airtime_Morning                           -0.8244      0.112     -7.354      0.000      -1.044      -0.605\n",
       "airtime_Primetime                          0.3023      0.091      3.304      0.001       0.123       0.482\n",
       "==========================================================================================================\n",
       "\"\"\""
      ]
     },
     "execution_count": 225,
     "metadata": {},
     "output_type": "execute_result"
    }
   ],
   "source": [
    "# Let's re-run the model using the selected variables\n",
    "X_train_sm = sm.add_constant(X_train[col])\n",
    "logm3 = sm.GLM(y_train,X_train_sm, family = sm.families.Binomial())\n",
    "res = logm3.fit()\n",
    "res.summary()"
   ]
  },
  {
   "cell_type": "code",
   "execution_count": 226,
   "metadata": {},
   "outputs": [
    {
     "data": {
      "text/html": [
       "<div>\n",
       "<style scoped>\n",
       "    .dataframe tbody tr th:only-of-type {\n",
       "        vertical-align: middle;\n",
       "    }\n",
       "\n",
       "    .dataframe tbody tr th {\n",
       "        vertical-align: top;\n",
       "    }\n",
       "\n",
       "    .dataframe thead th {\n",
       "        text-align: right;\n",
       "    }\n",
       "</style>\n",
       "<table border=\"1\" class=\"dataframe\">\n",
       "  <thead>\n",
       "    <tr style=\"text-align: right;\">\n",
       "      <th></th>\n",
       "      <th>Features</th>\n",
       "      <th>VIF</th>\n",
       "    </tr>\n",
       "  </thead>\n",
       "  <tbody>\n",
       "    <tr>\n",
       "      <th>4</th>\n",
       "      <td>realtionship_status_Married-civ-spouse</td>\n",
       "      <td>63.93</td>\n",
       "    </tr>\n",
       "    <tr>\n",
       "      <th>8</th>\n",
       "      <td>industry_Pharma</td>\n",
       "      <td>57.99</td>\n",
       "    </tr>\n",
       "    <tr>\n",
       "      <th>7</th>\n",
       "      <td>industry_Other</td>\n",
       "      <td>8.47</td>\n",
       "    </tr>\n",
       "    <tr>\n",
       "      <th>13</th>\n",
       "      <td>airtime_Primetime</td>\n",
       "      <td>3.48</td>\n",
       "    </tr>\n",
       "    <tr>\n",
       "      <th>0</th>\n",
       "      <td>targeted_sex</td>\n",
       "      <td>2.37</td>\n",
       "    </tr>\n",
       "    <tr>\n",
       "      <th>12</th>\n",
       "      <td>airtime_Morning</td>\n",
       "      <td>2.36</td>\n",
       "    </tr>\n",
       "    <tr>\n",
       "      <th>9</th>\n",
       "      <td>industry_Political</td>\n",
       "      <td>1.86</td>\n",
       "    </tr>\n",
       "    <tr>\n",
       "      <th>6</th>\n",
       "      <td>industry_Entertainment</td>\n",
       "      <td>1.48</td>\n",
       "    </tr>\n",
       "    <tr>\n",
       "      <th>5</th>\n",
       "      <td>industry_ClassAction</td>\n",
       "      <td>1.18</td>\n",
       "    </tr>\n",
       "    <tr>\n",
       "      <th>1</th>\n",
       "      <td>average_runtime(minutes_per_week)</td>\n",
       "      <td>1.15</td>\n",
       "    </tr>\n",
       "    <tr>\n",
       "      <th>11</th>\n",
       "      <td>genre_Infomercial</td>\n",
       "      <td>1.14</td>\n",
       "    </tr>\n",
       "    <tr>\n",
       "      <th>3</th>\n",
       "      <td>realtionship_status_Married-AF-spouse</td>\n",
       "      <td>1.10</td>\n",
       "    </tr>\n",
       "    <tr>\n",
       "      <th>2</th>\n",
       "      <td>ratings</td>\n",
       "      <td>1.01</td>\n",
       "    </tr>\n",
       "    <tr>\n",
       "      <th>10</th>\n",
       "      <td>genre_Direct</td>\n",
       "      <td>1.01</td>\n",
       "    </tr>\n",
       "  </tbody>\n",
       "</table>\n",
       "</div>"
      ],
      "text/plain": [
       "                                  Features    VIF\n",
       "4   realtionship_status_Married-civ-spouse  63.93\n",
       "8                          industry_Pharma  57.99\n",
       "7                           industry_Other   8.47\n",
       "13                       airtime_Primetime   3.48\n",
       "0                             targeted_sex   2.37\n",
       "12                         airtime_Morning   2.36\n",
       "9                       industry_Political   1.86\n",
       "6                   industry_Entertainment   1.48\n",
       "5                     industry_ClassAction   1.18\n",
       "1        average_runtime(minutes_per_week)   1.15\n",
       "11                       genre_Infomercial   1.14\n",
       "3    realtionship_status_Married-AF-spouse   1.10\n",
       "2                                  ratings   1.01\n",
       "10                            genre_Direct   1.01"
      ]
     },
     "execution_count": 226,
     "metadata": {},
     "output_type": "execute_result"
    }
   ],
   "source": [
    " #Check for the VIF values of the feature variables. \n",
    "from statsmodels.stats.outliers_influence import variance_inflation_factor\n",
    "# Create a dataframe that will contain the names of all the feature variables and their respective VIFs\n",
    "vif = pd.DataFrame()\n",
    "vif['Features'] = X_train[col].columns\n",
    "vif['VIF'] = [variance_inflation_factor(X_train[col].values, i) for i in range(X_train[col].shape[1])]\n",
    "vif['VIF'] = round(vif['VIF'], 2)\n",
    "vif = vif.sort_values(by = \"VIF\", ascending = False)\n",
    "vif"
   ]
  },
  {
   "cell_type": "markdown",
   "metadata": {},
   "source": [
    "The above analysis shows that genre_direct has very high p value . Lets drop this variable "
   ]
  },
  {
   "cell_type": "code",
   "execution_count": 227,
   "metadata": {},
   "outputs": [
    {
     "data": {
      "text/plain": [
       "Index(['targeted_sex', 'average_runtime(minutes_per_week)', 'ratings',\n",
       "       'realtionship_status_Married-AF-spouse',\n",
       "       'realtionship_status_Married-civ-spouse', 'industry_ClassAction',\n",
       "       'industry_Entertainment', 'industry_Other', 'industry_Pharma',\n",
       "       'industry_Political', 'genre_Infomercial', 'airtime_Morning',\n",
       "       'airtime_Primetime'],\n",
       "      dtype='object')"
      ]
     },
     "execution_count": 227,
     "metadata": {},
     "output_type": "execute_result"
    }
   ],
   "source": [
    "col = col.drop('genre_Direct', 1)\n",
    "col"
   ]
  },
  {
   "cell_type": "code",
   "execution_count": 228,
   "metadata": {},
   "outputs": [
    {
     "data": {
      "text/html": [
       "<table class=\"simpletable\">\n",
       "<caption>Generalized Linear Model Regression Results</caption>\n",
       "<tr>\n",
       "  <th>Dep. Variable:</th>        <td>netgain</td>     <th>  No. Observations:  </th>  <td> 13675</td> \n",
       "</tr>\n",
       "<tr>\n",
       "  <th>Model:</th>                  <td>GLM</td>       <th>  Df Residuals:      </th>  <td> 13661</td> \n",
       "</tr>\n",
       "<tr>\n",
       "  <th>Model Family:</th>        <td>Binomial</td>     <th>  Df Model:          </th>  <td>    13</td> \n",
       "</tr>\n",
       "<tr>\n",
       "  <th>Link Function:</th>         <td>logit</td>      <th>  Scale:             </th> <td>  1.0000</td>\n",
       "</tr>\n",
       "<tr>\n",
       "  <th>Method:</th>                <td>IRLS</td>       <th>  Log-Likelihood:    </th> <td> -5254.3</td>\n",
       "</tr>\n",
       "<tr>\n",
       "  <th>Date:</th>            <td>Tue, 08 Dec 2020</td> <th>  Deviance:          </th> <td>  10509.</td>\n",
       "</tr>\n",
       "<tr>\n",
       "  <th>Time:</th>                <td>03:35:39</td>     <th>  Pearson chi2:      </th> <td>7.03e+09</td>\n",
       "</tr>\n",
       "<tr>\n",
       "  <th>No. Iterations:</th>          <td>8</td>        <th>                     </th>     <td> </td>   \n",
       "</tr>\n",
       "<tr>\n",
       "  <th>Covariance Type:</th>     <td>nonrobust</td>    <th>                     </th>     <td> </td>   \n",
       "</tr>\n",
       "</table>\n",
       "<table class=\"simpletable\">\n",
       "<tr>\n",
       "                     <td></td>                       <th>coef</th>     <th>std err</th>      <th>z</th>      <th>P>|z|</th>  <th>[0.025</th>    <th>0.975]</th>  \n",
       "</tr>\n",
       "<tr>\n",
       "  <th>const</th>                                  <td>   -2.0739</td> <td>    0.113</td> <td>  -18.296</td> <td> 0.000</td> <td>   -2.296</td> <td>   -1.852</td>\n",
       "</tr>\n",
       "<tr>\n",
       "  <th>targeted_sex</th>                           <td>   -0.2589</td> <td>    0.104</td> <td>   -2.483</td> <td> 0.013</td> <td>   -0.463</td> <td>   -0.055</td>\n",
       "</tr>\n",
       "<tr>\n",
       "  <th>average_runtime(minutes_per_week)</th>      <td>    0.3604</td> <td>    0.027</td> <td>   13.350</td> <td> 0.000</td> <td>    0.307</td> <td>    0.413</td>\n",
       "</tr>\n",
       "<tr>\n",
       "  <th>ratings</th>                                <td>    2.0339</td> <td>    0.093</td> <td>   21.918</td> <td> 0.000</td> <td>    1.852</td> <td>    2.216</td>\n",
       "</tr>\n",
       "<tr>\n",
       "  <th>realtionship_status_Married-AF-spouse</th>  <td>    2.1992</td> <td>    0.732</td> <td>    3.003</td> <td> 0.003</td> <td>    0.764</td> <td>    3.635</td>\n",
       "</tr>\n",
       "<tr>\n",
       "  <th>realtionship_status_Married-civ-spouse</th> <td>    1.0493</td> <td>    0.348</td> <td>    3.019</td> <td> 0.003</td> <td>    0.368</td> <td>    1.730</td>\n",
       "</tr>\n",
       "<tr>\n",
       "  <th>industry_ClassAction</th>                   <td>   -0.6637</td> <td>    0.270</td> <td>   -2.461</td> <td> 0.014</td> <td>   -1.192</td> <td>   -0.135</td>\n",
       "</tr>\n",
       "<tr>\n",
       "  <th>industry_Entertainment</th>                 <td>   -0.2450</td> <td>    0.130</td> <td>   -1.890</td> <td> 0.059</td> <td>   -0.499</td> <td>    0.009</td>\n",
       "</tr>\n",
       "<tr>\n",
       "  <th>industry_Other</th>                         <td>    1.2464</td> <td>    0.368</td> <td>    3.388</td> <td> 0.001</td> <td>    0.525</td> <td>    1.968</td>\n",
       "</tr>\n",
       "<tr>\n",
       "  <th>industry_Pharma</th>                        <td>    0.6765</td> <td>    0.355</td> <td>    1.903</td> <td> 0.057</td> <td>   -0.020</td> <td>    1.373</td>\n",
       "</tr>\n",
       "<tr>\n",
       "  <th>industry_Political</th>                     <td>   -0.9892</td> <td>    0.183</td> <td>   -5.418</td> <td> 0.000</td> <td>   -1.347</td> <td>   -0.631</td>\n",
       "</tr>\n",
       "<tr>\n",
       "  <th>genre_Infomercial</th>                      <td>   -0.4597</td> <td>    0.104</td> <td>   -4.436</td> <td> 0.000</td> <td>   -0.663</td> <td>   -0.257</td>\n",
       "</tr>\n",
       "<tr>\n",
       "  <th>airtime_Morning</th>                        <td>   -0.8268</td> <td>    0.112</td> <td>   -7.377</td> <td> 0.000</td> <td>   -1.046</td> <td>   -0.607</td>\n",
       "</tr>\n",
       "<tr>\n",
       "  <th>airtime_Primetime</th>                      <td>    0.3001</td> <td>    0.091</td> <td>    3.281</td> <td> 0.001</td> <td>    0.121</td> <td>    0.479</td>\n",
       "</tr>\n",
       "</table>"
      ],
      "text/plain": [
       "<class 'statsmodels.iolib.summary.Summary'>\n",
       "\"\"\"\n",
       "                 Generalized Linear Model Regression Results                  \n",
       "==============================================================================\n",
       "Dep. Variable:                netgain   No. Observations:                13675\n",
       "Model:                            GLM   Df Residuals:                    13661\n",
       "Model Family:                Binomial   Df Model:                           13\n",
       "Link Function:                  logit   Scale:                          1.0000\n",
       "Method:                          IRLS   Log-Likelihood:                -5254.3\n",
       "Date:                Tue, 08 Dec 2020   Deviance:                       10509.\n",
       "Time:                        03:35:39   Pearson chi2:                 7.03e+09\n",
       "No. Iterations:                     8                                         \n",
       "Covariance Type:            nonrobust                                         \n",
       "==========================================================================================================\n",
       "                                             coef    std err          z      P>|z|      [0.025      0.975]\n",
       "----------------------------------------------------------------------------------------------------------\n",
       "const                                     -2.0739      0.113    -18.296      0.000      -2.296      -1.852\n",
       "targeted_sex                              -0.2589      0.104     -2.483      0.013      -0.463      -0.055\n",
       "average_runtime(minutes_per_week)          0.3604      0.027     13.350      0.000       0.307       0.413\n",
       "ratings                                    2.0339      0.093     21.918      0.000       1.852       2.216\n",
       "realtionship_status_Married-AF-spouse      2.1992      0.732      3.003      0.003       0.764       3.635\n",
       "realtionship_status_Married-civ-spouse     1.0493      0.348      3.019      0.003       0.368       1.730\n",
       "industry_ClassAction                      -0.6637      0.270     -2.461      0.014      -1.192      -0.135\n",
       "industry_Entertainment                    -0.2450      0.130     -1.890      0.059      -0.499       0.009\n",
       "industry_Other                             1.2464      0.368      3.388      0.001       0.525       1.968\n",
       "industry_Pharma                            0.6765      0.355      1.903      0.057      -0.020       1.373\n",
       "industry_Political                        -0.9892      0.183     -5.418      0.000      -1.347      -0.631\n",
       "genre_Infomercial                         -0.4597      0.104     -4.436      0.000      -0.663      -0.257\n",
       "airtime_Morning                           -0.8268      0.112     -7.377      0.000      -1.046      -0.607\n",
       "airtime_Primetime                          0.3001      0.091      3.281      0.001       0.121       0.479\n",
       "==========================================================================================================\n",
       "\"\"\""
      ]
     },
     "execution_count": 228,
     "metadata": {},
     "output_type": "execute_result"
    }
   ],
   "source": [
    "# Let's re-run the model using the selected variables\n",
    "X_train_sm = sm.add_constant(X_train[col])\n",
    "logm4 = sm.GLM(y_train,X_train_sm, family = sm.families.Binomial())\n",
    "res = logm4.fit()\n",
    "res.summary()"
   ]
  },
  {
   "cell_type": "code",
   "execution_count": 229,
   "metadata": {},
   "outputs": [
    {
     "data": {
      "text/html": [
       "<div>\n",
       "<style scoped>\n",
       "    .dataframe tbody tr th:only-of-type {\n",
       "        vertical-align: middle;\n",
       "    }\n",
       "\n",
       "    .dataframe tbody tr th {\n",
       "        vertical-align: top;\n",
       "    }\n",
       "\n",
       "    .dataframe thead th {\n",
       "        text-align: right;\n",
       "    }\n",
       "</style>\n",
       "<table border=\"1\" class=\"dataframe\">\n",
       "  <thead>\n",
       "    <tr style=\"text-align: right;\">\n",
       "      <th></th>\n",
       "      <th>Features</th>\n",
       "      <th>VIF</th>\n",
       "    </tr>\n",
       "  </thead>\n",
       "  <tbody>\n",
       "    <tr>\n",
       "      <th>4</th>\n",
       "      <td>realtionship_status_Married-civ-spouse</td>\n",
       "      <td>63.93</td>\n",
       "    </tr>\n",
       "    <tr>\n",
       "      <th>8</th>\n",
       "      <td>industry_Pharma</td>\n",
       "      <td>57.99</td>\n",
       "    </tr>\n",
       "    <tr>\n",
       "      <th>7</th>\n",
       "      <td>industry_Other</td>\n",
       "      <td>8.47</td>\n",
       "    </tr>\n",
       "    <tr>\n",
       "      <th>12</th>\n",
       "      <td>airtime_Primetime</td>\n",
       "      <td>3.47</td>\n",
       "    </tr>\n",
       "    <tr>\n",
       "      <th>0</th>\n",
       "      <td>targeted_sex</td>\n",
       "      <td>2.37</td>\n",
       "    </tr>\n",
       "    <tr>\n",
       "      <th>11</th>\n",
       "      <td>airtime_Morning</td>\n",
       "      <td>2.36</td>\n",
       "    </tr>\n",
       "    <tr>\n",
       "      <th>9</th>\n",
       "      <td>industry_Political</td>\n",
       "      <td>1.86</td>\n",
       "    </tr>\n",
       "    <tr>\n",
       "      <th>6</th>\n",
       "      <td>industry_Entertainment</td>\n",
       "      <td>1.48</td>\n",
       "    </tr>\n",
       "    <tr>\n",
       "      <th>5</th>\n",
       "      <td>industry_ClassAction</td>\n",
       "      <td>1.18</td>\n",
       "    </tr>\n",
       "    <tr>\n",
       "      <th>1</th>\n",
       "      <td>average_runtime(minutes_per_week)</td>\n",
       "      <td>1.15</td>\n",
       "    </tr>\n",
       "    <tr>\n",
       "      <th>10</th>\n",
       "      <td>genre_Infomercial</td>\n",
       "      <td>1.14</td>\n",
       "    </tr>\n",
       "    <tr>\n",
       "      <th>3</th>\n",
       "      <td>realtionship_status_Married-AF-spouse</td>\n",
       "      <td>1.10</td>\n",
       "    </tr>\n",
       "    <tr>\n",
       "      <th>2</th>\n",
       "      <td>ratings</td>\n",
       "      <td>1.01</td>\n",
       "    </tr>\n",
       "  </tbody>\n",
       "</table>\n",
       "</div>"
      ],
      "text/plain": [
       "                                  Features    VIF\n",
       "4   realtionship_status_Married-civ-spouse  63.93\n",
       "8                          industry_Pharma  57.99\n",
       "7                           industry_Other   8.47\n",
       "12                       airtime_Primetime   3.47\n",
       "0                             targeted_sex   2.37\n",
       "11                         airtime_Morning   2.36\n",
       "9                       industry_Political   1.86\n",
       "6                   industry_Entertainment   1.48\n",
       "5                     industry_ClassAction   1.18\n",
       "1        average_runtime(minutes_per_week)   1.15\n",
       "10                       genre_Infomercial   1.14\n",
       "3    realtionship_status_Married-AF-spouse   1.10\n",
       "2                                  ratings   1.01"
      ]
     },
     "execution_count": 229,
     "metadata": {},
     "output_type": "execute_result"
    }
   ],
   "source": [
    "vif = pd.DataFrame()\n",
    "vif['Features'] = X_train[col].columns\n",
    "vif['VIF'] = [variance_inflation_factor(X_train[col].values, i) for i in range(X_train[col].shape[1])]\n",
    "vif['VIF'] = round(vif['VIF'], 2)\n",
    "vif = vif.sort_values(by = \"VIF\", ascending = False)\n",
    "vif"
   ]
  },
  {
   "cell_type": "markdown",
   "metadata": {},
   "source": [
    "However while looking at the model we have variable realtionship_status_Married-civ-spouse has p value gretaer than 5, therefore we need to drop that variable and run the model again.  So let's start by dropping that."
   ]
  },
  {
   "cell_type": "code",
   "execution_count": 230,
   "metadata": {},
   "outputs": [
    {
     "data": {
      "text/plain": [
       "Index(['targeted_sex', 'average_runtime(minutes_per_week)', 'ratings',\n",
       "       'realtionship_status_Married-AF-spouse', 'industry_ClassAction',\n",
       "       'industry_Entertainment', 'industry_Other', 'industry_Pharma',\n",
       "       'industry_Political', 'genre_Infomercial', 'airtime_Morning',\n",
       "       'airtime_Primetime'],\n",
       "      dtype='object')"
      ]
     },
     "execution_count": 230,
     "metadata": {},
     "output_type": "execute_result"
    }
   ],
   "source": [
    "col = col.drop('realtionship_status_Married-civ-spouse', 1)\n",
    "col"
   ]
  },
  {
   "cell_type": "code",
   "execution_count": 231,
   "metadata": {},
   "outputs": [
    {
     "data": {
      "text/html": [
       "<table class=\"simpletable\">\n",
       "<caption>Generalized Linear Model Regression Results</caption>\n",
       "<tr>\n",
       "  <th>Dep. Variable:</th>        <td>netgain</td>     <th>  No. Observations:  </th>  <td> 13675</td> \n",
       "</tr>\n",
       "<tr>\n",
       "  <th>Model:</th>                  <td>GLM</td>       <th>  Df Residuals:      </th>  <td> 13662</td> \n",
       "</tr>\n",
       "<tr>\n",
       "  <th>Model Family:</th>        <td>Binomial</td>     <th>  Df Model:          </th>  <td>    12</td> \n",
       "</tr>\n",
       "<tr>\n",
       "  <th>Link Function:</th>         <td>logit</td>      <th>  Scale:             </th> <td>  1.0000</td>\n",
       "</tr>\n",
       "<tr>\n",
       "  <th>Method:</th>                <td>IRLS</td>       <th>  Log-Likelihood:    </th> <td> -5258.2</td>\n",
       "</tr>\n",
       "<tr>\n",
       "  <th>Date:</th>            <td>Tue, 08 Dec 2020</td> <th>  Deviance:          </th> <td>  10516.</td>\n",
       "</tr>\n",
       "<tr>\n",
       "  <th>Time:</th>                <td>03:35:39</td>     <th>  Pearson chi2:      </th> <td>1.05e+10</td>\n",
       "</tr>\n",
       "<tr>\n",
       "  <th>No. Iterations:</th>          <td>8</td>        <th>                     </th>     <td> </td>   \n",
       "</tr>\n",
       "<tr>\n",
       "  <th>Covariance Type:</th>     <td>nonrobust</td>    <th>                     </th>     <td> </td>   \n",
       "</tr>\n",
       "</table>\n",
       "<table class=\"simpletable\">\n",
       "<tr>\n",
       "                    <td></td>                       <th>coef</th>     <th>std err</th>      <th>z</th>      <th>P>|z|</th>  <th>[0.025</th>    <th>0.975]</th>  \n",
       "</tr>\n",
       "<tr>\n",
       "  <th>const</th>                                 <td>   -2.0680</td> <td>    0.113</td> <td>  -18.250</td> <td> 0.000</td> <td>   -2.290</td> <td>   -1.846</td>\n",
       "</tr>\n",
       "<tr>\n",
       "  <th>targeted_sex</th>                          <td>   -0.2638</td> <td>    0.104</td> <td>   -2.533</td> <td> 0.011</td> <td>   -0.468</td> <td>   -0.060</td>\n",
       "</tr>\n",
       "<tr>\n",
       "  <th>average_runtime(minutes_per_week)</th>     <td>    0.3605</td> <td>    0.027</td> <td>   13.356</td> <td> 0.000</td> <td>    0.308</td> <td>    0.413</td>\n",
       "</tr>\n",
       "<tr>\n",
       "  <th>ratings</th>                               <td>    2.0468</td> <td>    0.093</td> <td>   21.920</td> <td> 0.000</td> <td>    1.864</td> <td>    2.230</td>\n",
       "</tr>\n",
       "<tr>\n",
       "  <th>realtionship_status_Married-AF-spouse</th> <td>    1.1811</td> <td>    0.658</td> <td>    1.794</td> <td> 0.073</td> <td>   -0.109</td> <td>    2.471</td>\n",
       "</tr>\n",
       "<tr>\n",
       "  <th>industry_ClassAction</th>                  <td>   -0.4356</td> <td>    0.248</td> <td>   -1.759</td> <td> 0.079</td> <td>   -0.921</td> <td>    0.050</td>\n",
       "</tr>\n",
       "<tr>\n",
       "  <th>industry_Entertainment</th>                <td>   -0.2463</td> <td>    0.130</td> <td>   -1.900</td> <td> 0.057</td> <td>   -0.501</td> <td>    0.008</td>\n",
       "</tr>\n",
       "<tr>\n",
       "  <th>industry_Other</th>                        <td>    2.2970</td> <td>    0.120</td> <td>   19.110</td> <td> 0.000</td> <td>    2.061</td> <td>    2.533</td>\n",
       "</tr>\n",
       "<tr>\n",
       "  <th>industry_Pharma</th>                       <td>    1.7216</td> <td>    0.082</td> <td>   20.946</td> <td> 0.000</td> <td>    1.561</td> <td>    1.883</td>\n",
       "</tr>\n",
       "<tr>\n",
       "  <th>industry_Political</th>                    <td>   -0.8898</td> <td>    0.176</td> <td>   -5.054</td> <td> 0.000</td> <td>   -1.235</td> <td>   -0.545</td>\n",
       "</tr>\n",
       "<tr>\n",
       "  <th>genre_Infomercial</th>                     <td>   -0.4603</td> <td>    0.104</td> <td>   -4.443</td> <td> 0.000</td> <td>   -0.663</td> <td>   -0.257</td>\n",
       "</tr>\n",
       "<tr>\n",
       "  <th>airtime_Morning</th>                       <td>   -0.8354</td> <td>    0.112</td> <td>   -7.453</td> <td> 0.000</td> <td>   -1.055</td> <td>   -0.616</td>\n",
       "</tr>\n",
       "<tr>\n",
       "  <th>airtime_Primetime</th>                     <td>    0.3005</td> <td>    0.091</td> <td>    3.286</td> <td> 0.001</td> <td>    0.121</td> <td>    0.480</td>\n",
       "</tr>\n",
       "</table>"
      ],
      "text/plain": [
       "<class 'statsmodels.iolib.summary.Summary'>\n",
       "\"\"\"\n",
       "                 Generalized Linear Model Regression Results                  \n",
       "==============================================================================\n",
       "Dep. Variable:                netgain   No. Observations:                13675\n",
       "Model:                            GLM   Df Residuals:                    13662\n",
       "Model Family:                Binomial   Df Model:                           12\n",
       "Link Function:                  logit   Scale:                          1.0000\n",
       "Method:                          IRLS   Log-Likelihood:                -5258.2\n",
       "Date:                Tue, 08 Dec 2020   Deviance:                       10516.\n",
       "Time:                        03:35:39   Pearson chi2:                 1.05e+10\n",
       "No. Iterations:                     8                                         \n",
       "Covariance Type:            nonrobust                                         \n",
       "=========================================================================================================\n",
       "                                            coef    std err          z      P>|z|      [0.025      0.975]\n",
       "---------------------------------------------------------------------------------------------------------\n",
       "const                                    -2.0680      0.113    -18.250      0.000      -2.290      -1.846\n",
       "targeted_sex                             -0.2638      0.104     -2.533      0.011      -0.468      -0.060\n",
       "average_runtime(minutes_per_week)         0.3605      0.027     13.356      0.000       0.308       0.413\n",
       "ratings                                   2.0468      0.093     21.920      0.000       1.864       2.230\n",
       "realtionship_status_Married-AF-spouse     1.1811      0.658      1.794      0.073      -0.109       2.471\n",
       "industry_ClassAction                     -0.4356      0.248     -1.759      0.079      -0.921       0.050\n",
       "industry_Entertainment                   -0.2463      0.130     -1.900      0.057      -0.501       0.008\n",
       "industry_Other                            2.2970      0.120     19.110      0.000       2.061       2.533\n",
       "industry_Pharma                           1.7216      0.082     20.946      0.000       1.561       1.883\n",
       "industry_Political                       -0.8898      0.176     -5.054      0.000      -1.235      -0.545\n",
       "genre_Infomercial                        -0.4603      0.104     -4.443      0.000      -0.663      -0.257\n",
       "airtime_Morning                          -0.8354      0.112     -7.453      0.000      -1.055      -0.616\n",
       "airtime_Primetime                         0.3005      0.091      3.286      0.001       0.121       0.480\n",
       "=========================================================================================================\n",
       "\"\"\""
      ]
     },
     "execution_count": 231,
     "metadata": {},
     "output_type": "execute_result"
    }
   ],
   "source": [
    "# Let's re-run the model using the selected variables\n",
    "X_train_sm = sm.add_constant(X_train[col])\n",
    "logm5 = sm.GLM(y_train,X_train_sm, family = sm.families.Binomial())\n",
    "res = logm5.fit()\n",
    "res.summary()"
   ]
  },
  {
   "cell_type": "code",
   "execution_count": 232,
   "metadata": {},
   "outputs": [
    {
     "data": {
      "text/html": [
       "<div>\n",
       "<style scoped>\n",
       "    .dataframe tbody tr th:only-of-type {\n",
       "        vertical-align: middle;\n",
       "    }\n",
       "\n",
       "    .dataframe tbody tr th {\n",
       "        vertical-align: top;\n",
       "    }\n",
       "\n",
       "    .dataframe thead th {\n",
       "        text-align: right;\n",
       "    }\n",
       "</style>\n",
       "<table border=\"1\" class=\"dataframe\">\n",
       "  <thead>\n",
       "    <tr style=\"text-align: right;\">\n",
       "      <th></th>\n",
       "      <th>Features</th>\n",
       "      <th>VIF</th>\n",
       "    </tr>\n",
       "  </thead>\n",
       "  <tbody>\n",
       "    <tr>\n",
       "      <th>11</th>\n",
       "      <td>airtime_Primetime</td>\n",
       "      <td>3.47</td>\n",
       "    </tr>\n",
       "    <tr>\n",
       "      <th>7</th>\n",
       "      <td>industry_Pharma</td>\n",
       "      <td>2.60</td>\n",
       "    </tr>\n",
       "    <tr>\n",
       "      <th>0</th>\n",
       "      <td>targeted_sex</td>\n",
       "      <td>2.37</td>\n",
       "    </tr>\n",
       "    <tr>\n",
       "      <th>10</th>\n",
       "      <td>airtime_Morning</td>\n",
       "      <td>2.36</td>\n",
       "    </tr>\n",
       "    <tr>\n",
       "      <th>8</th>\n",
       "      <td>industry_Political</td>\n",
       "      <td>1.84</td>\n",
       "    </tr>\n",
       "    <tr>\n",
       "      <th>5</th>\n",
       "      <td>industry_Entertainment</td>\n",
       "      <td>1.48</td>\n",
       "    </tr>\n",
       "    <tr>\n",
       "      <th>6</th>\n",
       "      <td>industry_Other</td>\n",
       "      <td>1.31</td>\n",
       "    </tr>\n",
       "    <tr>\n",
       "      <th>1</th>\n",
       "      <td>average_runtime(minutes_per_week)</td>\n",
       "      <td>1.15</td>\n",
       "    </tr>\n",
       "    <tr>\n",
       "      <th>9</th>\n",
       "      <td>genre_Infomercial</td>\n",
       "      <td>1.14</td>\n",
       "    </tr>\n",
       "    <tr>\n",
       "      <th>4</th>\n",
       "      <td>industry_ClassAction</td>\n",
       "      <td>1.12</td>\n",
       "    </tr>\n",
       "    <tr>\n",
       "      <th>2</th>\n",
       "      <td>ratings</td>\n",
       "      <td>1.01</td>\n",
       "    </tr>\n",
       "    <tr>\n",
       "      <th>3</th>\n",
       "      <td>realtionship_status_Married-AF-spouse</td>\n",
       "      <td>1.00</td>\n",
       "    </tr>\n",
       "  </tbody>\n",
       "</table>\n",
       "</div>"
      ],
      "text/plain": [
       "                                 Features   VIF\n",
       "11                      airtime_Primetime  3.47\n",
       "7                         industry_Pharma  2.60\n",
       "0                            targeted_sex  2.37\n",
       "10                        airtime_Morning  2.36\n",
       "8                      industry_Political  1.84\n",
       "5                  industry_Entertainment  1.48\n",
       "6                          industry_Other  1.31\n",
       "1       average_runtime(minutes_per_week)  1.15\n",
       "9                       genre_Infomercial  1.14\n",
       "4                    industry_ClassAction  1.12\n",
       "2                                 ratings  1.01\n",
       "3   realtionship_status_Married-AF-spouse  1.00"
      ]
     },
     "execution_count": 232,
     "metadata": {},
     "output_type": "execute_result"
    }
   ],
   "source": [
    "vif = pd.DataFrame()\n",
    "vif['Features'] = X_train[col].columns\n",
    "vif['VIF'] = [variance_inflation_factor(X_train[col].values, i) for i in range(X_train[col].shape[1])]\n",
    "vif['VIF'] = round(vif['VIF'], 2)\n",
    "vif = vif.sort_values(by = \"VIF\", ascending = False)\n",
    "vif"
   ]
  },
  {
   "cell_type": "code",
   "execution_count": 233,
   "metadata": {},
   "outputs": [
    {
     "data": {
      "text/plain": [
       "Index(['targeted_sex', 'average_runtime(minutes_per_week)', 'ratings',\n",
       "       'industry_ClassAction', 'industry_Entertainment', 'industry_Other',\n",
       "       'industry_Pharma', 'industry_Political', 'genre_Infomercial',\n",
       "       'airtime_Morning', 'airtime_Primetime'],\n",
       "      dtype='object')"
      ]
     },
     "execution_count": 233,
     "metadata": {},
     "output_type": "execute_result"
    }
   ],
   "source": [
    "col = col.drop('realtionship_status_Married-AF-spouse', 1)\n",
    "col"
   ]
  },
  {
   "cell_type": "code",
   "execution_count": 234,
   "metadata": {},
   "outputs": [
    {
     "data": {
      "text/html": [
       "<table class=\"simpletable\">\n",
       "<caption>Generalized Linear Model Regression Results</caption>\n",
       "<tr>\n",
       "  <th>Dep. Variable:</th>        <td>netgain</td>     <th>  No. Observations:  </th>  <td> 13675</td> \n",
       "</tr>\n",
       "<tr>\n",
       "  <th>Model:</th>                  <td>GLM</td>       <th>  Df Residuals:      </th>  <td> 13663</td> \n",
       "</tr>\n",
       "<tr>\n",
       "  <th>Model Family:</th>        <td>Binomial</td>     <th>  Df Model:          </th>  <td>    11</td> \n",
       "</tr>\n",
       "<tr>\n",
       "  <th>Link Function:</th>         <td>logit</td>      <th>  Scale:             </th> <td>  1.0000</td>\n",
       "</tr>\n",
       "<tr>\n",
       "  <th>Method:</th>                <td>IRLS</td>       <th>  Log-Likelihood:    </th> <td> -5259.7</td>\n",
       "</tr>\n",
       "<tr>\n",
       "  <th>Date:</th>            <td>Tue, 08 Dec 2020</td> <th>  Deviance:          </th> <td>  10519.</td>\n",
       "</tr>\n",
       "<tr>\n",
       "  <th>Time:</th>                <td>03:35:39</td>     <th>  Pearson chi2:      </th> <td>1.04e+10</td>\n",
       "</tr>\n",
       "<tr>\n",
       "  <th>No. Iterations:</th>          <td>8</td>        <th>                     </th>     <td> </td>   \n",
       "</tr>\n",
       "<tr>\n",
       "  <th>Covariance Type:</th>     <td>nonrobust</td>    <th>                     </th>     <td> </td>   \n",
       "</tr>\n",
       "</table>\n",
       "<table class=\"simpletable\">\n",
       "<tr>\n",
       "                  <td></td>                     <th>coef</th>     <th>std err</th>      <th>z</th>      <th>P>|z|</th>  <th>[0.025</th>    <th>0.975]</th>  \n",
       "</tr>\n",
       "<tr>\n",
       "  <th>const</th>                             <td>   -2.0706</td> <td>    0.113</td> <td>  -18.273</td> <td> 0.000</td> <td>   -2.293</td> <td>   -1.848</td>\n",
       "</tr>\n",
       "<tr>\n",
       "  <th>targeted_sex</th>                      <td>   -0.2631</td> <td>    0.104</td> <td>   -2.526</td> <td> 0.012</td> <td>   -0.467</td> <td>   -0.059</td>\n",
       "</tr>\n",
       "<tr>\n",
       "  <th>average_runtime(minutes_per_week)</th> <td>    0.3608</td> <td>    0.027</td> <td>   13.369</td> <td> 0.000</td> <td>    0.308</td> <td>    0.414</td>\n",
       "</tr>\n",
       "<tr>\n",
       "  <th>ratings</th>                           <td>    2.0459</td> <td>    0.093</td> <td>   21.916</td> <td> 0.000</td> <td>    1.863</td> <td>    2.229</td>\n",
       "</tr>\n",
       "<tr>\n",
       "  <th>industry_ClassAction</th>              <td>   -0.4368</td> <td>    0.248</td> <td>   -1.764</td> <td> 0.078</td> <td>   -0.922</td> <td>    0.049</td>\n",
       "</tr>\n",
       "<tr>\n",
       "  <th>industry_Entertainment</th>            <td>   -0.2461</td> <td>    0.130</td> <td>   -1.898</td> <td> 0.058</td> <td>   -0.500</td> <td>    0.008</td>\n",
       "</tr>\n",
       "<tr>\n",
       "  <th>industry_Other</th>                    <td>    2.2998</td> <td>    0.120</td> <td>   19.141</td> <td> 0.000</td> <td>    2.064</td> <td>    2.535</td>\n",
       "</tr>\n",
       "<tr>\n",
       "  <th>industry_Pharma</th>                   <td>    1.7245</td> <td>    0.082</td> <td>   20.987</td> <td> 0.000</td> <td>    1.563</td> <td>    1.886</td>\n",
       "</tr>\n",
       "<tr>\n",
       "  <th>industry_Political</th>                <td>   -0.8926</td> <td>    0.176</td> <td>   -5.070</td> <td> 0.000</td> <td>   -1.238</td> <td>   -0.548</td>\n",
       "</tr>\n",
       "<tr>\n",
       "  <th>genre_Infomercial</th>                 <td>   -0.4553</td> <td>    0.103</td> <td>   -4.402</td> <td> 0.000</td> <td>   -0.658</td> <td>   -0.253</td>\n",
       "</tr>\n",
       "<tr>\n",
       "  <th>airtime_Morning</th>                   <td>   -0.8262</td> <td>    0.112</td> <td>   -7.384</td> <td> 0.000</td> <td>   -1.046</td> <td>   -0.607</td>\n",
       "</tr>\n",
       "<tr>\n",
       "  <th>airtime_Primetime</th>                 <td>    0.3006</td> <td>    0.091</td> <td>    3.287</td> <td> 0.001</td> <td>    0.121</td> <td>    0.480</td>\n",
       "</tr>\n",
       "</table>"
      ],
      "text/plain": [
       "<class 'statsmodels.iolib.summary.Summary'>\n",
       "\"\"\"\n",
       "                 Generalized Linear Model Regression Results                  \n",
       "==============================================================================\n",
       "Dep. Variable:                netgain   No. Observations:                13675\n",
       "Model:                            GLM   Df Residuals:                    13663\n",
       "Model Family:                Binomial   Df Model:                           11\n",
       "Link Function:                  logit   Scale:                          1.0000\n",
       "Method:                          IRLS   Log-Likelihood:                -5259.7\n",
       "Date:                Tue, 08 Dec 2020   Deviance:                       10519.\n",
       "Time:                        03:35:39   Pearson chi2:                 1.04e+10\n",
       "No. Iterations:                     8                                         \n",
       "Covariance Type:            nonrobust                                         \n",
       "=====================================================================================================\n",
       "                                        coef    std err          z      P>|z|      [0.025      0.975]\n",
       "-----------------------------------------------------------------------------------------------------\n",
       "const                                -2.0706      0.113    -18.273      0.000      -2.293      -1.848\n",
       "targeted_sex                         -0.2631      0.104     -2.526      0.012      -0.467      -0.059\n",
       "average_runtime(minutes_per_week)     0.3608      0.027     13.369      0.000       0.308       0.414\n",
       "ratings                               2.0459      0.093     21.916      0.000       1.863       2.229\n",
       "industry_ClassAction                 -0.4368      0.248     -1.764      0.078      -0.922       0.049\n",
       "industry_Entertainment               -0.2461      0.130     -1.898      0.058      -0.500       0.008\n",
       "industry_Other                        2.2998      0.120     19.141      0.000       2.064       2.535\n",
       "industry_Pharma                       1.7245      0.082     20.987      0.000       1.563       1.886\n",
       "industry_Political                   -0.8926      0.176     -5.070      0.000      -1.238      -0.548\n",
       "genre_Infomercial                    -0.4553      0.103     -4.402      0.000      -0.658      -0.253\n",
       "airtime_Morning                      -0.8262      0.112     -7.384      0.000      -1.046      -0.607\n",
       "airtime_Primetime                     0.3006      0.091      3.287      0.001       0.121       0.480\n",
       "=====================================================================================================\n",
       "\"\"\""
      ]
     },
     "execution_count": 234,
     "metadata": {},
     "output_type": "execute_result"
    }
   ],
   "source": [
    "# Let's re-run the model using the selected variables\n",
    "X_train_sm = sm.add_constant(X_train[col])\n",
    "logm6 = sm.GLM(y_train,X_train_sm, family = sm.families.Binomial())\n",
    "res = logm6.fit()\n",
    "res.summary()"
   ]
  },
  {
   "cell_type": "code",
   "execution_count": 235,
   "metadata": {},
   "outputs": [
    {
     "data": {
      "text/html": [
       "<div>\n",
       "<style scoped>\n",
       "    .dataframe tbody tr th:only-of-type {\n",
       "        vertical-align: middle;\n",
       "    }\n",
       "\n",
       "    .dataframe tbody tr th {\n",
       "        vertical-align: top;\n",
       "    }\n",
       "\n",
       "    .dataframe thead th {\n",
       "        text-align: right;\n",
       "    }\n",
       "</style>\n",
       "<table border=\"1\" class=\"dataframe\">\n",
       "  <thead>\n",
       "    <tr style=\"text-align: right;\">\n",
       "      <th></th>\n",
       "      <th>Features</th>\n",
       "      <th>VIF</th>\n",
       "    </tr>\n",
       "  </thead>\n",
       "  <tbody>\n",
       "    <tr>\n",
       "      <th>10</th>\n",
       "      <td>airtime_Primetime</td>\n",
       "      <td>3.47</td>\n",
       "    </tr>\n",
       "    <tr>\n",
       "      <th>6</th>\n",
       "      <td>industry_Pharma</td>\n",
       "      <td>2.60</td>\n",
       "    </tr>\n",
       "    <tr>\n",
       "      <th>0</th>\n",
       "      <td>targeted_sex</td>\n",
       "      <td>2.37</td>\n",
       "    </tr>\n",
       "    <tr>\n",
       "      <th>9</th>\n",
       "      <td>airtime_Morning</td>\n",
       "      <td>2.35</td>\n",
       "    </tr>\n",
       "    <tr>\n",
       "      <th>7</th>\n",
       "      <td>industry_Political</td>\n",
       "      <td>1.84</td>\n",
       "    </tr>\n",
       "    <tr>\n",
       "      <th>4</th>\n",
       "      <td>industry_Entertainment</td>\n",
       "      <td>1.48</td>\n",
       "    </tr>\n",
       "    <tr>\n",
       "      <th>5</th>\n",
       "      <td>industry_Other</td>\n",
       "      <td>1.31</td>\n",
       "    </tr>\n",
       "    <tr>\n",
       "      <th>1</th>\n",
       "      <td>average_runtime(minutes_per_week)</td>\n",
       "      <td>1.15</td>\n",
       "    </tr>\n",
       "    <tr>\n",
       "      <th>8</th>\n",
       "      <td>genre_Infomercial</td>\n",
       "      <td>1.14</td>\n",
       "    </tr>\n",
       "    <tr>\n",
       "      <th>3</th>\n",
       "      <td>industry_ClassAction</td>\n",
       "      <td>1.12</td>\n",
       "    </tr>\n",
       "    <tr>\n",
       "      <th>2</th>\n",
       "      <td>ratings</td>\n",
       "      <td>1.01</td>\n",
       "    </tr>\n",
       "  </tbody>\n",
       "</table>\n",
       "</div>"
      ],
      "text/plain": [
       "                             Features   VIF\n",
       "10                  airtime_Primetime  3.47\n",
       "6                     industry_Pharma  2.60\n",
       "0                        targeted_sex  2.37\n",
       "9                     airtime_Morning  2.35\n",
       "7                  industry_Political  1.84\n",
       "4              industry_Entertainment  1.48\n",
       "5                      industry_Other  1.31\n",
       "1   average_runtime(minutes_per_week)  1.15\n",
       "8                   genre_Infomercial  1.14\n",
       "3                industry_ClassAction  1.12\n",
       "2                             ratings  1.01"
      ]
     },
     "execution_count": 235,
     "metadata": {},
     "output_type": "execute_result"
    }
   ],
   "source": [
    "vif = pd.DataFrame()\n",
    "vif['Features'] = X_train[col].columns\n",
    "vif['VIF'] = [variance_inflation_factor(X_train[col].values, i) for i in range(X_train[col].shape[1])]\n",
    "vif['VIF'] = round(vif['VIF'], 2)\n",
    "vif = vif.sort_values(by = \"VIF\", ascending = False)\n",
    "vif"
   ]
  },
  {
   "cell_type": "code",
   "execution_count": 236,
   "metadata": {},
   "outputs": [
    {
     "data": {
      "text/plain": [
       "Index(['targeted_sex', 'average_runtime(minutes_per_week)', 'ratings',\n",
       "       'industry_Entertainment', 'industry_Other', 'industry_Pharma',\n",
       "       'industry_Political', 'genre_Infomercial', 'airtime_Morning',\n",
       "       'airtime_Primetime'],\n",
       "      dtype='object')"
      ]
     },
     "execution_count": 236,
     "metadata": {},
     "output_type": "execute_result"
    }
   ],
   "source": [
    "col = col.drop('industry_ClassAction', 1)\n",
    "col"
   ]
  },
  {
   "cell_type": "code",
   "execution_count": 237,
   "metadata": {},
   "outputs": [
    {
     "data": {
      "text/html": [
       "<table class=\"simpletable\">\n",
       "<caption>Generalized Linear Model Regression Results</caption>\n",
       "<tr>\n",
       "  <th>Dep. Variable:</th>        <td>netgain</td>     <th>  No. Observations:  </th>  <td> 13675</td> \n",
       "</tr>\n",
       "<tr>\n",
       "  <th>Model:</th>                  <td>GLM</td>       <th>  Df Residuals:      </th>  <td> 13664</td> \n",
       "</tr>\n",
       "<tr>\n",
       "  <th>Model Family:</th>        <td>Binomial</td>     <th>  Df Model:          </th>  <td>    10</td> \n",
       "</tr>\n",
       "<tr>\n",
       "  <th>Link Function:</th>         <td>logit</td>      <th>  Scale:             </th> <td>  1.0000</td>\n",
       "</tr>\n",
       "<tr>\n",
       "  <th>Method:</th>                <td>IRLS</td>       <th>  Log-Likelihood:    </th> <td> -5261.5</td>\n",
       "</tr>\n",
       "<tr>\n",
       "  <th>Date:</th>            <td>Tue, 08 Dec 2020</td> <th>  Deviance:          </th> <td>  10523.</td>\n",
       "</tr>\n",
       "<tr>\n",
       "  <th>Time:</th>                <td>03:35:40</td>     <th>  Pearson chi2:      </th> <td>1.56e+10</td>\n",
       "</tr>\n",
       "<tr>\n",
       "  <th>No. Iterations:</th>          <td>8</td>        <th>                     </th>     <td> </td>   \n",
       "</tr>\n",
       "<tr>\n",
       "  <th>Covariance Type:</th>     <td>nonrobust</td>    <th>                     </th>     <td> </td>   \n",
       "</tr>\n",
       "</table>\n",
       "<table class=\"simpletable\">\n",
       "<tr>\n",
       "                  <td></td>                     <th>coef</th>     <th>std err</th>      <th>z</th>      <th>P>|z|</th>  <th>[0.025</th>    <th>0.975]</th>  \n",
       "</tr>\n",
       "<tr>\n",
       "  <th>const</th>                             <td>   -2.1016</td> <td>    0.112</td> <td>  -18.709</td> <td> 0.000</td> <td>   -2.322</td> <td>   -1.881</td>\n",
       "</tr>\n",
       "<tr>\n",
       "  <th>targeted_sex</th>                      <td>   -0.2626</td> <td>    0.104</td> <td>   -2.523</td> <td> 0.012</td> <td>   -0.467</td> <td>   -0.059</td>\n",
       "</tr>\n",
       "<tr>\n",
       "  <th>average_runtime(minutes_per_week)</th> <td>    0.3620</td> <td>    0.027</td> <td>   13.415</td> <td> 0.000</td> <td>    0.309</td> <td>    0.415</td>\n",
       "</tr>\n",
       "<tr>\n",
       "  <th>ratings</th>                           <td>    2.0464</td> <td>    0.093</td> <td>   21.908</td> <td> 0.000</td> <td>    1.863</td> <td>    2.229</td>\n",
       "</tr>\n",
       "<tr>\n",
       "  <th>industry_Entertainment</th>            <td>   -0.2134</td> <td>    0.129</td> <td>   -1.658</td> <td> 0.097</td> <td>   -0.466</td> <td>    0.039</td>\n",
       "</tr>\n",
       "<tr>\n",
       "  <th>industry_Other</th>                    <td>    2.3330</td> <td>    0.119</td> <td>   19.594</td> <td> 0.000</td> <td>    2.100</td> <td>    2.566</td>\n",
       "</tr>\n",
       "<tr>\n",
       "  <th>industry_Pharma</th>                   <td>    1.7568</td> <td>    0.081</td> <td>   21.787</td> <td> 0.000</td> <td>    1.599</td> <td>    1.915</td>\n",
       "</tr>\n",
       "<tr>\n",
       "  <th>industry_Political</th>                <td>   -0.8573</td> <td>    0.175</td> <td>   -4.894</td> <td> 0.000</td> <td>   -1.201</td> <td>   -0.514</td>\n",
       "</tr>\n",
       "<tr>\n",
       "  <th>genre_Infomercial</th>                 <td>   -0.4606</td> <td>    0.103</td> <td>   -4.455</td> <td> 0.000</td> <td>   -0.663</td> <td>   -0.258</td>\n",
       "</tr>\n",
       "<tr>\n",
       "  <th>airtime_Morning</th>                   <td>   -0.8323</td> <td>    0.112</td> <td>   -7.440</td> <td> 0.000</td> <td>   -1.051</td> <td>   -0.613</td>\n",
       "</tr>\n",
       "<tr>\n",
       "  <th>airtime_Primetime</th>                 <td>    0.2997</td> <td>    0.092</td> <td>    3.275</td> <td> 0.001</td> <td>    0.120</td> <td>    0.479</td>\n",
       "</tr>\n",
       "</table>"
      ],
      "text/plain": [
       "<class 'statsmodels.iolib.summary.Summary'>\n",
       "\"\"\"\n",
       "                 Generalized Linear Model Regression Results                  \n",
       "==============================================================================\n",
       "Dep. Variable:                netgain   No. Observations:                13675\n",
       "Model:                            GLM   Df Residuals:                    13664\n",
       "Model Family:                Binomial   Df Model:                           10\n",
       "Link Function:                  logit   Scale:                          1.0000\n",
       "Method:                          IRLS   Log-Likelihood:                -5261.5\n",
       "Date:                Tue, 08 Dec 2020   Deviance:                       10523.\n",
       "Time:                        03:35:40   Pearson chi2:                 1.56e+10\n",
       "No. Iterations:                     8                                         \n",
       "Covariance Type:            nonrobust                                         \n",
       "=====================================================================================================\n",
       "                                        coef    std err          z      P>|z|      [0.025      0.975]\n",
       "-----------------------------------------------------------------------------------------------------\n",
       "const                                -2.1016      0.112    -18.709      0.000      -2.322      -1.881\n",
       "targeted_sex                         -0.2626      0.104     -2.523      0.012      -0.467      -0.059\n",
       "average_runtime(minutes_per_week)     0.3620      0.027     13.415      0.000       0.309       0.415\n",
       "ratings                               2.0464      0.093     21.908      0.000       1.863       2.229\n",
       "industry_Entertainment               -0.2134      0.129     -1.658      0.097      -0.466       0.039\n",
       "industry_Other                        2.3330      0.119     19.594      0.000       2.100       2.566\n",
       "industry_Pharma                       1.7568      0.081     21.787      0.000       1.599       1.915\n",
       "industry_Political                   -0.8573      0.175     -4.894      0.000      -1.201      -0.514\n",
       "genre_Infomercial                    -0.4606      0.103     -4.455      0.000      -0.663      -0.258\n",
       "airtime_Morning                      -0.8323      0.112     -7.440      0.000      -1.051      -0.613\n",
       "airtime_Primetime                     0.2997      0.092      3.275      0.001       0.120       0.479\n",
       "=====================================================================================================\n",
       "\"\"\""
      ]
     },
     "execution_count": 237,
     "metadata": {},
     "output_type": "execute_result"
    }
   ],
   "source": [
    "# Let's re-run the model using the selected variables\n",
    "X_train_sm = sm.add_constant(X_train[col])\n",
    "logm7 = sm.GLM(y_train,X_train_sm, family = sm.families.Binomial())\n",
    "res = logm7.fit()\n",
    "res.summary()"
   ]
  },
  {
   "cell_type": "code",
   "execution_count": 238,
   "metadata": {},
   "outputs": [
    {
     "data": {
      "text/plain": [
       "Index(['targeted_sex', 'average_runtime(minutes_per_week)', 'ratings',\n",
       "       'industry_Other', 'industry_Pharma', 'industry_Political',\n",
       "       'genre_Infomercial', 'airtime_Morning', 'airtime_Primetime'],\n",
       "      dtype='object')"
      ]
     },
     "execution_count": 238,
     "metadata": {},
     "output_type": "execute_result"
    }
   ],
   "source": [
    "col = col.drop('industry_Entertainment', 1)\n",
    "col"
   ]
  },
  {
   "cell_type": "code",
   "execution_count": 239,
   "metadata": {},
   "outputs": [
    {
     "data": {
      "text/html": [
       "<table class=\"simpletable\">\n",
       "<caption>Generalized Linear Model Regression Results</caption>\n",
       "<tr>\n",
       "  <th>Dep. Variable:</th>        <td>netgain</td>     <th>  No. Observations:  </th>  <td> 13675</td> \n",
       "</tr>\n",
       "<tr>\n",
       "  <th>Model:</th>                  <td>GLM</td>       <th>  Df Residuals:      </th>  <td> 13665</td> \n",
       "</tr>\n",
       "<tr>\n",
       "  <th>Model Family:</th>        <td>Binomial</td>     <th>  Df Model:          </th>  <td>     9</td> \n",
       "</tr>\n",
       "<tr>\n",
       "  <th>Link Function:</th>         <td>logit</td>      <th>  Scale:             </th> <td>  1.0000</td>\n",
       "</tr>\n",
       "<tr>\n",
       "  <th>Method:</th>                <td>IRLS</td>       <th>  Log-Likelihood:    </th> <td> -5262.9</td>\n",
       "</tr>\n",
       "<tr>\n",
       "  <th>Date:</th>            <td>Tue, 08 Dec 2020</td> <th>  Deviance:          </th> <td>  10526.</td>\n",
       "</tr>\n",
       "<tr>\n",
       "  <th>Time:</th>                <td>03:35:40</td>     <th>  Pearson chi2:      </th> <td>1.55e+10</td>\n",
       "</tr>\n",
       "<tr>\n",
       "  <th>No. Iterations:</th>          <td>8</td>        <th>                     </th>     <td> </td>   \n",
       "</tr>\n",
       "<tr>\n",
       "  <th>Covariance Type:</th>     <td>nonrobust</td>    <th>                     </th>     <td> </td>   \n",
       "</tr>\n",
       "</table>\n",
       "<table class=\"simpletable\">\n",
       "<tr>\n",
       "                  <td></td>                     <th>coef</th>     <th>std err</th>      <th>z</th>      <th>P>|z|</th>  <th>[0.025</th>    <th>0.975]</th>  \n",
       "</tr>\n",
       "<tr>\n",
       "  <th>const</th>                             <td>   -2.1304</td> <td>    0.111</td> <td>  -19.152</td> <td> 0.000</td> <td>   -2.348</td> <td>   -1.912</td>\n",
       "</tr>\n",
       "<tr>\n",
       "  <th>targeted_sex</th>                      <td>   -0.3044</td> <td>    0.101</td> <td>   -3.006</td> <td> 0.003</td> <td>   -0.503</td> <td>   -0.106</td>\n",
       "</tr>\n",
       "<tr>\n",
       "  <th>average_runtime(minutes_per_week)</th> <td>    0.3630</td> <td>    0.027</td> <td>   13.447</td> <td> 0.000</td> <td>    0.310</td> <td>    0.416</td>\n",
       "</tr>\n",
       "<tr>\n",
       "  <th>ratings</th>                           <td>    2.0490</td> <td>    0.093</td> <td>   21.969</td> <td> 0.000</td> <td>    1.866</td> <td>    2.232</td>\n",
       "</tr>\n",
       "<tr>\n",
       "  <th>industry_Other</th>                    <td>    2.4082</td> <td>    0.111</td> <td>   21.689</td> <td> 0.000</td> <td>    2.191</td> <td>    2.626</td>\n",
       "</tr>\n",
       "<tr>\n",
       "  <th>industry_Pharma</th>                   <td>    1.7894</td> <td>    0.079</td> <td>   22.779</td> <td> 0.000</td> <td>    1.635</td> <td>    1.943</td>\n",
       "</tr>\n",
       "<tr>\n",
       "  <th>industry_Political</th>                <td>   -0.8122</td> <td>    0.173</td> <td>   -4.684</td> <td> 0.000</td> <td>   -1.152</td> <td>   -0.472</td>\n",
       "</tr>\n",
       "<tr>\n",
       "  <th>genre_Infomercial</th>                 <td>   -0.4693</td> <td>    0.103</td> <td>   -4.552</td> <td> 0.000</td> <td>   -0.671</td> <td>   -0.267</td>\n",
       "</tr>\n",
       "<tr>\n",
       "  <th>airtime_Morning</th>                   <td>   -0.8306</td> <td>    0.112</td> <td>   -7.419</td> <td> 0.000</td> <td>   -1.050</td> <td>   -0.611</td>\n",
       "</tr>\n",
       "<tr>\n",
       "  <th>airtime_Primetime</th>                 <td>    0.2953</td> <td>    0.092</td> <td>    3.225</td> <td> 0.001</td> <td>    0.116</td> <td>    0.475</td>\n",
       "</tr>\n",
       "</table>"
      ],
      "text/plain": [
       "<class 'statsmodels.iolib.summary.Summary'>\n",
       "\"\"\"\n",
       "                 Generalized Linear Model Regression Results                  \n",
       "==============================================================================\n",
       "Dep. Variable:                netgain   No. Observations:                13675\n",
       "Model:                            GLM   Df Residuals:                    13665\n",
       "Model Family:                Binomial   Df Model:                            9\n",
       "Link Function:                  logit   Scale:                          1.0000\n",
       "Method:                          IRLS   Log-Likelihood:                -5262.9\n",
       "Date:                Tue, 08 Dec 2020   Deviance:                       10526.\n",
       "Time:                        03:35:40   Pearson chi2:                 1.55e+10\n",
       "No. Iterations:                     8                                         \n",
       "Covariance Type:            nonrobust                                         \n",
       "=====================================================================================================\n",
       "                                        coef    std err          z      P>|z|      [0.025      0.975]\n",
       "-----------------------------------------------------------------------------------------------------\n",
       "const                                -2.1304      0.111    -19.152      0.000      -2.348      -1.912\n",
       "targeted_sex                         -0.3044      0.101     -3.006      0.003      -0.503      -0.106\n",
       "average_runtime(minutes_per_week)     0.3630      0.027     13.447      0.000       0.310       0.416\n",
       "ratings                               2.0490      0.093     21.969      0.000       1.866       2.232\n",
       "industry_Other                        2.4082      0.111     21.689      0.000       2.191       2.626\n",
       "industry_Pharma                       1.7894      0.079     22.779      0.000       1.635       1.943\n",
       "industry_Political                   -0.8122      0.173     -4.684      0.000      -1.152      -0.472\n",
       "genre_Infomercial                    -0.4693      0.103     -4.552      0.000      -0.671      -0.267\n",
       "airtime_Morning                      -0.8306      0.112     -7.419      0.000      -1.050      -0.611\n",
       "airtime_Primetime                     0.2953      0.092      3.225      0.001       0.116       0.475\n",
       "=====================================================================================================\n",
       "\"\"\""
      ]
     },
     "execution_count": 239,
     "metadata": {},
     "output_type": "execute_result"
    }
   ],
   "source": [
    "# Let's re-run the model using the selected variables\n",
    "X_train_sm = sm.add_constant(X_train[col])\n",
    "logm8 = sm.GLM(y_train,X_train_sm, family = sm.families.Binomial())\n",
    "res = logm8.fit()\n",
    "res.summary()"
   ]
  },
  {
   "cell_type": "code",
   "execution_count": 240,
   "metadata": {},
   "outputs": [
    {
     "data": {
      "text/html": [
       "<div>\n",
       "<style scoped>\n",
       "    .dataframe tbody tr th:only-of-type {\n",
       "        vertical-align: middle;\n",
       "    }\n",
       "\n",
       "    .dataframe tbody tr th {\n",
       "        vertical-align: top;\n",
       "    }\n",
       "\n",
       "    .dataframe thead th {\n",
       "        text-align: right;\n",
       "    }\n",
       "</style>\n",
       "<table border=\"1\" class=\"dataframe\">\n",
       "  <thead>\n",
       "    <tr style=\"text-align: right;\">\n",
       "      <th></th>\n",
       "      <th>Features</th>\n",
       "      <th>VIF</th>\n",
       "    </tr>\n",
       "  </thead>\n",
       "  <tbody>\n",
       "    <tr>\n",
       "      <th>8</th>\n",
       "      <td>airtime_Primetime</td>\n",
       "      <td>3.10</td>\n",
       "    </tr>\n",
       "    <tr>\n",
       "      <th>4</th>\n",
       "      <td>industry_Pharma</td>\n",
       "      <td>2.41</td>\n",
       "    </tr>\n",
       "    <tr>\n",
       "      <th>0</th>\n",
       "      <td>targeted_sex</td>\n",
       "      <td>2.22</td>\n",
       "    </tr>\n",
       "    <tr>\n",
       "      <th>7</th>\n",
       "      <td>airtime_Morning</td>\n",
       "      <td>2.15</td>\n",
       "    </tr>\n",
       "    <tr>\n",
       "      <th>5</th>\n",
       "      <td>industry_Political</td>\n",
       "      <td>1.67</td>\n",
       "    </tr>\n",
       "    <tr>\n",
       "      <th>3</th>\n",
       "      <td>industry_Other</td>\n",
       "      <td>1.21</td>\n",
       "    </tr>\n",
       "    <tr>\n",
       "      <th>1</th>\n",
       "      <td>average_runtime(minutes_per_week)</td>\n",
       "      <td>1.15</td>\n",
       "    </tr>\n",
       "    <tr>\n",
       "      <th>6</th>\n",
       "      <td>genre_Infomercial</td>\n",
       "      <td>1.12</td>\n",
       "    </tr>\n",
       "    <tr>\n",
       "      <th>2</th>\n",
       "      <td>ratings</td>\n",
       "      <td>1.01</td>\n",
       "    </tr>\n",
       "  </tbody>\n",
       "</table>\n",
       "</div>"
      ],
      "text/plain": [
       "                            Features   VIF\n",
       "8                  airtime_Primetime  3.10\n",
       "4                    industry_Pharma  2.41\n",
       "0                       targeted_sex  2.22\n",
       "7                    airtime_Morning  2.15\n",
       "5                 industry_Political  1.67\n",
       "3                     industry_Other  1.21\n",
       "1  average_runtime(minutes_per_week)  1.15\n",
       "6                  genre_Infomercial  1.12\n",
       "2                            ratings  1.01"
      ]
     },
     "execution_count": 240,
     "metadata": {},
     "output_type": "execute_result"
    }
   ],
   "source": [
    "vif = pd.DataFrame()\n",
    "vif['Features'] = X_train[col].columns\n",
    "vif['VIF'] = [variance_inflation_factor(X_train[col].values, i) for i in range(X_train[col].shape[1])]\n",
    "vif['VIF'] = round(vif['VIF'], 2)\n",
    "vif = vif.sort_values(by = \"VIF\", ascending = False)\n",
    "vif"
   ]
  },
  {
   "cell_type": "markdown",
   "metadata": {},
   "source": [
    "This would be final model where we habe all p value under 1% and VIF under 3. "
   ]
  },
  {
   "cell_type": "code",
   "execution_count": 241,
   "metadata": {},
   "outputs": [],
   "source": [
    "y_train_pred = res.predict(X_train_sm).values.reshape(-1)"
   ]
  },
  {
   "cell_type": "code",
   "execution_count": 242,
   "metadata": {},
   "outputs": [
    {
     "data": {
      "text/plain": [
       "array([0.63421488, 0.07856239, 0.04111678, 0.03614174, 0.02480645,\n",
       "       0.27828491, 0.40896115, 0.10361922, 0.0457539 , 0.06938435])"
      ]
     },
     "execution_count": 242,
     "metadata": {},
     "output_type": "execute_result"
    }
   ],
   "source": [
    "y_train_pred[:10]"
   ]
  },
  {
   "cell_type": "code",
   "execution_count": 243,
   "metadata": {},
   "outputs": [],
   "source": [
    "y_train_pred_final['Netgain_Prob'] = y_train_pred"
   ]
  },
  {
   "cell_type": "code",
   "execution_count": 244,
   "metadata": {},
   "outputs": [
    {
     "data": {
      "text/html": [
       "<div>\n",
       "<style scoped>\n",
       "    .dataframe tbody tr th:only-of-type {\n",
       "        vertical-align: middle;\n",
       "    }\n",
       "\n",
       "    .dataframe tbody tr th {\n",
       "        vertical-align: top;\n",
       "    }\n",
       "\n",
       "    .dataframe thead th {\n",
       "        text-align: right;\n",
       "    }\n",
       "</style>\n",
       "<table border=\"1\" class=\"dataframe\">\n",
       "  <thead>\n",
       "    <tr style=\"text-align: right;\">\n",
       "      <th></th>\n",
       "      <th>Netgain</th>\n",
       "      <th>Netgain_Prob</th>\n",
       "      <th>UserID</th>\n",
       "      <th>predicted</th>\n",
       "    </tr>\n",
       "  </thead>\n",
       "  <tbody>\n",
       "    <tr>\n",
       "      <th>0</th>\n",
       "      <td>1</td>\n",
       "      <td>0.634215</td>\n",
       "      <td>10930</td>\n",
       "      <td>1</td>\n",
       "    </tr>\n",
       "    <tr>\n",
       "      <th>1</th>\n",
       "      <td>0</td>\n",
       "      <td>0.078562</td>\n",
       "      <td>2880</td>\n",
       "      <td>0</td>\n",
       "    </tr>\n",
       "    <tr>\n",
       "      <th>2</th>\n",
       "      <td>0</td>\n",
       "      <td>0.041117</td>\n",
       "      <td>10567</td>\n",
       "      <td>0</td>\n",
       "    </tr>\n",
       "    <tr>\n",
       "      <th>3</th>\n",
       "      <td>0</td>\n",
       "      <td>0.036142</td>\n",
       "      <td>2359</td>\n",
       "      <td>0</td>\n",
       "    </tr>\n",
       "    <tr>\n",
       "      <th>4</th>\n",
       "      <td>0</td>\n",
       "      <td>0.024806</td>\n",
       "      <td>13850</td>\n",
       "      <td>0</td>\n",
       "    </tr>\n",
       "  </tbody>\n",
       "</table>\n",
       "</div>"
      ],
      "text/plain": [
       "   Netgain  Netgain_Prob  UserID  predicted\n",
       "0        1      0.634215   10930          1\n",
       "1        0      0.078562    2880          0\n",
       "2        0      0.041117   10567          0\n",
       "3        0      0.036142    2359          0\n",
       "4        0      0.024806   13850          0"
      ]
     },
     "execution_count": 244,
     "metadata": {},
     "output_type": "execute_result"
    }
   ],
   "source": [
    "# Creating new column 'predicted' with 1 if Churn_Prob > 0.5 else 0\n",
    "y_train_pred_final['predicted'] = y_train_pred_final.Netgain_Prob.map(lambda x: 1 if x > 0.5 else 0)\n",
    "y_train_pred_final.head()"
   ]
  },
  {
   "cell_type": "code",
   "execution_count": 245,
   "metadata": {},
   "outputs": [
    {
     "name": "stdout",
     "output_type": "stream",
     "text": [
      "0.8032906764168191\n"
     ]
    }
   ],
   "source": [
    "# Let's check the overall accuracy.\n",
    "print(metrics.accuracy_score(y_train_pred_final.Netgain, y_train_pred_final.predicted))"
   ]
  },
  {
   "cell_type": "markdown",
   "metadata": {},
   "source": [
    "The accuracy is practical the same."
   ]
  },
  {
   "cell_type": "code",
   "execution_count": 246,
   "metadata": {},
   "outputs": [
    {
     "name": "stdout",
     "output_type": "stream",
     "text": [
      "[[9961  446]\n",
      " [2244 1024]]\n"
     ]
    }
   ],
   "source": [
    "# Confusion matrix \n",
    "confusion = metrics.confusion_matrix(y_train_pred_final.Netgain, y_train_pred_final.predicted )\n",
    "print(confusion)"
   ]
  },
  {
   "cell_type": "markdown",
   "metadata": {},
   "source": [
    "### Step 6: Potting the ROC curve"
   ]
  },
  {
   "cell_type": "code",
   "execution_count": 247,
   "metadata": {},
   "outputs": [],
   "source": [
    "def draw_roc( actual, probs ):\n",
    "    fpr, tpr, thresholds = metrics.roc_curve( actual, probs,\n",
    "                                              drop_intermediate = False)\n",
    "    auc_score = metrics.roc_auc_score( actual, probs )\n",
    "    plt.figure(figsize=(5, 5))\n",
    "    plt.plot( fpr, tpr, label='ROC curve (area = %0.2f)' % auc_score )\n",
    "    plt.plot([0, 1], [0, 1], 'k--')\n",
    "    plt.xlim([0.0, 1.0])\n",
    "    plt.ylim([0.0, 1.05])\n",
    "    plt.xlabel('False Positive Rate or [1 - True Negative Rate]')\n",
    "    plt.ylabel('True Positive Rate')\n",
    "    plt.title('Receiver operating characteristic example')\n",
    "    plt.legend(loc=\"lower right\")\n",
    "    plt.show()\n",
    "\n",
    "    return None"
   ]
  },
  {
   "cell_type": "code",
   "execution_count": 248,
   "metadata": {},
   "outputs": [],
   "source": [
    "fpr, tpr, thresholds = metrics.roc_curve( y_train_pred_final.Netgain, y_train_pred_final.Netgain_Prob, drop_intermediate = False )"
   ]
  },
  {
   "cell_type": "code",
   "execution_count": 249,
   "metadata": {},
   "outputs": [
    {
     "data": {
      "image/png": "[encoded data removed]",
      "text/plain": [
       "<Figure size 360x360 with 1 Axes>"
      ]
     },
     "metadata": {
      "needs_background": "light"
     },
     "output_type": "display_data"
    }
   ],
   "source": [
    "draw_roc(y_train_pred_final.Netgain, y_train_pred_final.Netgain_Prob)"
   ]
  },
  {
   "cell_type": "markdown",
   "metadata": {},
   "source": [
    "### Step 7 : Finding the optimal point"
   ]
  },
  {
   "cell_type": "code",
   "execution_count": 250,
   "metadata": {},
   "outputs": [
    {
     "data": {
      "text/html": [
       "<div>\n",
       "<style scoped>\n",
       "    .dataframe tbody tr th:only-of-type {\n",
       "        vertical-align: middle;\n",
       "    }\n",
       "\n",
       "    .dataframe tbody tr th {\n",
       "        vertical-align: top;\n",
       "    }\n",
       "\n",
       "    .dataframe thead th {\n",
       "        text-align: right;\n",
       "    }\n",
       "</style>\n",
       "<table border=\"1\" class=\"dataframe\">\n",
       "  <thead>\n",
       "    <tr style=\"text-align: right;\">\n",
       "      <th></th>\n",
       "      <th>Netgain</th>\n",
       "      <th>Netgain_Prob</th>\n",
       "      <th>UserID</th>\n",
       "      <th>predicted</th>\n",
       "      <th>0.0</th>\n",
       "      <th>0.1</th>\n",
       "      <th>0.2</th>\n",
       "      <th>0.3</th>\n",
       "      <th>0.4</th>\n",
       "      <th>0.5</th>\n",
       "      <th>0.6</th>\n",
       "      <th>0.7</th>\n",
       "      <th>0.8</th>\n",
       "      <th>0.9</th>\n",
       "    </tr>\n",
       "  </thead>\n",
       "  <tbody>\n",
       "    <tr>\n",
       "      <th>0</th>\n",
       "      <td>1</td>\n",
       "      <td>0.634215</td>\n",
       "      <td>10930</td>\n",
       "      <td>1</td>\n",
       "      <td>1</td>\n",
       "      <td>1</td>\n",
       "      <td>1</td>\n",
       "      <td>1</td>\n",
       "      <td>1</td>\n",
       "      <td>1</td>\n",
       "      <td>1</td>\n",
       "      <td>0</td>\n",
       "      <td>0</td>\n",
       "      <td>0</td>\n",
       "    </tr>\n",
       "    <tr>\n",
       "      <th>1</th>\n",
       "      <td>0</td>\n",
       "      <td>0.078562</td>\n",
       "      <td>2880</td>\n",
       "      <td>0</td>\n",
       "      <td>1</td>\n",
       "      <td>0</td>\n",
       "      <td>0</td>\n",
       "      <td>0</td>\n",
       "      <td>0</td>\n",
       "      <td>0</td>\n",
       "      <td>0</td>\n",
       "      <td>0</td>\n",
       "      <td>0</td>\n",
       "      <td>0</td>\n",
       "    </tr>\n",
       "    <tr>\n",
       "      <th>2</th>\n",
       "      <td>0</td>\n",
       "      <td>0.041117</td>\n",
       "      <td>10567</td>\n",
       "      <td>0</td>\n",
       "      <td>1</td>\n",
       "      <td>0</td>\n",
       "      <td>0</td>\n",
       "      <td>0</td>\n",
       "      <td>0</td>\n",
       "      <td>0</td>\n",
       "      <td>0</td>\n",
       "      <td>0</td>\n",
       "      <td>0</td>\n",
       "      <td>0</td>\n",
       "    </tr>\n",
       "    <tr>\n",
       "      <th>3</th>\n",
       "      <td>0</td>\n",
       "      <td>0.036142</td>\n",
       "      <td>2359</td>\n",
       "      <td>0</td>\n",
       "      <td>1</td>\n",
       "      <td>0</td>\n",
       "      <td>0</td>\n",
       "      <td>0</td>\n",
       "      <td>0</td>\n",
       "      <td>0</td>\n",
       "      <td>0</td>\n",
       "      <td>0</td>\n",
       "      <td>0</td>\n",
       "      <td>0</td>\n",
       "    </tr>\n",
       "    <tr>\n",
       "      <th>4</th>\n",
       "      <td>0</td>\n",
       "      <td>0.024806</td>\n",
       "      <td>13850</td>\n",
       "      <td>0</td>\n",
       "      <td>1</td>\n",
       "      <td>0</td>\n",
       "      <td>0</td>\n",
       "      <td>0</td>\n",
       "      <td>0</td>\n",
       "      <td>0</td>\n",
       "      <td>0</td>\n",
       "      <td>0</td>\n",
       "      <td>0</td>\n",
       "      <td>0</td>\n",
       "    </tr>\n",
       "  </tbody>\n",
       "</table>\n",
       "</div>"
      ],
      "text/plain": [
       "   Netgain  Netgain_Prob  UserID  predicted  0.0  0.1  0.2  0.3  0.4  0.5  \\\n",
       "0        1      0.634215   10930          1    1    1    1    1    1    1   \n",
       "1        0      0.078562    2880          0    1    0    0    0    0    0   \n",
       "2        0      0.041117   10567          0    1    0    0    0    0    0   \n",
       "3        0      0.036142    2359          0    1    0    0    0    0    0   \n",
       "4        0      0.024806   13850          0    1    0    0    0    0    0   \n",
       "\n",
       "   0.6  0.7  0.8  0.9  \n",
       "0    1    0    0    0  \n",
       "1    0    0    0    0  \n",
       "2    0    0    0    0  \n",
       "3    0    0    0    0  \n",
       "4    0    0    0    0  "
      ]
     },
     "execution_count": 250,
     "metadata": {},
     "output_type": "execute_result"
    }
   ],
   "source": [
    " #Let's create columns with different probability cutoffs \n",
    "numbers = [float(x)/10 for x in range(10)]\n",
    "for i in numbers:\n",
    "    y_train_pred_final[i]= y_train_pred_final.Netgain_Prob.map(lambda x: 1 if x > i else 0)\n",
    "y_train_pred_final.head()"
   ]
  },
  {
   "cell_type": "code",
   "execution_count": 251,
   "metadata": {},
   "outputs": [
    {
     "name": "stdout",
     "output_type": "stream",
     "text": [
      "     prob  accuracy     sensi     speci\n",
      "0.0   0.0  0.238976  1.000000  0.000000\n",
      "0.1   0.1  0.652285  0.940636  0.561737\n",
      "0.2   0.2  0.738355  0.854345  0.701931\n",
      "0.3   0.3  0.760293  0.799878  0.747862\n",
      "0.4   0.4  0.781499  0.729498  0.797828\n",
      "0.5   0.5  0.803291  0.313341  0.957144\n",
      "0.6   0.6  0.798830  0.222154  0.979917\n",
      "0.7   0.7  0.801316  0.193084  0.992313\n",
      "0.8   0.8  0.798172  0.160955  0.998270\n",
      "0.9   0.9  0.783108  0.095165  0.999135\n"
     ]
    }
   ],
   "source": [
    "# Now let's calculate accuracy sensitivity and specificity for various probability cutoffs.\n",
    "cutoff_df = pd.DataFrame( columns = ['prob','accuracy','sensi','speci'])\n",
    "from sklearn.metrics import confusion_matrix\n",
    "\n",
    "# TP = confusion[1,1] # true positive \n",
    "# TN = confusion[0,0] # true negatives\n",
    "# FP = confusion[0,1] # false positives\n",
    "# FN = confusion[1,0] # false negatives\n",
    "\n",
    "num = [0.0,0.1,0.2,0.3,0.4,0.5,0.6,0.7,0.8,0.9]\n",
    "for i in num:\n",
    "    cm1 = metrics.confusion_matrix(y_train_pred_final.Netgain, y_train_pred_final[i] )\n",
    "    total1=sum(sum(cm1))\n",
    "    accuracy = (cm1[0,0]+cm1[1,1])/total1\n",
    "    \n",
    "    speci = cm1[0,0]/(cm1[0,0]+cm1[0,1])\n",
    "    sensi = cm1[1,1]/(cm1[1,0]+cm1[1,1])\n",
    "    cutoff_df.loc[i] =[ i ,accuracy,sensi,speci]\n",
    "print(cutoff_df)"
   ]
  },
  {
   "cell_type": "code",
   "execution_count": 252,
   "metadata": {},
   "outputs": [
    {
     "data": {
      "image/png": "[encoded data removed]",
      "text/plain": [
       "<Figure size 432x288 with 1 Axes>"
      ]
     },
     "metadata": {
      "needs_background": "light"
     },
     "output_type": "display_data"
    }
   ],
   "source": [
    "# Let's plot accuracy sensitivity and specificity for various probabilities.\n",
    "cutoff_df.plot.line(x='prob', y=['accuracy','sensi','speci'])\n",
    "plt.show()"
   ]
  },
  {
   "cell_type": "markdown",
   "metadata": {},
   "source": [
    "From the curve above, 0.3 is the optimum point to take it as a cutoff probability."
   ]
  },
  {
   "cell_type": "code",
   "execution_count": 253,
   "metadata": {},
   "outputs": [
    {
     "data": {
      "text/html": [
       "<div>\n",
       "<style scoped>\n",
       "    .dataframe tbody tr th:only-of-type {\n",
       "        vertical-align: middle;\n",
       "    }\n",
       "\n",
       "    .dataframe tbody tr th {\n",
       "        vertical-align: top;\n",
       "    }\n",
       "\n",
       "    .dataframe thead th {\n",
       "        text-align: right;\n",
       "    }\n",
       "</style>\n",
       "<table border=\"1\" class=\"dataframe\">\n",
       "  <thead>\n",
       "    <tr style=\"text-align: right;\">\n",
       "      <th></th>\n",
       "      <th>Netgain</th>\n",
       "      <th>Netgain_Prob</th>\n",
       "      <th>UserID</th>\n",
       "      <th>predicted</th>\n",
       "      <th>0.0</th>\n",
       "      <th>0.1</th>\n",
       "      <th>0.2</th>\n",
       "      <th>0.3</th>\n",
       "      <th>0.4</th>\n",
       "      <th>0.5</th>\n",
       "      <th>0.6</th>\n",
       "      <th>0.7</th>\n",
       "      <th>0.8</th>\n",
       "      <th>0.9</th>\n",
       "      <th>final_predicted</th>\n",
       "    </tr>\n",
       "  </thead>\n",
       "  <tbody>\n",
       "    <tr>\n",
       "      <th>0</th>\n",
       "      <td>1</td>\n",
       "      <td>0.634215</td>\n",
       "      <td>10930</td>\n",
       "      <td>1</td>\n",
       "      <td>1</td>\n",
       "      <td>1</td>\n",
       "      <td>1</td>\n",
       "      <td>1</td>\n",
       "      <td>1</td>\n",
       "      <td>1</td>\n",
       "      <td>1</td>\n",
       "      <td>0</td>\n",
       "      <td>0</td>\n",
       "      <td>0</td>\n",
       "      <td>1</td>\n",
       "    </tr>\n",
       "    <tr>\n",
       "      <th>1</th>\n",
       "      <td>0</td>\n",
       "      <td>0.078562</td>\n",
       "      <td>2880</td>\n",
       "      <td>0</td>\n",
       "      <td>1</td>\n",
       "      <td>0</td>\n",
       "      <td>0</td>\n",
       "      <td>0</td>\n",
       "      <td>0</td>\n",
       "      <td>0</td>\n",
       "      <td>0</td>\n",
       "      <td>0</td>\n",
       "      <td>0</td>\n",
       "      <td>0</td>\n",
       "      <td>0</td>\n",
       "    </tr>\n",
       "    <tr>\n",
       "      <th>2</th>\n",
       "      <td>0</td>\n",
       "      <td>0.041117</td>\n",
       "      <td>10567</td>\n",
       "      <td>0</td>\n",
       "      <td>1</td>\n",
       "      <td>0</td>\n",
       "      <td>0</td>\n",
       "      <td>0</td>\n",
       "      <td>0</td>\n",
       "      <td>0</td>\n",
       "      <td>0</td>\n",
       "      <td>0</td>\n",
       "      <td>0</td>\n",
       "      <td>0</td>\n",
       "      <td>0</td>\n",
       "    </tr>\n",
       "    <tr>\n",
       "      <th>3</th>\n",
       "      <td>0</td>\n",
       "      <td>0.036142</td>\n",
       "      <td>2359</td>\n",
       "      <td>0</td>\n",
       "      <td>1</td>\n",
       "      <td>0</td>\n",
       "      <td>0</td>\n",
       "      <td>0</td>\n",
       "      <td>0</td>\n",
       "      <td>0</td>\n",
       "      <td>0</td>\n",
       "      <td>0</td>\n",
       "      <td>0</td>\n",
       "      <td>0</td>\n",
       "      <td>0</td>\n",
       "    </tr>\n",
       "    <tr>\n",
       "      <th>4</th>\n",
       "      <td>0</td>\n",
       "      <td>0.024806</td>\n",
       "      <td>13850</td>\n",
       "      <td>0</td>\n",
       "      <td>1</td>\n",
       "      <td>0</td>\n",
       "      <td>0</td>\n",
       "      <td>0</td>\n",
       "      <td>0</td>\n",
       "      <td>0</td>\n",
       "      <td>0</td>\n",
       "      <td>0</td>\n",
       "      <td>0</td>\n",
       "      <td>0</td>\n",
       "      <td>0</td>\n",
       "    </tr>\n",
       "  </tbody>\n",
       "</table>\n",
       "</div>"
      ],
      "text/plain": [
       "   Netgain  Netgain_Prob  UserID  predicted  0.0  0.1  0.2  0.3  0.4  0.5  \\\n",
       "0        1      0.634215   10930          1    1    1    1    1    1    1   \n",
       "1        0      0.078562    2880          0    1    0    0    0    0    0   \n",
       "2        0      0.041117   10567          0    1    0    0    0    0    0   \n",
       "3        0      0.036142    2359          0    1    0    0    0    0    0   \n",
       "4        0      0.024806   13850          0    1    0    0    0    0    0   \n",
       "\n",
       "   0.6  0.7  0.8  0.9  final_predicted  \n",
       "0    1    0    0    0                1  \n",
       "1    0    0    0    0                0  \n",
       "2    0    0    0    0                0  \n",
       "3    0    0    0    0                0  \n",
       "4    0    0    0    0                0  "
      ]
     },
     "execution_count": 253,
     "metadata": {},
     "output_type": "execute_result"
    }
   ],
   "source": [
    "y_train_pred_final['final_predicted'] = y_train_pred_final.Netgain_Prob.map( lambda x: 1 if x > 0.3 else 0)\n",
    "\n",
    "y_train_pred_final.head()"
   ]
  },
  {
   "cell_type": "code",
   "execution_count": 254,
   "metadata": {},
   "outputs": [
    {
     "data": {
      "text/plain": [
       "0.7602925045703839"
      ]
     },
     "execution_count": 254,
     "metadata": {},
     "output_type": "execute_result"
    }
   ],
   "source": [
    "# Let's check the overall accuracy.\n",
    "metrics.accuracy_score(y_train_pred_final.Netgain, y_train_pred_final.final_predicted)"
   ]
  },
  {
   "cell_type": "code",
   "execution_count": 255,
   "metadata": {},
   "outputs": [
    {
     "data": {
      "text/plain": [
       "array([[7783, 2624],\n",
       "       [ 654, 2614]], dtype=int64)"
      ]
     },
     "execution_count": 255,
     "metadata": {},
     "output_type": "execute_result"
    }
   ],
   "source": [
    "confusion2 = metrics.confusion_matrix(y_train_pred_final.Netgain, y_train_pred_final.final_predicted )\n",
    "confusion2"
   ]
  },
  {
   "cell_type": "code",
   "execution_count": 256,
   "metadata": {},
   "outputs": [],
   "source": [
    "from sklearn.metrics import precision_score, recall_score\n"
   ]
  },
  {
   "cell_type": "code",
   "execution_count": 257,
   "metadata": {},
   "outputs": [
    {
     "name": "stdout",
     "output_type": "stream",
     "text": [
      "0.6965986394557823\n",
      "0.31334149326805383\n"
     ]
    }
   ],
   "source": [
    "print(precision_score(y_train_pred_final.Netgain, y_train_pred_final.predicted))\n",
    "print(recall_score(y_train_pred_final.Netgain, y_train_pred_final.predicted))\n"
   ]
  },
  {
   "cell_type": "code",
   "execution_count": 258,
   "metadata": {},
   "outputs": [
    {
     "name": "stdout",
     "output_type": "stream",
     "text": [
      "0.42779999999999996\n"
     ]
    }
   ],
   "source": [
    "\n",
    "#  F1 = 2 * (precision * recall) / (precision + recall) \n",
    "F1_score = 2 *(0.69 * 0.31)/(0.69+0.31)\n",
    "print (F1_score)"
   ]
  },
  {
   "cell_type": "markdown",
   "metadata": {},
   "source": [
    "### Step 7: Making predictions on the test set"
   ]
  },
  {
   "cell_type": "code",
   "execution_count": 259,
   "metadata": {},
   "outputs": [
    {
     "name": "stderr",
     "output_type": "stream",
     "text": [
      "C:\\Users\\deepti\\anaconda3\\lib\\site-packages\\ipykernel_launcher.py:1: SettingWithCopyWarning: \n",
      "A value is trying to be set on a copy of a slice from a DataFrame.\n",
      "Try using .loc[row_indexer,col_indexer] = value instead\n",
      "\n",
      "See the caveats in the documentation: https://pandas.pydata.org/pandas-docs/stable/user_guide/indexing.html#returning-a-view-versus-a-copy\n",
      "  \"\"\"Entry point for launching an IPython kernel.\n",
      "C:\\Users\\deepti\\anaconda3\\lib\\site-packages\\pandas\\core\\indexing.py:965: SettingWithCopyWarning: \n",
      "A value is trying to be set on a copy of a slice from a DataFrame.\n",
      "Try using .loc[row_indexer,col_indexer] = value instead\n",
      "\n",
      "See the caveats in the documentation: https://pandas.pydata.org/pandas-docs/stable/user_guide/indexing.html#returning-a-view-versus-a-copy\n",
      "  self.obj[item] = s\n"
     ]
    },
    {
     "data": {
      "text/html": [
       "<div>\n",
       "<style scoped>\n",
       "    .dataframe tbody tr th:only-of-type {\n",
       "        vertical-align: middle;\n",
       "    }\n",
       "\n",
       "    .dataframe tbody tr th {\n",
       "        vertical-align: top;\n",
       "    }\n",
       "\n",
       "    .dataframe thead th {\n",
       "        text-align: right;\n",
       "    }\n",
       "</style>\n",
       "<table border=\"1\" class=\"dataframe\">\n",
       "  <thead>\n",
       "    <tr style=\"text-align: right;\">\n",
       "      <th></th>\n",
       "      <th>targeted_sex</th>\n",
       "      <th>average_runtime(minutes_per_week)</th>\n",
       "      <th>airlocation</th>\n",
       "      <th>ratings</th>\n",
       "      <th>money_back_guarantee</th>\n",
       "      <th>realtionship_status_Married-AF-spouse</th>\n",
       "      <th>realtionship_status_Married-civ-spouse</th>\n",
       "      <th>realtionship_status_Married-spouse-absent</th>\n",
       "      <th>realtionship_status_Never-married</th>\n",
       "      <th>realtionship_status_Separated</th>\n",
       "      <th>...</th>\n",
       "      <th>industry_Pharma</th>\n",
       "      <th>industry_Political</th>\n",
       "      <th>genre_Direct</th>\n",
       "      <th>genre_Drama</th>\n",
       "      <th>genre_Infomercial</th>\n",
       "      <th>genre_Other</th>\n",
       "      <th>expensive_Low</th>\n",
       "      <th>expensive_Medium</th>\n",
       "      <th>airtime_Morning</th>\n",
       "      <th>airtime_Primetime</th>\n",
       "    </tr>\n",
       "  </thead>\n",
       "  <tbody>\n",
       "    <tr>\n",
       "      <th>7786</th>\n",
       "      <td>1</td>\n",
       "      <td>0.769781</td>\n",
       "      <td>1</td>\n",
       "      <td>-0.151078</td>\n",
       "      <td>1</td>\n",
       "      <td>0</td>\n",
       "      <td>1</td>\n",
       "      <td>0</td>\n",
       "      <td>0</td>\n",
       "      <td>0</td>\n",
       "      <td>...</td>\n",
       "      <td>0</td>\n",
       "      <td>0</td>\n",
       "      <td>0</td>\n",
       "      <td>0</td>\n",
       "      <td>1</td>\n",
       "      <td>0</td>\n",
       "      <td>0</td>\n",
       "      <td>0</td>\n",
       "      <td>1</td>\n",
       "      <td>0</td>\n",
       "    </tr>\n",
       "    <tr>\n",
       "      <th>15394</th>\n",
       "      <td>0</td>\n",
       "      <td>0.769781</td>\n",
       "      <td>1</td>\n",
       "      <td>-0.151078</td>\n",
       "      <td>1</td>\n",
       "      <td>0</td>\n",
       "      <td>0</td>\n",
       "      <td>0</td>\n",
       "      <td>1</td>\n",
       "      <td>0</td>\n",
       "      <td>...</td>\n",
       "      <td>0</td>\n",
       "      <td>1</td>\n",
       "      <td>0</td>\n",
       "      <td>0</td>\n",
       "      <td>0</td>\n",
       "      <td>0</td>\n",
       "      <td>1</td>\n",
       "      <td>0</td>\n",
       "      <td>1</td>\n",
       "      <td>0</td>\n",
       "    </tr>\n",
       "    <tr>\n",
       "      <th>2234</th>\n",
       "      <td>1</td>\n",
       "      <td>-0.438349</td>\n",
       "      <td>1</td>\n",
       "      <td>-0.151078</td>\n",
       "      <td>1</td>\n",
       "      <td>0</td>\n",
       "      <td>0</td>\n",
       "      <td>0</td>\n",
       "      <td>1</td>\n",
       "      <td>0</td>\n",
       "      <td>...</td>\n",
       "      <td>0</td>\n",
       "      <td>0</td>\n",
       "      <td>0</td>\n",
       "      <td>0</td>\n",
       "      <td>0</td>\n",
       "      <td>0</td>\n",
       "      <td>1</td>\n",
       "      <td>0</td>\n",
       "      <td>1</td>\n",
       "      <td>0</td>\n",
       "    </tr>\n",
       "    <tr>\n",
       "      <th>2843</th>\n",
       "      <td>0</td>\n",
       "      <td>-0.035639</td>\n",
       "      <td>1</td>\n",
       "      <td>-0.151078</td>\n",
       "      <td>1</td>\n",
       "      <td>0</td>\n",
       "      <td>0</td>\n",
       "      <td>0</td>\n",
       "      <td>1</td>\n",
       "      <td>0</td>\n",
       "      <td>...</td>\n",
       "      <td>0</td>\n",
       "      <td>0</td>\n",
       "      <td>0</td>\n",
       "      <td>0</td>\n",
       "      <td>1</td>\n",
       "      <td>0</td>\n",
       "      <td>1</td>\n",
       "      <td>0</td>\n",
       "      <td>1</td>\n",
       "      <td>0</td>\n",
       "    </tr>\n",
       "    <tr>\n",
       "      <th>9872</th>\n",
       "      <td>1</td>\n",
       "      <td>0.608697</td>\n",
       "      <td>1</td>\n",
       "      <td>-0.151078</td>\n",
       "      <td>1</td>\n",
       "      <td>0</td>\n",
       "      <td>0</td>\n",
       "      <td>0</td>\n",
       "      <td>0</td>\n",
       "      <td>0</td>\n",
       "      <td>...</td>\n",
       "      <td>0</td>\n",
       "      <td>0</td>\n",
       "      <td>0</td>\n",
       "      <td>0</td>\n",
       "      <td>0</td>\n",
       "      <td>0</td>\n",
       "      <td>1</td>\n",
       "      <td>0</td>\n",
       "      <td>0</td>\n",
       "      <td>1</td>\n",
       "    </tr>\n",
       "  </tbody>\n",
       "</table>\n",
       "<p>5 rows × 24 columns</p>\n",
       "</div>"
      ],
      "text/plain": [
       "       targeted_sex  average_runtime(minutes_per_week)  airlocation   ratings  \\\n",
       "7786              1                           0.769781            1 -0.151078   \n",
       "15394             0                           0.769781            1 -0.151078   \n",
       "2234              1                          -0.438349            1 -0.151078   \n",
       "2843              0                          -0.035639            1 -0.151078   \n",
       "9872              1                           0.608697            1 -0.151078   \n",
       "\n",
       "       money_back_guarantee  realtionship_status_Married-AF-spouse  \\\n",
       "7786                      1                                      0   \n",
       "15394                     1                                      0   \n",
       "2234                      1                                      0   \n",
       "2843                      1                                      0   \n",
       "9872                      1                                      0   \n",
       "\n",
       "       realtionship_status_Married-civ-spouse  \\\n",
       "7786                                        1   \n",
       "15394                                       0   \n",
       "2234                                        0   \n",
       "2843                                        0   \n",
       "9872                                        0   \n",
       "\n",
       "       realtionship_status_Married-spouse-absent  \\\n",
       "7786                                           0   \n",
       "15394                                          0   \n",
       "2234                                           0   \n",
       "2843                                           0   \n",
       "9872                                           0   \n",
       "\n",
       "       realtionship_status_Never-married  realtionship_status_Separated  ...  \\\n",
       "7786                                   0                              0  ...   \n",
       "15394                                  1                              0  ...   \n",
       "2234                                   1                              0  ...   \n",
       "2843                                   1                              0  ...   \n",
       "9872                                   0                              0  ...   \n",
       "\n",
       "       industry_Pharma  industry_Political  genre_Direct  genre_Drama  \\\n",
       "7786                 0                   0             0            0   \n",
       "15394                0                   1             0            0   \n",
       "2234                 0                   0             0            0   \n",
       "2843                 0                   0             0            0   \n",
       "9872                 0                   0             0            0   \n",
       "\n",
       "       genre_Infomercial  genre_Other  expensive_Low  expensive_Medium  \\\n",
       "7786                   1            0              0                 0   \n",
       "15394                  0            0              1                 0   \n",
       "2234                   0            0              1                 0   \n",
       "2843                   1            0              1                 0   \n",
       "9872                   0            0              1                 0   \n",
       "\n",
       "       airtime_Morning  airtime_Primetime  \n",
       "7786                 1                  0  \n",
       "15394                1                  0  \n",
       "2234                 1                  0  \n",
       "2843                 1                  0  \n",
       "9872                 0                  1  \n",
       "\n",
       "[5 rows x 24 columns]"
      ]
     },
     "execution_count": 259,
     "metadata": {},
     "output_type": "execute_result"
    }
   ],
   "source": [
    "X_test[['average_runtime(minutes_per_week)','ratings']] = scaler.transform(X_test[['average_runtime(minutes_per_week)','ratings']])\n",
    "\n",
    "X_test.head()"
   ]
  },
  {
   "cell_type": "code",
   "execution_count": 260,
   "metadata": {},
   "outputs": [
    {
     "data": {
      "text/html": [
       "<div>\n",
       "<style scoped>\n",
       "    .dataframe tbody tr th:only-of-type {\n",
       "        vertical-align: middle;\n",
       "    }\n",
       "\n",
       "    .dataframe tbody tr th {\n",
       "        vertical-align: top;\n",
       "    }\n",
       "\n",
       "    .dataframe thead th {\n",
       "        text-align: right;\n",
       "    }\n",
       "</style>\n",
       "<table border=\"1\" class=\"dataframe\">\n",
       "  <thead>\n",
       "    <tr style=\"text-align: right;\">\n",
       "      <th></th>\n",
       "      <th>targeted_sex</th>\n",
       "      <th>average_runtime(minutes_per_week)</th>\n",
       "      <th>ratings</th>\n",
       "      <th>industry_Other</th>\n",
       "      <th>industry_Pharma</th>\n",
       "      <th>industry_Political</th>\n",
       "      <th>genre_Infomercial</th>\n",
       "      <th>airtime_Morning</th>\n",
       "      <th>airtime_Primetime</th>\n",
       "    </tr>\n",
       "  </thead>\n",
       "  <tbody>\n",
       "    <tr>\n",
       "      <th>7786</th>\n",
       "      <td>1</td>\n",
       "      <td>0.769781</td>\n",
       "      <td>-0.151078</td>\n",
       "      <td>1</td>\n",
       "      <td>0</td>\n",
       "      <td>0</td>\n",
       "      <td>1</td>\n",
       "      <td>1</td>\n",
       "      <td>0</td>\n",
       "    </tr>\n",
       "    <tr>\n",
       "      <th>15394</th>\n",
       "      <td>0</td>\n",
       "      <td>0.769781</td>\n",
       "      <td>-0.151078</td>\n",
       "      <td>0</td>\n",
       "      <td>0</td>\n",
       "      <td>1</td>\n",
       "      <td>0</td>\n",
       "      <td>1</td>\n",
       "      <td>0</td>\n",
       "    </tr>\n",
       "    <tr>\n",
       "      <th>2234</th>\n",
       "      <td>1</td>\n",
       "      <td>-0.438349</td>\n",
       "      <td>-0.151078</td>\n",
       "      <td>0</td>\n",
       "      <td>0</td>\n",
       "      <td>0</td>\n",
       "      <td>0</td>\n",
       "      <td>1</td>\n",
       "      <td>0</td>\n",
       "    </tr>\n",
       "    <tr>\n",
       "      <th>2843</th>\n",
       "      <td>0</td>\n",
       "      <td>-0.035639</td>\n",
       "      <td>-0.151078</td>\n",
       "      <td>0</td>\n",
       "      <td>0</td>\n",
       "      <td>0</td>\n",
       "      <td>1</td>\n",
       "      <td>1</td>\n",
       "      <td>0</td>\n",
       "    </tr>\n",
       "    <tr>\n",
       "      <th>9872</th>\n",
       "      <td>1</td>\n",
       "      <td>0.608697</td>\n",
       "      <td>-0.151078</td>\n",
       "      <td>0</td>\n",
       "      <td>0</td>\n",
       "      <td>0</td>\n",
       "      <td>0</td>\n",
       "      <td>0</td>\n",
       "      <td>1</td>\n",
       "    </tr>\n",
       "  </tbody>\n",
       "</table>\n",
       "</div>"
      ],
      "text/plain": [
       "       targeted_sex  average_runtime(minutes_per_week)   ratings  \\\n",
       "7786              1                           0.769781 -0.151078   \n",
       "15394             0                           0.769781 -0.151078   \n",
       "2234              1                          -0.438349 -0.151078   \n",
       "2843              0                          -0.035639 -0.151078   \n",
       "9872              1                           0.608697 -0.151078   \n",
       "\n",
       "       industry_Other  industry_Pharma  industry_Political  genre_Infomercial  \\\n",
       "7786                1                0                   0                  1   \n",
       "15394               0                0                   1                  0   \n",
       "2234                0                0                   0                  0   \n",
       "2843                0                0                   0                  1   \n",
       "9872                0                0                   0                  0   \n",
       "\n",
       "       airtime_Morning  airtime_Primetime  \n",
       "7786                 1                  0  \n",
       "15394                1                  0  \n",
       "2234                 1                  0  \n",
       "2843                 1                  0  \n",
       "9872                 0                  1  "
      ]
     },
     "execution_count": 260,
     "metadata": {},
     "output_type": "execute_result"
    }
   ],
   "source": [
    "X_test = X_test[col]\n",
    "X_test.head()"
   ]
  },
  {
   "cell_type": "code",
   "execution_count": 261,
   "metadata": {},
   "outputs": [],
   "source": [
    "X_test_sm = sm.add_constant(X_test)"
   ]
  },
  {
   "cell_type": "code",
   "execution_count": 262,
   "metadata": {},
   "outputs": [],
   "source": [
    "y_test_pred = res.predict(X_test_sm)"
   ]
  },
  {
   "cell_type": "code",
   "execution_count": 263,
   "metadata": {},
   "outputs": [
    {
     "data": {
      "text/html": [
       "<div>\n",
       "<style scoped>\n",
       "    .dataframe tbody tr th:only-of-type {\n",
       "        vertical-align: middle;\n",
       "    }\n",
       "\n",
       "    .dataframe tbody tr th {\n",
       "        vertical-align: top;\n",
       "    }\n",
       "\n",
       "    .dataframe thead th {\n",
       "        text-align: right;\n",
       "    }\n",
       "</style>\n",
       "<table border=\"1\" class=\"dataframe\">\n",
       "  <thead>\n",
       "    <tr style=\"text-align: right;\">\n",
       "      <th></th>\n",
       "      <th>0</th>\n",
       "    </tr>\n",
       "  </thead>\n",
       "  <tbody>\n",
       "    <tr>\n",
       "      <th>7786</th>\n",
       "      <td>0.204778</td>\n",
       "    </tr>\n",
       "    <tr>\n",
       "      <th>15394</th>\n",
       "      <td>0.021810</td>\n",
       "    </tr>\n",
       "    <tr>\n",
       "      <th>2234</th>\n",
       "      <td>0.023338</td>\n",
       "    </tr>\n",
       "    <tr>\n",
       "      <th>2843</th>\n",
       "      <td>0.022914</td>\n",
       "    </tr>\n",
       "    <tr>\n",
       "      <th>9872</th>\n",
       "      <td>0.097251</td>\n",
       "    </tr>\n",
       "  </tbody>\n",
       "</table>\n",
       "</div>"
      ],
      "text/plain": [
       "              0\n",
       "7786   0.204778\n",
       "15394  0.021810\n",
       "2234   0.023338\n",
       "2843   0.022914\n",
       "9872   0.097251"
      ]
     },
     "execution_count": 263,
     "metadata": {},
     "output_type": "execute_result"
    }
   ],
   "source": [
    "# Converting y_pred to a dataframe which is an array\n",
    "y_pred_1 = pd.DataFrame(y_test_pred)\n",
    "# Let's see the head\n",
    "y_pred_1.head()"
   ]
  },
  {
   "cell_type": "code",
   "execution_count": 264,
   "metadata": {},
   "outputs": [],
   "source": [
    "# Converting y_test to dataframe\n",
    "y_test_df = pd.DataFrame(y_test)"
   ]
  },
  {
   "cell_type": "code",
   "execution_count": 265,
   "metadata": {},
   "outputs": [],
   "source": [
    "# Putting CustID to index\n",
    "y_test_df['UserID'] = y_test_df.index"
   ]
  },
  {
   "cell_type": "code",
   "execution_count": 266,
   "metadata": {},
   "outputs": [],
   "source": [
    "# Removing index for both dataframes to append them side by side \n",
    "y_pred_1.reset_index(drop=True, inplace=True)\n",
    "y_test_df.reset_index(drop=True, inplace=True)"
   ]
  },
  {
   "cell_type": "code",
   "execution_count": 267,
   "metadata": {},
   "outputs": [
    {
     "data": {
      "text/html": [
       "<div>\n",
       "<style scoped>\n",
       "    .dataframe tbody tr th:only-of-type {\n",
       "        vertical-align: middle;\n",
       "    }\n",
       "\n",
       "    .dataframe tbody tr th {\n",
       "        vertical-align: top;\n",
       "    }\n",
       "\n",
       "    .dataframe thead th {\n",
       "        text-align: right;\n",
       "    }\n",
       "</style>\n",
       "<table border=\"1\" class=\"dataframe\">\n",
       "  <thead>\n",
       "    <tr style=\"text-align: right;\">\n",
       "      <th></th>\n",
       "      <th>netgain</th>\n",
       "      <th>UserID</th>\n",
       "      <th>0</th>\n",
       "    </tr>\n",
       "  </thead>\n",
       "  <tbody>\n",
       "    <tr>\n",
       "      <th>0</th>\n",
       "      <td>1</td>\n",
       "      <td>7786</td>\n",
       "      <td>0.204778</td>\n",
       "    </tr>\n",
       "    <tr>\n",
       "      <th>1</th>\n",
       "      <td>0</td>\n",
       "      <td>15394</td>\n",
       "      <td>0.021810</td>\n",
       "    </tr>\n",
       "    <tr>\n",
       "      <th>2</th>\n",
       "      <td>0</td>\n",
       "      <td>2234</td>\n",
       "      <td>0.023338</td>\n",
       "    </tr>\n",
       "    <tr>\n",
       "      <th>3</th>\n",
       "      <td>0</td>\n",
       "      <td>2843</td>\n",
       "      <td>0.022914</td>\n",
       "    </tr>\n",
       "    <tr>\n",
       "      <th>4</th>\n",
       "      <td>0</td>\n",
       "      <td>9872</td>\n",
       "      <td>0.097251</td>\n",
       "    </tr>\n",
       "  </tbody>\n",
       "</table>\n",
       "</div>"
      ],
      "text/plain": [
       "   netgain  UserID         0\n",
       "0        1    7786  0.204778\n",
       "1        0   15394  0.021810\n",
       "2        0    2234  0.023338\n",
       "3        0    2843  0.022914\n",
       "4        0    9872  0.097251"
      ]
     },
     "execution_count": 267,
     "metadata": {},
     "output_type": "execute_result"
    }
   ],
   "source": [
    "# Appending y_test_df and y_pred_1\n",
    "y_pred_final = pd.concat([y_test_df, y_pred_1],axis=1)\n",
    "y_pred_final.head()"
   ]
  },
  {
   "cell_type": "code",
   "execution_count": 268,
   "metadata": {},
   "outputs": [],
   "source": [
    "# Renaming the column \n",
    "y_pred_final= y_pred_final.rename(columns={ 0 : 'Netgain_Prob'})"
   ]
  },
  {
   "cell_type": "code",
   "execution_count": 269,
   "metadata": {},
   "outputs": [],
   "source": [
    "# Rearranging the columns\n",
    "y_pred_final = y_pred_final[['UserID','netgain','Netgain_Prob']]"
   ]
  },
  {
   "cell_type": "code",
   "execution_count": 270,
   "metadata": {},
   "outputs": [
    {
     "data": {
      "text/html": [
       "<div>\n",
       "<style scoped>\n",
       "    .dataframe tbody tr th:only-of-type {\n",
       "        vertical-align: middle;\n",
       "    }\n",
       "\n",
       "    .dataframe tbody tr th {\n",
       "        vertical-align: top;\n",
       "    }\n",
       "\n",
       "    .dataframe thead th {\n",
       "        text-align: right;\n",
       "    }\n",
       "</style>\n",
       "<table border=\"1\" class=\"dataframe\">\n",
       "  <thead>\n",
       "    <tr style=\"text-align: right;\">\n",
       "      <th></th>\n",
       "      <th>UserID</th>\n",
       "      <th>netgain</th>\n",
       "      <th>Netgain_Prob</th>\n",
       "    </tr>\n",
       "  </thead>\n",
       "  <tbody>\n",
       "    <tr>\n",
       "      <th>0</th>\n",
       "      <td>7786</td>\n",
       "      <td>1</td>\n",
       "      <td>0.204778</td>\n",
       "    </tr>\n",
       "    <tr>\n",
       "      <th>1</th>\n",
       "      <td>15394</td>\n",
       "      <td>0</td>\n",
       "      <td>0.021810</td>\n",
       "    </tr>\n",
       "    <tr>\n",
       "      <th>2</th>\n",
       "      <td>2234</td>\n",
       "      <td>0</td>\n",
       "      <td>0.023338</td>\n",
       "    </tr>\n",
       "    <tr>\n",
       "      <th>3</th>\n",
       "      <td>2843</td>\n",
       "      <td>0</td>\n",
       "      <td>0.022914</td>\n",
       "    </tr>\n",
       "    <tr>\n",
       "      <th>4</th>\n",
       "      <td>9872</td>\n",
       "      <td>0</td>\n",
       "      <td>0.097251</td>\n",
       "    </tr>\n",
       "  </tbody>\n",
       "</table>\n",
       "</div>"
      ],
      "text/plain": [
       "   UserID  netgain  Netgain_Prob\n",
       "0    7786        1      0.204778\n",
       "1   15394        0      0.021810\n",
       "2    2234        0      0.023338\n",
       "3    2843        0      0.022914\n",
       "4    9872        0      0.097251"
      ]
     },
     "execution_count": 270,
     "metadata": {},
     "output_type": "execute_result"
    }
   ],
   "source": [
    "# Let's see the head of y_pred_final\n",
    "y_pred_final.head()"
   ]
  },
  {
   "cell_type": "code",
   "execution_count": 271,
   "metadata": {},
   "outputs": [],
   "source": [
    "y_pred_final['final_predicted'] = y_pred_final.Netgain_Prob.map(lambda x: 1 if x > 0.3 else 0)"
   ]
  },
  {
   "cell_type": "code",
   "execution_count": 272,
   "metadata": {},
   "outputs": [
    {
     "data": {
      "text/html": [
       "<div>\n",
       "<style scoped>\n",
       "    .dataframe tbody tr th:only-of-type {\n",
       "        vertical-align: middle;\n",
       "    }\n",
       "\n",
       "    .dataframe tbody tr th {\n",
       "        vertical-align: top;\n",
       "    }\n",
       "\n",
       "    .dataframe thead th {\n",
       "        text-align: right;\n",
       "    }\n",
       "</style>\n",
       "<table border=\"1\" class=\"dataframe\">\n",
       "  <thead>\n",
       "    <tr style=\"text-align: right;\">\n",
       "      <th></th>\n",
       "      <th>UserID</th>\n",
       "      <th>netgain</th>\n",
       "      <th>Netgain_Prob</th>\n",
       "      <th>final_predicted</th>\n",
       "    </tr>\n",
       "  </thead>\n",
       "  <tbody>\n",
       "    <tr>\n",
       "      <th>0</th>\n",
       "      <td>7786</td>\n",
       "      <td>1</td>\n",
       "      <td>0.204778</td>\n",
       "      <td>0</td>\n",
       "    </tr>\n",
       "    <tr>\n",
       "      <th>1</th>\n",
       "      <td>15394</td>\n",
       "      <td>0</td>\n",
       "      <td>0.021810</td>\n",
       "      <td>0</td>\n",
       "    </tr>\n",
       "    <tr>\n",
       "      <th>2</th>\n",
       "      <td>2234</td>\n",
       "      <td>0</td>\n",
       "      <td>0.023338</td>\n",
       "      <td>0</td>\n",
       "    </tr>\n",
       "    <tr>\n",
       "      <th>3</th>\n",
       "      <td>2843</td>\n",
       "      <td>0</td>\n",
       "      <td>0.022914</td>\n",
       "      <td>0</td>\n",
       "    </tr>\n",
       "    <tr>\n",
       "      <th>4</th>\n",
       "      <td>9872</td>\n",
       "      <td>0</td>\n",
       "      <td>0.097251</td>\n",
       "      <td>0</td>\n",
       "    </tr>\n",
       "  </tbody>\n",
       "</table>\n",
       "</div>"
      ],
      "text/plain": [
       "   UserID  netgain  Netgain_Prob  final_predicted\n",
       "0    7786        1      0.204778                0\n",
       "1   15394        0      0.021810                0\n",
       "2    2234        0      0.023338                0\n",
       "3    2843        0      0.022914                0\n",
       "4    9872        0      0.097251                0"
      ]
     },
     "execution_count": 272,
     "metadata": {},
     "output_type": "execute_result"
    }
   ],
   "source": [
    "y_pred_final.head()"
   ]
  },
  {
   "cell_type": "code",
   "execution_count": 273,
   "metadata": {},
   "outputs": [
    {
     "data": {
      "text/plain": [
       "0.7734175055451288"
      ]
     },
     "execution_count": 273,
     "metadata": {},
     "output_type": "execute_result"
    }
   ],
   "source": [
    "# Let's check the overall accuracy.\n",
    "metrics.accuracy_score(y_pred_final.netgain, y_pred_final.final_predicted)"
   ]
  },
  {
   "cell_type": "code",
   "execution_count": 274,
   "metadata": {},
   "outputs": [
    {
     "name": "stdout",
     "output_type": "stream",
     "text": [
      "0.5123287671232877\n",
      "0.8118668596237337\n"
     ]
    }
   ],
   "source": [
    "print(precision_score(y_pred_final.netgain, y_pred_final.final_predicted))\n",
    "print(recall_score(y_pred_final.netgain, y_pred_final.final_predicted))"
   ]
  },
  {
   "cell_type": "code",
   "execution_count": 275,
   "metadata": {},
   "outputs": [
    {
     "name": "stdout",
     "output_type": "stream",
     "text": [
      "0.6259090909090909\n"
     ]
    }
   ],
   "source": [
    "#  F1 = 2 * (precision * recall) / (precision + recall) \n",
    "F1_score = 2 *(0.51 * 0.81)/(0.51 + 0.81)\n",
    "print (F1_score)"
   ]
  },
  {
   "cell_type": "markdown",
   "metadata": {},
   "source": [
    "## DECISION TREE"
   ]
  },
  {
   "cell_type": "code",
   "execution_count": 276,
   "metadata": {},
   "outputs": [],
   "source": [
    "X_train, X_test, y_train, y_test = train_test_split(X, y, train_size=0.7, random_state=100)"
   ]
  },
  {
   "cell_type": "code",
   "execution_count": 277,
   "metadata": {},
   "outputs": [
    {
     "data": {
      "text/plain": [
       "((13675, 24), (5861, 24))"
      ]
     },
     "execution_count": 277,
     "metadata": {},
     "output_type": "execute_result"
    }
   ],
   "source": [
    "X_train.shape, X_test.shape"
   ]
  },
  {
   "cell_type": "code",
   "execution_count": 278,
   "metadata": {},
   "outputs": [],
   "source": [
    "from sklearn.tree import DecisionTreeClassifier"
   ]
  },
  {
   "cell_type": "code",
   "execution_count": 279,
   "metadata": {},
   "outputs": [],
   "source": [
    "dt_base = DecisionTreeClassifier(random_state=42, max_depth=4)"
   ]
  },
  {
   "cell_type": "code",
   "execution_count": 280,
   "metadata": {},
   "outputs": [
    {
     "data": {
      "text/plain": [
       "DecisionTreeClassifier(ccp_alpha=0.0, class_weight=None, criterion='gini',\n",
       "                       max_depth=4, max_features=None, max_leaf_nodes=None,\n",
       "                       min_impurity_decrease=0.0, min_impurity_split=None,\n",
       "                       min_samples_leaf=1, min_samples_split=2,\n",
       "                       min_weight_fraction_leaf=0.0, presort='deprecated',\n",
       "                       random_state=42, splitter='best')"
      ]
     },
     "execution_count": 280,
     "metadata": {},
     "output_type": "execute_result"
    }
   ],
   "source": [
    "dt_base.fit(X_train, y_train)"
   ]
  },
  {
   "cell_type": "code",
   "execution_count": 281,
   "metadata": {},
   "outputs": [],
   "source": [
    "y_train_pred = dt_base.predict(X_train)\n",
    "y_test_pred = dt_base.predict(X_test)"
   ]
  },
  {
   "cell_type": "code",
   "execution_count": 282,
   "metadata": {},
   "outputs": [],
   "source": [
    "from sklearn.metrics import classification_report"
   ]
  },
  {
   "cell_type": "code",
   "execution_count": 283,
   "metadata": {},
   "outputs": [
    {
     "name": "stdout",
     "output_type": "stream",
     "text": [
      "              precision    recall  f1-score   support\n",
      "\n",
      "           0       0.85      0.92      0.88     10407\n",
      "           1       0.66      0.47      0.55      3268\n",
      "\n",
      "    accuracy                           0.82     13675\n",
      "   macro avg       0.75      0.70      0.72     13675\n",
      "weighted avg       0.80      0.82      0.80     13675\n",
      "\n"
     ]
    }
   ],
   "source": [
    "print(classification_report(y_train, y_train_pred))"
   ]
  },
  {
   "cell_type": "code",
   "execution_count": 284,
   "metadata": {},
   "outputs": [
    {
     "name": "stdout",
     "output_type": "stream",
     "text": [
      "              precision    recall  f1-score   support\n",
      "\n",
      "           0       0.85      0.92      0.88      4479\n",
      "           1       0.65      0.47      0.54      1382\n",
      "\n",
      "    accuracy                           0.82      5861\n",
      "   macro avg       0.75      0.69      0.71      5861\n",
      "weighted avg       0.80      0.82      0.80      5861\n",
      "\n"
     ]
    }
   ],
   "source": [
    "print(classification_report(y_test, y_test_pred))"
   ]
  },
  {
   "cell_type": "markdown",
   "metadata": {},
   "source": [
    "## PREDICTION ON THE TEST DATA"
   ]
  },
  {
   "cell_type": "code",
   "execution_count": 301,
   "metadata": {},
   "outputs": [],
   "source": [
    "#for lead source\n",
    "impute_list = ['International','Philippines','Germany','Cuba','Canada','Puerto-Rico','El-Salvador','India','England','Italy','Guatemala','South','Dominican-Republic','Poland','Jamaica','Vietnam','Columbia','Japan','China','Iran','Taiwan','Haiti','Ecuador','Nicaragua','Portugal','Peru','France','Yugoslavia','Trinadad&Tobago','Ireland','Hong','Laos','Cambodia',\n",
    "'Greece','Honduras','Mexico',\n",
    "'Thailand','Hungary','Outlying-US(Guam-USVI-etc)','Scotland','Holand-Netherlands']\n",
    "\n",
    "for i in impute_list:\n",
    "    df_test['airlocation'].replace(to_replace=i,value='other',inplace=True)"
   ]
  },
  {
   "cell_type": "code",
   "execution_count": 302,
   "metadata": {},
   "outputs": [],
   "source": [
    "# There are three binary variables. Lets map them with 0 and 1\n",
    "\n",
    "df_test['money_back_guarantee'] = df_test['money_back_guarantee'].map({'Yes' :1 ,'No':0})\n",
    "df_test['targeted_sex'] = df_test['targeted_sex'].map({'Female' :1 ,'Male':0})\n",
    "df_test['airlocation'] = df_test['airlocation'].map({'United-States' :1 ,'other':0})"
   ]
  },
  {
   "cell_type": "code",
   "execution_count": 303,
   "metadata": {},
   "outputs": [],
   "source": [
    "# Creating a dummy variable for some of the categorical variables and dropping the first one.\n",
    "dummy1 = pd.get_dummies(df_test[['realtionship_status', 'industry', 'genre', 'expensive','airtime']], drop_first=True)\n",
    "\n",
    "# Adding the results to the master dataframe\n",
    "df_test = pd.concat([df_test, dummy1], axis=1)"
   ]
  },
  {
   "cell_type": "code",
   "execution_count": 304,
   "metadata": {},
   "outputs": [],
   "source": [
    "# We have created dummies for the below variables, so we can drop them\n",
    "df_test = df_test.drop(['realtionship_status', 'industry', 'genre', 'expensive','airtime'], 1)"
   ]
  },
  {
   "cell_type": "code",
   "execution_count": 305,
   "metadata": {},
   "outputs": [],
   "source": [
    "X_test1=df_test[['targeted_sex', 'average_runtime(minutes_per_week)', 'airlocation',\n",
    "       'ratings', 'money_back_guarantee',\n",
    "       'realtionship_status_Married-AF-spouse',\n",
    "       'realtionship_status_Married-civ-spouse',\n",
    "       'realtionship_status_Married-spouse-absent',\n",
    "       'realtionship_status_Never-married', 'realtionship_status_Separated',\n",
    "       'realtionship_status_Widowed', 'industry_ClassAction',\n",
    "       'industry_Entertainment', 'industry_Other', 'industry_Pharma',\n",
    "       'industry_Political', 'genre_Direct', 'genre_Drama',\n",
    "       'genre_Infomercial', 'genre_Other', 'expensive_Low', 'expensive_Medium',\n",
    "       'airtime_Morning', 'airtime_Primetime']]"
   ]
  },
  {
   "cell_type": "code",
   "execution_count": 306,
   "metadata": {},
   "outputs": [
    {
     "name": "stderr",
     "output_type": "stream",
     "text": [
      "C:\\Users\\deepti\\anaconda3\\lib\\site-packages\\ipykernel_launcher.py:1: SettingWithCopyWarning: \n",
      "A value is trying to be set on a copy of a slice from a DataFrame.\n",
      "Try using .loc[row_indexer,col_indexer] = value instead\n",
      "\n",
      "See the caveats in the documentation: https://pandas.pydata.org/pandas-docs/stable/user_guide/indexing.html#returning-a-view-versus-a-copy\n",
      "  \"\"\"Entry point for launching an IPython kernel.\n",
      "C:\\Users\\deepti\\anaconda3\\lib\\site-packages\\pandas\\core\\indexing.py:965: SettingWithCopyWarning: \n",
      "A value is trying to be set on a copy of a slice from a DataFrame.\n",
      "Try using .loc[row_indexer,col_indexer] = value instead\n",
      "\n",
      "See the caveats in the documentation: https://pandas.pydata.org/pandas-docs/stable/user_guide/indexing.html#returning-a-view-versus-a-copy\n",
      "  self.obj[item] = s\n"
     ]
    },
    {
     "data": {
      "text/html": [
       "<div>\n",
       "<style scoped>\n",
       "    .dataframe tbody tr th:only-of-type {\n",
       "        vertical-align: middle;\n",
       "    }\n",
       "\n",
       "    .dataframe tbody tr th {\n",
       "        vertical-align: top;\n",
       "    }\n",
       "\n",
       "    .dataframe thead th {\n",
       "        text-align: right;\n",
       "    }\n",
       "</style>\n",
       "<table border=\"1\" class=\"dataframe\">\n",
       "  <thead>\n",
       "    <tr style=\"text-align: right;\">\n",
       "      <th></th>\n",
       "      <th>targeted_sex</th>\n",
       "      <th>average_runtime(minutes_per_week)</th>\n",
       "      <th>airlocation</th>\n",
       "      <th>ratings</th>\n",
       "      <th>money_back_guarantee</th>\n",
       "      <th>realtionship_status_Married-AF-spouse</th>\n",
       "      <th>realtionship_status_Married-civ-spouse</th>\n",
       "      <th>realtionship_status_Married-spouse-absent</th>\n",
       "      <th>realtionship_status_Never-married</th>\n",
       "      <th>realtionship_status_Separated</th>\n",
       "      <th>...</th>\n",
       "      <th>industry_Pharma</th>\n",
       "      <th>industry_Political</th>\n",
       "      <th>genre_Direct</th>\n",
       "      <th>genre_Drama</th>\n",
       "      <th>genre_Infomercial</th>\n",
       "      <th>genre_Other</th>\n",
       "      <th>expensive_Low</th>\n",
       "      <th>expensive_Medium</th>\n",
       "      <th>airtime_Morning</th>\n",
       "      <th>airtime_Primetime</th>\n",
       "    </tr>\n",
       "  </thead>\n",
       "  <tbody>\n",
       "    <tr>\n",
       "      <th>0</th>\n",
       "      <td>1</td>\n",
       "      <td>-0.035639</td>\n",
       "      <td>1</td>\n",
       "      <td>-0.151078</td>\n",
       "      <td>1</td>\n",
       "      <td>0</td>\n",
       "      <td>0</td>\n",
       "      <td>0</td>\n",
       "      <td>1</td>\n",
       "      <td>0</td>\n",
       "      <td>...</td>\n",
       "      <td>0</td>\n",
       "      <td>0</td>\n",
       "      <td>0</td>\n",
       "      <td>0</td>\n",
       "      <td>1</td>\n",
       "      <td>0</td>\n",
       "      <td>0</td>\n",
       "      <td>0</td>\n",
       "      <td>0</td>\n",
       "      <td>1</td>\n",
       "    </tr>\n",
       "    <tr>\n",
       "      <th>1</th>\n",
       "      <td>1</td>\n",
       "      <td>-0.035639</td>\n",
       "      <td>1</td>\n",
       "      <td>-0.151078</td>\n",
       "      <td>0</td>\n",
       "      <td>0</td>\n",
       "      <td>0</td>\n",
       "      <td>0</td>\n",
       "      <td>0</td>\n",
       "      <td>0</td>\n",
       "      <td>...</td>\n",
       "      <td>0</td>\n",
       "      <td>0</td>\n",
       "      <td>0</td>\n",
       "      <td>0</td>\n",
       "      <td>0</td>\n",
       "      <td>0</td>\n",
       "      <td>1</td>\n",
       "      <td>0</td>\n",
       "      <td>0</td>\n",
       "      <td>1</td>\n",
       "    </tr>\n",
       "    <tr>\n",
       "      <th>2</th>\n",
       "      <td>0</td>\n",
       "      <td>-0.035639</td>\n",
       "      <td>1</td>\n",
       "      <td>-0.151078</td>\n",
       "      <td>0</td>\n",
       "      <td>0</td>\n",
       "      <td>1</td>\n",
       "      <td>0</td>\n",
       "      <td>0</td>\n",
       "      <td>0</td>\n",
       "      <td>...</td>\n",
       "      <td>1</td>\n",
       "      <td>0</td>\n",
       "      <td>0</td>\n",
       "      <td>0</td>\n",
       "      <td>1</td>\n",
       "      <td>0</td>\n",
       "      <td>0</td>\n",
       "      <td>0</td>\n",
       "      <td>0</td>\n",
       "      <td>1</td>\n",
       "    </tr>\n",
       "    <tr>\n",
       "      <th>3</th>\n",
       "      <td>0</td>\n",
       "      <td>-0.841059</td>\n",
       "      <td>1</td>\n",
       "      <td>-0.151078</td>\n",
       "      <td>1</td>\n",
       "      <td>0</td>\n",
       "      <td>0</td>\n",
       "      <td>0</td>\n",
       "      <td>1</td>\n",
       "      <td>0</td>\n",
       "      <td>...</td>\n",
       "      <td>0</td>\n",
       "      <td>0</td>\n",
       "      <td>0</td>\n",
       "      <td>0</td>\n",
       "      <td>0</td>\n",
       "      <td>0</td>\n",
       "      <td>0</td>\n",
       "      <td>0</td>\n",
       "      <td>0</td>\n",
       "      <td>1</td>\n",
       "    </tr>\n",
       "    <tr>\n",
       "      <th>4</th>\n",
       "      <td>0</td>\n",
       "      <td>2.380621</td>\n",
       "      <td>1</td>\n",
       "      <td>-0.151078</td>\n",
       "      <td>0</td>\n",
       "      <td>0</td>\n",
       "      <td>0</td>\n",
       "      <td>0</td>\n",
       "      <td>1</td>\n",
       "      <td>0</td>\n",
       "      <td>...</td>\n",
       "      <td>0</td>\n",
       "      <td>1</td>\n",
       "      <td>0</td>\n",
       "      <td>0</td>\n",
       "      <td>0</td>\n",
       "      <td>0</td>\n",
       "      <td>1</td>\n",
       "      <td>0</td>\n",
       "      <td>1</td>\n",
       "      <td>0</td>\n",
       "    </tr>\n",
       "  </tbody>\n",
       "</table>\n",
       "<p>5 rows × 24 columns</p>\n",
       "</div>"
      ],
      "text/plain": [
       "   targeted_sex  average_runtime(minutes_per_week)  airlocation   ratings  \\\n",
       "0             1                          -0.035639            1 -0.151078   \n",
       "1             1                          -0.035639            1 -0.151078   \n",
       "2             0                          -0.035639            1 -0.151078   \n",
       "3             0                          -0.841059            1 -0.151078   \n",
       "4             0                           2.380621            1 -0.151078   \n",
       "\n",
       "   money_back_guarantee  realtionship_status_Married-AF-spouse  \\\n",
       "0                     1                                      0   \n",
       "1                     0                                      0   \n",
       "2                     0                                      0   \n",
       "3                     1                                      0   \n",
       "4                     0                                      0   \n",
       "\n",
       "   realtionship_status_Married-civ-spouse  \\\n",
       "0                                       0   \n",
       "1                                       0   \n",
       "2                                       1   \n",
       "3                                       0   \n",
       "4                                       0   \n",
       "\n",
       "   realtionship_status_Married-spouse-absent  \\\n",
       "0                                          0   \n",
       "1                                          0   \n",
       "2                                          0   \n",
       "3                                          0   \n",
       "4                                          0   \n",
       "\n",
       "   realtionship_status_Never-married  realtionship_status_Separated  ...  \\\n",
       "0                                  1                              0  ...   \n",
       "1                                  0                              0  ...   \n",
       "2                                  0                              0  ...   \n",
       "3                                  1                              0  ...   \n",
       "4                                  1                              0  ...   \n",
       "\n",
       "   industry_Pharma  industry_Political  genre_Direct  genre_Drama  \\\n",
       "0                0                   0             0            0   \n",
       "1                0                   0             0            0   \n",
       "2                1                   0             0            0   \n",
       "3                0                   0             0            0   \n",
       "4                0                   1             0            0   \n",
       "\n",
       "   genre_Infomercial  genre_Other  expensive_Low  expensive_Medium  \\\n",
       "0                  1            0              0                 0   \n",
       "1                  0            0              1                 0   \n",
       "2                  1            0              0                 0   \n",
       "3                  0            0              0                 0   \n",
       "4                  0            0              1                 0   \n",
       "\n",
       "   airtime_Morning  airtime_Primetime  \n",
       "0                0                  1  \n",
       "1                0                  1  \n",
       "2                0                  1  \n",
       "3                0                  1  \n",
       "4                1                  0  \n",
       "\n",
       "[5 rows x 24 columns]"
      ]
     },
     "execution_count": 306,
     "metadata": {},
     "output_type": "execute_result"
    }
   ],
   "source": [
    "X_test1[['average_runtime(minutes_per_week)','ratings']] = scaler.transform(X_test1[['average_runtime(minutes_per_week)','ratings']])\n",
    "\n",
    "X_test1.head()"
   ]
  },
  {
   "cell_type": "code",
   "execution_count": 307,
   "metadata": {},
   "outputs": [
    {
     "data": {
      "text/plain": [
       "targeted_sex                                 0\n",
       "average_runtime(minutes_per_week)            0\n",
       "airlocation                                  0\n",
       "ratings                                      0\n",
       "money_back_guarantee                         0\n",
       "realtionship_status_Married-AF-spouse        0\n",
       "realtionship_status_Married-civ-spouse       0\n",
       "realtionship_status_Married-spouse-absent    0\n",
       "realtionship_status_Never-married            0\n",
       "realtionship_status_Separated                0\n",
       "realtionship_status_Widowed                  0\n",
       "industry_ClassAction                         0\n",
       "industry_Entertainment                       0\n",
       "industry_Other                               0\n",
       "industry_Pharma                              0\n",
       "industry_Political                           0\n",
       "genre_Direct                                 0\n",
       "genre_Drama                                  0\n",
       "genre_Infomercial                            0\n",
       "genre_Other                                  0\n",
       "expensive_Low                                0\n",
       "expensive_Medium                             0\n",
       "airtime_Morning                              0\n",
       "airtime_Primetime                            0\n",
       "dtype: int64"
      ]
     },
     "execution_count": 307,
     "metadata": {},
     "output_type": "execute_result"
    }
   ],
   "source": [
    "X_test1.isnull().sum()"
   ]
  },
  {
   "cell_type": "code",
   "execution_count": 308,
   "metadata": {},
   "outputs": [],
   "source": [
    "\n",
    "ypred_rf = dt_rf.predict(X_test1)"
   ]
  },
  {
   "cell_type": "code",
   "execution_count": 309,
   "metadata": {},
   "outputs": [
    {
     "data": {
      "text/plain": [
       "array([0, 0, 0, ..., 0, 0, 0], dtype=int64)"
      ]
     },
     "execution_count": 309,
     "metadata": {},
     "output_type": "execute_result"
    }
   ],
   "source": [
    "\n",
    "ypred_rf"
   ]
  },
  {
   "cell_type": "code",
   "execution_count": 316,
   "metadata": {},
   "outputs": [
    {
     "data": {
      "text/html": [
       "<div>\n",
       "<style scoped>\n",
       "    .dataframe tbody tr th:only-of-type {\n",
       "        vertical-align: middle;\n",
       "    }\n",
       "\n",
       "    .dataframe tbody tr th {\n",
       "        vertical-align: top;\n",
       "    }\n",
       "\n",
       "    .dataframe thead th {\n",
       "        text-align: right;\n",
       "    }\n",
       "</style>\n",
       "<table border=\"1\" class=\"dataframe\">\n",
       "  <thead>\n",
       "    <tr style=\"text-align: right;\">\n",
       "      <th></th>\n",
       "      <th>0</th>\n",
       "    </tr>\n",
       "  </thead>\n",
       "  <tbody>\n",
       "    <tr>\n",
       "      <th>0</th>\n",
       "      <td>0</td>\n",
       "    </tr>\n",
       "    <tr>\n",
       "      <th>1</th>\n",
       "      <td>0</td>\n",
       "    </tr>\n",
       "    <tr>\n",
       "      <th>2</th>\n",
       "      <td>0</td>\n",
       "    </tr>\n",
       "    <tr>\n",
       "      <th>3</th>\n",
       "      <td>1</td>\n",
       "    </tr>\n",
       "    <tr>\n",
       "      <th>4</th>\n",
       "      <td>0</td>\n",
       "    </tr>\n",
       "  </tbody>\n",
       "</table>\n",
       "</div>"
      ],
      "text/plain": [
       "   0\n",
       "0  0\n",
       "1  0\n",
       "2  0\n",
       "3  1\n",
       "4  0"
      ]
     },
     "execution_count": 316,
     "metadata": {},
     "output_type": "execute_result"
    }
   ],
   "source": [
    "# Converting y_pred to a dataframe which is an array\n",
    "y_pred_1 = pd.DataFrame(ypred_rf)\n",
    "# Let's see the head\n",
    "y_pred_1.head()"
   ]
  },
  {
   "cell_type": "code",
   "execution_count": 318,
   "metadata": {},
   "outputs": [],
   "source": [
    "# Renaming the column \n",
    "y_pred_1= y_pred_1.rename(columns={ 0 : 'netgain'})"
   ]
  },
  {
   "cell_type": "code",
   "execution_count": 319,
   "metadata": {},
   "outputs": [
    {
     "data": {
      "text/html": [
       "<div>\n",
       "<style scoped>\n",
       "    .dataframe tbody tr th:only-of-type {\n",
       "        vertical-align: middle;\n",
       "    }\n",
       "\n",
       "    .dataframe tbody tr th {\n",
       "        vertical-align: top;\n",
       "    }\n",
       "\n",
       "    .dataframe thead th {\n",
       "        text-align: right;\n",
       "    }\n",
       "</style>\n",
       "<table border=\"1\" class=\"dataframe\">\n",
       "  <thead>\n",
       "    <tr style=\"text-align: right;\">\n",
       "      <th></th>\n",
       "      <th>netgain</th>\n",
       "    </tr>\n",
       "  </thead>\n",
       "  <tbody>\n",
       "    <tr>\n",
       "      <th>0</th>\n",
       "      <td>0</td>\n",
       "    </tr>\n",
       "    <tr>\n",
       "      <th>1</th>\n",
       "      <td>0</td>\n",
       "    </tr>\n",
       "    <tr>\n",
       "      <th>2</th>\n",
       "      <td>0</td>\n",
       "    </tr>\n",
       "    <tr>\n",
       "      <th>3</th>\n",
       "      <td>1</td>\n",
       "    </tr>\n",
       "    <tr>\n",
       "      <th>4</th>\n",
       "      <td>0</td>\n",
       "    </tr>\n",
       "  </tbody>\n",
       "</table>\n",
       "</div>"
      ],
      "text/plain": [
       "   netgain\n",
       "0        0\n",
       "1        0\n",
       "2        0\n",
       "3        1\n",
       "4        0"
      ]
     },
     "execution_count": 319,
     "metadata": {},
     "output_type": "execute_result"
    }
   ],
   "source": [
    "y_pred_1.head()"
   ]
  },
  {
   "cell_type": "code",
   "execution_count": 321,
   "metadata": {},
   "outputs": [
    {
     "name": "stdout",
     "output_type": "stream",
     "text": [
      "Empty DataFrame\n",
      "Columns: []\n",
      "Index: [0, 0, 0, 1, 0, 0, 0, 1, 0, 0, 0, 0, 0, 0, 0, 0, 0, 0, 0, 0, 0, 0, 0, 0, 0, 1, 0, 0, 0, 0, 0, 0, 1, 0, 0, 0, 0, 0, 0, 0, 0, 0, 0, 0, 0, 0, 0, 0, 0, 0, 0, 0, 0, 0, 0, 0, 0, 0, 1, 0, 0, 0, 1, 0, 0, 0, 0, 0, 1, 0, 0, 0, 0, 0, 0, 0, 0, 0, 0, 0, 0, 0, 0, 0, 0, 0, 0, 0, 0, 1, 0, 1, 0, 1, 0, 0, 1, 0, 0, 1, ...]\n",
      "\n",
      "[6512 rows x 0 columns]\n"
     ]
    }
   ],
   "source": [
    "y_pred_1.set_index('netgain', inplace=True)\n",
    "print (y_pred_1)"
   ]
  },
  {
   "cell_type": "code",
   "execution_count": 322,
   "metadata": {},
   "outputs": [],
   "source": [
    "y_pred_1.to_csv(\"submission.csv\")"
   ]
  },
  {
   "cell_type": "code",
   "execution_count": null,
   "metadata": {},
   "outputs": [],
   "source": []
  }
 ],
 "metadata": {
  "kernelspec": {
   "display_name": "Python 3",
   "language": "python",
   "name": "python3"
  },
  "language_info": {
   "codemirror_mode": {
    "name": "ipython",
    "version": 3
   },
   "file_extension": ".py",
   "mimetype": "text/x-python",
   "name": "python",
   "nbconvert_exporter": "python",
   "pygments_lexer": "ipython3",
   "version": "3.8.5"
  }
 },
 "nbformat": 4,
 "nbformat_minor": 4
}
